{
 "cells": [
  {
   "cell_type": "code",
   "execution_count": 2,
   "id": "5e4ef4d7",
   "metadata": {},
   "outputs": [],
   "source": [
    "#1.\n",
    "\n",
    "def find_the_difference(s,t):\n",
    "    l=list(s)\n",
    "    m=list(t)\n",
    "    for i in m:\n",
    "        if i not in l:\n",
    "            return i"
   ]
  },
  {
   "cell_type": "code",
   "execution_count": 3,
   "id": "2001a65a",
   "metadata": {},
   "outputs": [
    {
     "data": {
      "text/plain": [
       "'e'"
      ]
     },
     "execution_count": 3,
     "metadata": {},
     "output_type": "execute_result"
    }
   ],
   "source": [
    "find_the_difference('abcd','abcde')"
   ]
  },
  {
   "cell_type": "code",
   "execution_count": 4,
   "id": "37e775ca",
   "metadata": {},
   "outputs": [
    {
     "data": {
      "text/plain": [
       "'y'"
      ]
     },
     "execution_count": 4,
     "metadata": {},
     "output_type": "execute_result"
    }
   ],
   "source": [
    "find_the_difference('','y')"
   ]
  },
  {
   "cell_type": "code",
   "execution_count": 1,
   "id": "7bf3259b",
   "metadata": {},
   "outputs": [],
   "source": [
    "#2. \n",
    "\n",
    "def count_datatypes(*args):\n",
    "    l=[int, str, bool, list, tuple, dict]\n",
    "    m=[0,0,0,0,0,0]\n",
    "    for i in args:\n",
    "        if type(i) in l:\n",
    "            for j in range(len(l)):\n",
    "                if type(i)==l[j]:\n",
    "                    m[j]=m[j]+1\n",
    "    return m"
   ]
  },
  {
   "cell_type": "code",
   "execution_count": 2,
   "id": "0f64ac00",
   "metadata": {},
   "outputs": [
    {
     "data": {
      "text/plain": [
       "[2, 1, 1, 0, 0, 0]"
      ]
     },
     "execution_count": 2,
     "metadata": {},
     "output_type": "execute_result"
    }
   ],
   "source": [
    "count_datatypes(1,45,'Hi',False)"
   ]
  },
  {
   "cell_type": "code",
   "execution_count": 3,
   "id": "0f7a63ee",
   "metadata": {},
   "outputs": [
    {
     "data": {
      "text/plain": [
       "[3, 0, 0, 1, 1, 0]"
      ]
     },
     "execution_count": 3,
     "metadata": {},
     "output_type": "execute_result"
    }
   ],
   "source": [
    "count_datatypes([10,20],('t','o'),2,3,1)"
   ]
  },
  {
   "cell_type": "code",
   "execution_count": 8,
   "id": "eeaa28f6",
   "metadata": {},
   "outputs": [],
   "source": [
    "#3\n",
    "\n",
    "def fib_str(n, l):\n",
    "    a=l[0]\n",
    "    b=l[1]\n",
    "    m=[]\n",
    "    for i in range(1,n+1):\n",
    "        m.append(a)\n",
    "        a,b=b,b+a\n",
    "    return m"
   ]
  },
  {
   "cell_type": "code",
   "execution_count": 9,
   "id": "6ab1d4a1",
   "metadata": {},
   "outputs": [
    {
     "data": {
      "text/plain": [
       "['e', 'a', 'ae', 'aea', 'aeaae']"
      ]
     },
     "execution_count": 9,
     "metadata": {},
     "output_type": "execute_result"
    }
   ],
   "source": [
    "fib_str(5,['e','a'])"
   ]
  },
  {
   "cell_type": "code",
   "execution_count": 16,
   "id": "227150a6",
   "metadata": {},
   "outputs": [],
   "source": [
    "#5\n",
    "\n",
    "def fib_at_n(n):\n",
    "    a=0\n",
    "    b=1\n",
    "    m=[]\n",
    "    for i in range(0,n+1):\n",
    "        m.append(a)\n",
    "        a,b=b,b+a\n",
    "    return m[-1]"
   ]
  },
  {
   "cell_type": "code",
   "execution_count": 17,
   "id": "fb4f40a5",
   "metadata": {},
   "outputs": [
    {
     "data": {
      "text/plain": [
       "8"
      ]
     },
     "execution_count": 17,
     "metadata": {},
     "output_type": "execute_result"
    }
   ],
   "source": [
    "fib_at_n(6)"
   ]
  },
  {
   "cell_type": "code",
   "execution_count": 5,
   "id": "068d347d",
   "metadata": {},
   "outputs": [],
   "source": [
    "#4. \n",
    "\n",
    "def ones_threes_nines(n):\n",
    "    x=n//9\n",
    "    n=n-(x*9)\n",
    "    y=n//3\n",
    "    n=n-(y*3)\n",
    "    z=n//1\n",
    "    return \"nines:{}, threes:{}, ones:{}\".format(x,y,z)\n",
    "    "
   ]
  },
  {
   "cell_type": "code",
   "execution_count": 6,
   "id": "76016d21",
   "metadata": {},
   "outputs": [
    {
     "data": {
      "text/plain": [
       "'nines:1, threes:0, ones:1'"
      ]
     },
     "execution_count": 6,
     "metadata": {},
     "output_type": "execute_result"
    }
   ],
   "source": [
    "ones_threes_nines(10)"
   ]
  },
  {
   "cell_type": "code",
   "execution_count": 7,
   "id": "bce6c72a",
   "metadata": {},
   "outputs": [
    {
     "data": {
      "text/plain": [
       "'nines:1, threes:2, ones:0'"
      ]
     },
     "execution_count": 7,
     "metadata": {},
     "output_type": "execute_result"
    }
   ],
   "source": [
    "ones_threes_nines(15)"
   ]
  },
  {
   "cell_type": "code",
   "execution_count": 8,
   "id": "4ad8341f",
   "metadata": {},
   "outputs": [
    {
     "data": {
      "text/plain": [
       "'nines:2, threes:1, ones:1'"
      ]
     },
     "execution_count": 8,
     "metadata": {},
     "output_type": "execute_result"
    }
   ],
   "source": [
    "ones_threes_nines(22)"
   ]
  },
  {
   "cell_type": "code",
   "execution_count": null,
   "id": "ba9c8271",
   "metadata": {},
   "outputs": [],
   "source": []
  }
 ],
 "metadata": {
  "kernelspec": {
   "display_name": "Python 3 (ipykernel)",
   "language": "python",
   "name": "python3"
  },
  "language_info": {
   "codemirror_mode": {
    "name": "ipython",
    "version": 3
   },
   "file_extension": ".py",
   "mimetype": "text/x-python",
   "name": "python",
   "nbconvert_exporter": "python",
   "pygments_lexer": "ipython3",
   "version": "3.9.7"
  }
 },
 "nbformat": 4,
 "nbformat_minor": 5
}
