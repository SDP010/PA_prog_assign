{
 "cells": [
  {
   "cell_type": "code",
   "execution_count": 6,
   "id": "f2887c75",
   "metadata": {},
   "outputs": [],
   "source": [
    "#1.\n",
    "\n",
    "def track_robot(l):\n",
    "    m=[]\n",
    "    for i in range(len(l)):\n",
    "        a=l[i].split(' ')\n",
    "        m.append(a)\n",
    "    x=[0,0]\n",
    "    for i in m:\n",
    "        if i[0]=='right':\n",
    "            x[0]=x[0]+int(i[1])\n",
    "        if i[0]=='left':\n",
    "            x[0]=x[0]-int(i[1])\n",
    "        if i[0]=='up':\n",
    "            x[1]=x[1]+int(i[1])\n",
    "        if i[0]=='down':\n",
    "            x[1]=x[1]-int(i[1])\n",
    "    return x"
   ]
  },
  {
   "cell_type": "code",
   "execution_count": 7,
   "id": "f0aae464",
   "metadata": {},
   "outputs": [
    {
     "data": {
      "text/plain": [
       "[-20, 40]"
      ]
     },
     "execution_count": 7,
     "metadata": {},
     "output_type": "execute_result"
    }
   ],
   "source": [
    "track_robot(['right 10','up 50','left 30','down 10'])"
   ]
  },
  {
   "cell_type": "code",
   "execution_count": 8,
   "id": "9b1d7b81",
   "metadata": {},
   "outputs": [
    {
     "data": {
      "text/plain": [
       "[0, 0]"
      ]
     },
     "execution_count": 8,
     "metadata": {},
     "output_type": "execute_result"
    }
   ],
   "source": [
    "track_robot([])"
   ]
  },
  {
   "cell_type": "code",
   "execution_count": 9,
   "id": "4ef1f647",
   "metadata": {},
   "outputs": [
    {
     "data": {
      "text/plain": [
       "[200, 10500]"
      ]
     },
     "execution_count": 9,
     "metadata": {},
     "output_type": "execute_result"
    }
   ],
   "source": [
    "track_robot(['right 100','right 100','up 500','up 10000'])"
   ]
  },
  {
   "cell_type": "code",
   "execution_count": 10,
   "id": "23f0e1cf",
   "metadata": {},
   "outputs": [],
   "source": [
    "#2.\n",
    "\n",
    "def find_longest(s):\n",
    "    l=s.split(' ')\n",
    "    l.sort(key=len)\n",
    "    return l[-1]"
   ]
  },
  {
   "cell_type": "code",
   "execution_count": 11,
   "id": "69798a8e",
   "metadata": {},
   "outputs": [
    {
     "data": {
      "text/plain": [
       "'forever.'"
      ]
     },
     "execution_count": 11,
     "metadata": {},
     "output_type": "execute_result"
    }
   ],
   "source": [
    "find_longest(\"A thing of beauty is a joy forever.\") "
   ]
  },
  {
   "cell_type": "code",
   "execution_count": 12,
   "id": "6e79f0c0",
   "metadata": {},
   "outputs": [
    {
     "data": {
      "text/plain": [
       "'Forgetfulness'"
      ]
     },
     "execution_count": 12,
     "metadata": {},
     "output_type": "execute_result"
    }
   ],
   "source": [
    "find_longest(\"Forgetfulness is by all means powerless!\") "
   ]
  },
  {
   "cell_type": "code",
   "execution_count": 17,
   "id": "680f0c4d",
   "metadata": {},
   "outputs": [],
   "source": [
    "#3.\n",
    "\n",
    "def interview(l,t):\n",
    "    if len(l)==8 and t<=120:\n",
    "        for i in range(2):\n",
    "            if l[i]>5:\n",
    "                return 'disqualified'\n",
    "        for i in range(2,4):\n",
    "            if l[i]>10:\n",
    "                return 'disqualified'\n",
    "        for i in range(4,6):\n",
    "            if l[i]>15:\n",
    "                return 'disqualified'\n",
    "        for i in range(6,8):\n",
    "            if l[i]>20:\n",
    "                return 'disqualified'\n",
    "        return 'qualified'\n",
    "    return 'disqualified'"
   ]
  },
  {
   "cell_type": "code",
   "execution_count": 14,
   "id": "fd587b1f",
   "metadata": {},
   "outputs": [
    {
     "data": {
      "text/plain": [
       "'qualified'"
      ]
     },
     "execution_count": 14,
     "metadata": {},
     "output_type": "execute_result"
    }
   ],
   "source": [
    "interview([2, 3, 8, 6, 5, 12, 10, 18], 64)"
   ]
  },
  {
   "cell_type": "code",
   "execution_count": 15,
   "id": "c65ef873",
   "metadata": {},
   "outputs": [
    {
     "data": {
      "text/plain": [
       "'qualified'"
      ]
     },
     "execution_count": 15,
     "metadata": {},
     "output_type": "execute_result"
    }
   ],
   "source": [
    "interview([5, 5, 10, 10, 15, 15, 20, 20], 120)"
   ]
  },
  {
   "cell_type": "code",
   "execution_count": 18,
   "id": "07c6e201",
   "metadata": {},
   "outputs": [
    {
     "data": {
      "text/plain": [
       "'disqualified'"
      ]
     },
     "execution_count": 18,
     "metadata": {},
     "output_type": "execute_result"
    }
   ],
   "source": [
    "interview([5, 5, 10, 10, 15, 15, 20, 20], 130)"
   ]
  },
  {
   "cell_type": "code",
   "execution_count": 19,
   "id": "eaee6ce9",
   "metadata": {},
   "outputs": [
    {
     "data": {
      "text/plain": [
       "'disqualified'"
      ]
     },
     "execution_count": 19,
     "metadata": {},
     "output_type": "execute_result"
    }
   ],
   "source": [
    "interview([5, 5, 10, 10, 15, 15, 20], 120)"
   ]
  },
  {
   "cell_type": "code",
   "execution_count": 20,
   "id": "9b69939b",
   "metadata": {},
   "outputs": [],
   "source": [
    "#4.\n",
    "\n",
    "def chunkify(l,n):\n",
    "    i=0\n",
    "    l1=[]\n",
    "    while i < len(l):\n",
    "        m=[]\n",
    "        for j in range(n):\n",
    "            if i+j<len(l):\n",
    "                m.append(l[i+j])\n",
    "            else:\n",
    "                pass\n",
    "        l1.append(m)\n",
    "        i=i+n\n",
    "    return l1"
   ]
  },
  {
   "cell_type": "code",
   "execution_count": 21,
   "id": "39e2766f",
   "metadata": {},
   "outputs": [
    {
     "data": {
      "text/plain": [
       "[[2, 3], [4, 5], [6]]"
      ]
     },
     "execution_count": 21,
     "metadata": {},
     "output_type": "execute_result"
    }
   ],
   "source": [
    "chunkify([2, 3, 4, 5, 6], 2)"
   ]
  },
  {
   "cell_type": "code",
   "execution_count": 22,
   "id": "e9bcf91d",
   "metadata": {},
   "outputs": [
    {
     "data": {
      "text/plain": [
       "[[2], [3], [4], [5], [6], [7]]"
      ]
     },
     "execution_count": 22,
     "metadata": {},
     "output_type": "execute_result"
    }
   ],
   "source": [
    "chunkify([2, 3, 4, 5, 6, 7], 1)"
   ]
  },
  {
   "cell_type": "code",
   "execution_count": 23,
   "id": "468cede9",
   "metadata": {},
   "outputs": [
    {
     "data": {
      "text/plain": [
       "[[2, 3, 4, 5, 6, 7]]"
      ]
     },
     "execution_count": 23,
     "metadata": {},
     "output_type": "execute_result"
    }
   ],
   "source": [
    "chunkify([2, 3, 4, 5, 6, 7], 7)"
   ]
  },
  {
   "cell_type": "code",
   "execution_count": 24,
   "id": "8559471b",
   "metadata": {},
   "outputs": [
    {
     "data": {
      "text/plain": [
       "[[2, 3, 4], [5, 6, 7]]"
      ]
     },
     "execution_count": 24,
     "metadata": {},
     "output_type": "execute_result"
    }
   ],
   "source": [
    "chunkify([2, 3, 4, 5, 6, 7], 3)"
   ]
  },
  {
   "cell_type": "code",
   "execution_count": 35,
   "id": "dac75ffa",
   "metadata": {},
   "outputs": [],
   "source": [
    "#5.\n",
    "\n",
    "def get_prices(l):\n",
    "    m=[]\n",
    "    for i in l:\n",
    "        j=i.split(' ')\n",
    "        m.append(j)\n",
    "    l1=[]\n",
    "    for i in m:\n",
    "        l1.append(float(i[-1][2:-1]))\n",
    "    return l1"
   ]
  },
  {
   "cell_type": "code",
   "execution_count": 36,
   "id": "19d81a84",
   "metadata": {},
   "outputs": [
    {
     "data": {
      "text/plain": [
       "[1.99, 5.99, 0.75]"
      ]
     },
     "execution_count": 36,
     "metadata": {},
     "output_type": "execute_result"
    }
   ],
   "source": [
    "get_prices([\n",
    "  \"artichokes ($1.99)\",\n",
    "  \"rotiserrie chicken ($5.99)\",\n",
    "  \"gum ($0.75)\"\n",
    "])\n"
   ]
  },
  {
   "cell_type": "code",
   "execution_count": 37,
   "id": "8cfb3cfb",
   "metadata": {},
   "outputs": [
    {
     "data": {
      "text/plain": [
       "[5.99, 0.2, 8.5, 1.99]"
      ]
     },
     "execution_count": 37,
     "metadata": {},
     "output_type": "execute_result"
    }
   ],
   "source": [
    "get_prices([\n",
    "  \"ice cream ($5.99)\",\n",
    "  \"banana ($0.20)\",\n",
    "  \"sandwich ($8.50)\",\n",
    "  \"soup ($1.99)\"\n",
    "])"
   ]
  },
  {
   "cell_type": "code",
   "execution_count": null,
   "id": "212a7e7a",
   "metadata": {},
   "outputs": [],
   "source": []
  }
 ],
 "metadata": {
  "kernelspec": {
   "display_name": "Python 3 (ipykernel)",
   "language": "python",
   "name": "python3"
  },
  "language_info": {
   "codemirror_mode": {
    "name": "ipython",
    "version": 3
   },
   "file_extension": ".py",
   "mimetype": "text/x-python",
   "name": "python",
   "nbconvert_exporter": "python",
   "pygments_lexer": "ipython3",
   "version": "3.9.7"
  }
 },
 "nbformat": 4,
 "nbformat_minor": 5
}
