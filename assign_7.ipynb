{
 "cells": [
  {
   "cell_type": "code",
   "execution_count": 1,
   "id": "f504ef49",
   "metadata": {},
   "outputs": [],
   "source": [
    "#1.\n",
    "\n",
    "def count_layers(l):\n",
    "    n=len(l)\n",
    "    return (n//2)+1"
   ]
  },
  {
   "cell_type": "code",
   "execution_count": 3,
   "id": "e5d6f481",
   "metadata": {},
   "outputs": [
    {
     "data": {
      "text/plain": [
       "5"
      ]
     },
     "execution_count": 3,
     "metadata": {},
     "output_type": "execute_result"
    }
   ],
   "source": [
    "count_layers([\n",
    "  \"AAAAAAAAAAA\",\n",
    "  \"AABBBBBBBAA\",\n",
    "  \"AABCCCCCBAA\",\n",
    "  \"AABCAAACBAA\",\n",
    "  \"AABCADACBAA\",\n",
    "  \"AABCAAACBAA\",\n",
    "  \"AABCCCCCBAA\",\n",
    "  \"AABBBBBBBAA\",\n",
    "  \"AAAAAAAAAAA\"\n",
    "]\n",
    ")"
   ]
  },
  {
   "cell_type": "code",
   "execution_count": 8,
   "id": "cec8ef9b",
   "metadata": {},
   "outputs": [
    {
     "data": {
      "text/plain": [
       "True"
      ]
     },
     "execution_count": 8,
     "metadata": {},
     "output_type": "execute_result"
    }
   ],
   "source": [
    "#2.\n",
    "\n",
    "def unique_style(l):\n",
    "    for i in range(len(l)):\n",
    "        l[i].split(',')\n",
    "        i=0\n",
    "    while i<len(l):\n",
    "        "
   ]
  },
  {
   "cell_type": "code",
   "execution_count": 9,
   "id": "d81fef98",
   "metadata": {},
   "outputs": [],
   "source": [
    "#4.\n",
    "\n",
    "def power_ranger(n,a,b):\n",
    "    count=0\n",
    "    for  i in range(a,b+1):\n",
    "        if i in [m**n for m in range(1,b+1)]:\n",
    "            count=count+1\n",
    "    return count"
   ]
  },
  {
   "cell_type": "code",
   "execution_count": 10,
   "id": "cb0867e5",
   "metadata": {},
   "outputs": [
    {
     "data": {
      "text/plain": [
       "2"
      ]
     },
     "execution_count": 10,
     "metadata": {},
     "output_type": "execute_result"
    }
   ],
   "source": [
    "power_ranger(2,49,65)"
   ]
  },
  {
   "cell_type": "code",
   "execution_count": 11,
   "id": "b30b3c33",
   "metadata": {},
   "outputs": [
    {
     "data": {
      "text/plain": [
       "3"
      ]
     },
     "execution_count": 11,
     "metadata": {},
     "output_type": "execute_result"
    }
   ],
   "source": [
    "power_ranger(4,250,1300)"
   ]
  },
  {
   "cell_type": "code",
   "execution_count": 29,
   "id": "e662711a",
   "metadata": {},
   "outputs": [],
   "source": [
    "#5.\n",
    "\n",
    "def rearranged_difference(n):\n",
    "    s=str(n)\n",
    "    l=list(s)\n",
    "    l.sort()\n",
    "    s1=''\n",
    "    s2=''\n",
    "    for i in l:\n",
    "        s1=s1+i\n",
    "    l.sort(reverse=True)\n",
    "    for i in l:\n",
    "        s2=s2+i\n",
    "    return int(s2)-int(s1)"
   ]
  },
  {
   "cell_type": "code",
   "execution_count": 30,
   "id": "50be3641",
   "metadata": {},
   "outputs": [
    {
     "data": {
      "text/plain": [
       "760833"
      ]
     },
     "execution_count": 30,
     "metadata": {},
     "output_type": "execute_result"
    }
   ],
   "source": [
    "rearranged_difference(972882)"
   ]
  },
  {
   "cell_type": "code",
   "execution_count": 31,
   "id": "8f603882",
   "metadata": {},
   "outputs": [
    {
     "data": {
      "text/plain": [
       "7709823"
      ]
     },
     "execution_count": 31,
     "metadata": {},
     "output_type": "execute_result"
    }
   ],
   "source": [
    "rearranged_difference(3320707)"
   ]
  },
  {
   "cell_type": "code",
   "execution_count": null,
   "id": "49e9cf66",
   "metadata": {},
   "outputs": [],
   "source": []
  },
  {
   "cell_type": "code",
   "execution_count": null,
   "id": "b42776a3",
   "metadata": {},
   "outputs": [],
   "source": []
  }
 ],
 "metadata": {
  "kernelspec": {
   "display_name": "Python 3 (ipykernel)",
   "language": "python",
   "name": "python3"
  },
  "language_info": {
   "codemirror_mode": {
    "name": "ipython",
    "version": 3
   },
   "file_extension": ".py",
   "mimetype": "text/x-python",
   "name": "python",
   "nbconvert_exporter": "python",
   "pygments_lexer": "ipython3",
   "version": "3.9.7"
  }
 },
 "nbformat": 4,
 "nbformat_minor": 5
}
