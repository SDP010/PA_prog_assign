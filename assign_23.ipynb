{
 "cells": [
  {
   "cell_type": "code",
   "execution_count": 1,
   "id": "19981572",
   "metadata": {},
   "outputs": [],
   "source": [
    "#1.\n",
    "\n",
    "class  Sudoku:\n",
    "    def __init__(self, string):\n",
    "        l=[]\n",
    "        for i in range(9):\n",
    "            m=[]\n",
    "            for j in range(9):\n",
    "                m.append(0)\n",
    "            l.append(m)\n",
    "        k=0\n",
    "        for i in range(9):\n",
    "            for j in range(9):\n",
    "                if k<len(string):\n",
    "                    l[i][j]=int(string[k])\n",
    "                    k=k+1\n",
    "        self.board=l\n",
    "    def get_row(self,n):\n",
    "        return self.board[n]\n",
    "    def get_col(self,n):\n",
    "        l=[]\n",
    "        for i in range(9):\n",
    "            l.append(self.board[i][n])\n",
    "        return l"
   ]
  },
  {
   "cell_type": "code",
   "execution_count": 2,
   "id": "b7ff576a",
   "metadata": {},
   "outputs": [
    {
     "data": {
      "text/plain": [
       "[[4, 1, 7, 9, 5, 0, 0, 3, 0],\n",
       " [0, 0, 0, 0, 0, 0, 7, 0, 0],\n",
       " [0, 6, 0, 0, 0, 7, 0, 0, 0],\n",
       " [0, 5, 0, 0, 0, 9, 1, 0, 6],\n",
       " [8, 0, 0, 6, 0, 0, 0, 0, 0],\n",
       " [0, 0, 0, 0, 0, 3, 4, 0, 0],\n",
       " [9, 0, 0, 0, 0, 5, 0, 0, 0],\n",
       " [0, 0, 0, 4, 3, 0, 0, 0, 0],\n",
       " [2, 0, 0, 7, 0, 1, 5, 8, 0]]"
      ]
     },
     "execution_count": 2,
     "metadata": {},
     "output_type": "execute_result"
    }
   ],
   "source": [
    "game = Sudoku(\"417950030000000700060007000050009106800600000000003400900005000000430000200701580\")\n",
    "game.board\n"
   ]
  },
  {
   "cell_type": "code",
   "execution_count": 3,
   "id": "6ec7a898",
   "metadata": {},
   "outputs": [
    {
     "data": {
      "text/plain": [
       "[4, 1, 7, 9, 5, 0, 0, 3, 0]"
      ]
     },
     "execution_count": 3,
     "metadata": {},
     "output_type": "execute_result"
    }
   ],
   "source": [
    "game.get_row(0)"
   ]
  },
  {
   "cell_type": "code",
   "execution_count": 4,
   "id": "321934dc",
   "metadata": {},
   "outputs": [
    {
     "data": {
      "text/plain": [
       "[0, 0, 0, 6, 0, 0, 0, 0, 0]"
      ]
     },
     "execution_count": 4,
     "metadata": {},
     "output_type": "execute_result"
    }
   ],
   "source": [
    "game.get_col(8)"
   ]
  },
  {
   "cell_type": "code",
   "execution_count": 23,
   "id": "c55e0532",
   "metadata": {},
   "outputs": [],
   "source": [
    "#2.\n",
    "\n",
    "class ListNode:\n",
    "    def __init__(self,val):\n",
    "        self.val=val\n",
    "    def add_data(self,l):\n",
    "        l.insert(0, self.val)\n",
    "        self.val=l\n",
    "    def get_data(self):\n",
    "        return self.val\n",
    "    \n",
    "class add_two_numbers:\n",
    "    def __init__(self, a,b):\n",
    "        l=a.get_data()\n",
    "        m=b.get_data()\n",
    "        sum1=0\n",
    "        for i in range(1,len(l)+1):\n",
    "            sum1=sum1+l[-i]*10**(len(l)-i)\n",
    "        sum2=0\n",
    "        for i in range(1,len(m)+1):\n",
    "            sum2=sum2+m[-i]*10**(len(m)-i)\n",
    "        self.a=sum1\n",
    "        self.b=sum2\n",
    "    def get_data(self):\n",
    "        n=self.a+self.b\n",
    "        l=[]\n",
    "        for i in range(1,len(str(n))+1):\n",
    "            l.append(int(str(n)[-i]))\n",
    "        return l"
   ]
  },
  {
   "cell_type": "code",
   "execution_count": 24,
   "id": "a4d47204",
   "metadata": {},
   "outputs": [],
   "source": [
    "it1=ListNode(2)\n",
    "it1.add_data([4,3])"
   ]
  },
  {
   "cell_type": "code",
   "execution_count": 25,
   "id": "bb2e682f",
   "metadata": {},
   "outputs": [
    {
     "data": {
      "text/plain": [
       "[2, 4, 3]"
      ]
     },
     "execution_count": 25,
     "metadata": {},
     "output_type": "execute_result"
    }
   ],
   "source": [
    "it1.get_data()"
   ]
  },
  {
   "cell_type": "code",
   "execution_count": 26,
   "id": "395d98dd",
   "metadata": {},
   "outputs": [
    {
     "data": {
      "text/plain": [
       "[5, 6, 4]"
      ]
     },
     "execution_count": 26,
     "metadata": {},
     "output_type": "execute_result"
    }
   ],
   "source": [
    "it2 = ListNode(5)\n",
    "it2.add_data([6, 4])\n",
    "it2.get_data()"
   ]
  },
  {
   "cell_type": "code",
   "execution_count": 27,
   "id": "4d0aa2cd",
   "metadata": {},
   "outputs": [
    {
     "data": {
      "text/plain": [
       "[7, 0, 8]"
      ]
     },
     "execution_count": 27,
     "metadata": {},
     "output_type": "execute_result"
    }
   ],
   "source": [
    "d=add_two_numbers(it1, it2)\n",
    "d.get_data() "
   ]
  },
  {
   "cell_type": "code",
   "execution_count": 28,
   "id": "1dbc262d",
   "metadata": {},
   "outputs": [],
   "source": [
    "lt1 = ListNode(9)\n",
    "lt1.add_data([9,9,9,9,9,9])\n",
    "lt2 = ListNode(9)\n",
    "lt2.add_data([9,9,9])"
   ]
  },
  {
   "cell_type": "code",
   "execution_count": 29,
   "id": "68863d68",
   "metadata": {},
   "outputs": [
    {
     "data": {
      "text/plain": [
       "[9, 9, 9, 9, 9, 9, 9]"
      ]
     },
     "execution_count": 29,
     "metadata": {},
     "output_type": "execute_result"
    }
   ],
   "source": [
    "lt1.get_data()"
   ]
  },
  {
   "cell_type": "code",
   "execution_count": 30,
   "id": "bbe33695",
   "metadata": {},
   "outputs": [
    {
     "data": {
      "text/plain": [
       "[9, 9, 9, 9]"
      ]
     },
     "execution_count": 30,
     "metadata": {},
     "output_type": "execute_result"
    }
   ],
   "source": [
    "lt2.get_data()"
   ]
  },
  {
   "cell_type": "code",
   "execution_count": 31,
   "id": "c901b11d",
   "metadata": {},
   "outputs": [
    {
     "data": {
      "text/plain": [
       "[8, 9, 9, 9, 0, 0, 0, 1]"
      ]
     },
     "execution_count": 31,
     "metadata": {},
     "output_type": "execute_result"
    }
   ],
   "source": [
    "add_two_numbers(lt1, lt2).get_data()"
   ]
  },
  {
   "cell_type": "code",
   "execution_count": 1,
   "id": "76cee151",
   "metadata": {},
   "outputs": [],
   "source": [
    "#3.\n",
    "\n",
    "class CoffeeShop:\n",
    "    def __init__(self, name, menu):\n",
    "        self.name=name\n",
    "        self.menu=menu\n",
    "        self.order=[]\n",
    "    def add_order(self,s):\n",
    "        k=0\n",
    "        for j in tcs.menu:\n",
    "            if s in j:\n",
    "                self.order.append(s)\n",
    "                k=1\n",
    "                break\n",
    "        if k==1:\n",
    "            return 'Order added!'\n",
    "        else:\n",
    "            return \"This item is currently unavailable!\"\n",
    "    def fulfill_order(self):\n",
    "        if len(self.order)!=0:\n",
    "            for i in self.order:\n",
    "                s=i\n",
    "                self.order.remove(i)\n",
    "                return 'The {} is ready'.format(i)\n",
    "        if len(self.order)==0:\n",
    "            return \"All orders have been fulfilled!\"\n",
    "    def  list_orders(self):\n",
    "        l=[]\n",
    "        if len(self.order)!=0:\n",
    "            for i in self.order:\n",
    "                l.append(i)\n",
    "        return l\n",
    "    def due_amount(self):\n",
    "        sum=0\n",
    "        for i in self.order:\n",
    "            for j in range(len(self.menu)):\n",
    "                if i in self.menu[j]:\n",
    "                    sum=sum+self.menu[j][i][0]\n",
    "        return sum\n",
    "    def cheapest_item(self):\n",
    "        l=[]\n",
    "        for i in range(len(self.menu)):\n",
    "            for j in self.menu[i]:\n",
    "                l.append(self.menu[i][j][0])\n",
    "        m=min(l)\n",
    "        for i in range(len(self.menu)):\n",
    "            for j in self.menu[i]:\n",
    "                if self.menu[i][j][0]==m:\n",
    "                    return j\n",
    "    def drinks_only(self):\n",
    "        l=[]\n",
    "        for i in range(len(self.menu)):\n",
    "            for j in self.menu[i]:\n",
    "                if self.menu[i][j][1]=='drink':\n",
    "                    l.append(j)\n",
    "        return l\n",
    "    def food_only(self):\n",
    "        l=[]\n",
    "        for i in range(len(self.menu)):\n",
    "            for j in self.menu[i]:\n",
    "                if self.menu[i][j][1]=='food':\n",
    "                    l.append(j)\n",
    "        return l"
   ]
  },
  {
   "cell_type": "code",
   "execution_count": 2,
   "id": "f6f8d8a0",
   "metadata": {},
   "outputs": [],
   "source": [
    "tcs=CoffeeShop('tcs',[{\"orange juice\":(20,'drink')}, {\"lemonade\":(18,'drink')}, \n",
    "                      {\"cranberry juice\":(30,'drink')}, {\"pineappl juice\":(25,'drink')}, \n",
    "                 {\"lemon iced tea\":(20,'drink')}, {\"vanilla chai latte\":(40,'drink')}, \n",
    "                      {\"hot chocolate\":(30,'drink')}, {\"iced coffee\":(30,'drink')},\n",
    "                     {\"tuna sandwich\":(50,'food')}, {\"ham and cheese sandwich\":(55,'food')}, \n",
    "                      {\"bacon and egg\":(35,'food')}, {\"steak\":(35,'food')}, \n",
    "                      {\"hamburger\":(40,'food')}, {\"cinnamon roll\":(50,'food')}])"
   ]
  },
  {
   "cell_type": "code",
   "execution_count": 3,
   "id": "5d761a4a",
   "metadata": {},
   "outputs": [
    {
     "data": {
      "text/plain": [
       "'This item is currently unavailable!'"
      ]
     },
     "execution_count": 3,
     "metadata": {},
     "output_type": "execute_result"
    }
   ],
   "source": [
    "tcs.add_order(\"hot cocoa\") "
   ]
  },
  {
   "cell_type": "code",
   "execution_count": 4,
   "id": "92693066",
   "metadata": {},
   "outputs": [
    {
     "data": {
      "text/plain": [
       "'This item is currently unavailable!'"
      ]
     },
     "execution_count": 4,
     "metadata": {},
     "output_type": "execute_result"
    }
   ],
   "source": [
    "tcs.add_order(\"iced tea\")"
   ]
  },
  {
   "cell_type": "code",
   "execution_count": 5,
   "id": "6d398abd",
   "metadata": {},
   "outputs": [
    {
     "data": {
      "text/plain": [
       "'Order added!'"
      ]
     },
     "execution_count": 5,
     "metadata": {},
     "output_type": "execute_result"
    }
   ],
   "source": [
    "tcs.add_order(\"cinnamon roll\")"
   ]
  },
  {
   "cell_type": "code",
   "execution_count": 6,
   "id": "17f25957",
   "metadata": {},
   "outputs": [
    {
     "data": {
      "text/plain": [
       "'Order added!'"
      ]
     },
     "execution_count": 6,
     "metadata": {},
     "output_type": "execute_result"
    }
   ],
   "source": [
    "tcs.add_order(\"iced coffee\") "
   ]
  },
  {
   "cell_type": "code",
   "execution_count": 7,
   "id": "9044d83d",
   "metadata": {},
   "outputs": [
    {
     "data": {
      "text/plain": [
       "['cinnamon roll', 'iced coffee']"
      ]
     },
     "execution_count": 7,
     "metadata": {},
     "output_type": "execute_result"
    }
   ],
   "source": [
    "tcs.list_orders()"
   ]
  },
  {
   "cell_type": "code",
   "execution_count": 8,
   "id": "4bd3baf0",
   "metadata": {},
   "outputs": [
    {
     "data": {
      "text/plain": [
       "80"
      ]
     },
     "execution_count": 8,
     "metadata": {},
     "output_type": "execute_result"
    }
   ],
   "source": [
    "tcs.due_amount()"
   ]
  },
  {
   "cell_type": "code",
   "execution_count": 9,
   "id": "b3f95730",
   "metadata": {},
   "outputs": [
    {
     "data": {
      "text/plain": [
       "'The cinnamon roll is ready'"
      ]
     },
     "execution_count": 9,
     "metadata": {},
     "output_type": "execute_result"
    }
   ],
   "source": [
    "tcs.fulfill_order()"
   ]
  },
  {
   "cell_type": "code",
   "execution_count": 10,
   "id": "4c6ec37e",
   "metadata": {},
   "outputs": [
    {
     "data": {
      "text/plain": [
       "'The iced coffee is ready'"
      ]
     },
     "execution_count": 10,
     "metadata": {},
     "output_type": "execute_result"
    }
   ],
   "source": [
    "tcs.fulfill_order()"
   ]
  },
  {
   "cell_type": "code",
   "execution_count": 11,
   "id": "6712bf8b",
   "metadata": {},
   "outputs": [
    {
     "data": {
      "text/plain": [
       "'All orders have been fulfilled!'"
      ]
     },
     "execution_count": 11,
     "metadata": {},
     "output_type": "execute_result"
    }
   ],
   "source": [
    "tcs.fulfill_order()"
   ]
  },
  {
   "cell_type": "code",
   "execution_count": 12,
   "id": "e0bffb04",
   "metadata": {},
   "outputs": [
    {
     "data": {
      "text/plain": [
       "[]"
      ]
     },
     "execution_count": 12,
     "metadata": {},
     "output_type": "execute_result"
    }
   ],
   "source": [
    "tcs.list_orders()"
   ]
  },
  {
   "cell_type": "code",
   "execution_count": 13,
   "id": "c49e1a98",
   "metadata": {},
   "outputs": [
    {
     "data": {
      "text/plain": [
       "0"
      ]
     },
     "execution_count": 13,
     "metadata": {},
     "output_type": "execute_result"
    }
   ],
   "source": [
    "tcs.due_amount() "
   ]
  },
  {
   "cell_type": "code",
   "execution_count": 14,
   "id": "088ab668",
   "metadata": {},
   "outputs": [
    {
     "data": {
      "text/plain": [
       "'lemonade'"
      ]
     },
     "execution_count": 14,
     "metadata": {},
     "output_type": "execute_result"
    }
   ],
   "source": [
    "tcs.cheapest_item()"
   ]
  },
  {
   "cell_type": "code",
   "execution_count": 15,
   "id": "fdb69401",
   "metadata": {},
   "outputs": [
    {
     "data": {
      "text/plain": [
       "['orange juice',\n",
       " 'lemonade',\n",
       " 'cranberry juice',\n",
       " 'pineappl juice',\n",
       " 'lemon iced tea',\n",
       " 'vanilla chai latte',\n",
       " 'hot chocolate',\n",
       " 'iced coffee']"
      ]
     },
     "execution_count": 15,
     "metadata": {},
     "output_type": "execute_result"
    }
   ],
   "source": [
    "tcs.drinks_only()"
   ]
  },
  {
   "cell_type": "code",
   "execution_count": 16,
   "id": "e4a1edca",
   "metadata": {},
   "outputs": [
    {
     "data": {
      "text/plain": [
       "['tuna sandwich',\n",
       " 'ham and cheese sandwich',\n",
       " 'bacon and egg',\n",
       " 'steak',\n",
       " 'hamburger',\n",
       " 'cinnamon roll']"
      ]
     },
     "execution_count": 16,
     "metadata": {},
     "output_type": "execute_result"
    }
   ],
   "source": [
    "tcs.food_only()"
   ]
  },
  {
   "cell_type": "code",
   "execution_count": 9,
   "id": "bce9b298",
   "metadata": {},
   "outputs": [],
   "source": [
    "#4.\n",
    "\n",
    "def loneliest_number(a,b):\n",
    "    l=[]\n",
    "    greatest=0\n",
    "    w=0\n",
    "    closest=0\n",
    "    prime=0\n",
    "    for i in range(a, b+1):\n",
    "        if i>1:\n",
    "            j=i+1\n",
    "            while True:\n",
    "                for k in range(2,j):\n",
    "                    if j%k==0:\n",
    "                        break\n",
    "                else:\n",
    "                    l.append(j)\n",
    "                    break\n",
    "                j=j+1\n",
    "        if i==0 or i==1:\n",
    "            l.append(2)\n",
    "        j=i-1\n",
    "        while True:\n",
    "            if j>2:\n",
    "                for k in range(2,j):\n",
    "                    if j%k==0:\n",
    "                        break\n",
    "                else:\n",
    "                    l.append(j)\n",
    "                    break\n",
    "                j=j-1\n",
    "            else:\n",
    "                break\n",
    "        if len(l)==2:\n",
    "            m=l[0]-i\n",
    "            n=i-l[1]\n",
    "            if m>n:\n",
    "                distence=n\n",
    "                prime=l[1]\n",
    "            if m<n:\n",
    "                distence=m\n",
    "                prime=l[0]\n",
    "            if m==n:\n",
    "                distence=m\n",
    "                prime=l[0]\n",
    "            l.pop(0)\n",
    "            l.pop(0)\n",
    "        if len(l)==1:\n",
    "            m1=l[0]-i\n",
    "            distence=m1\n",
    "            prime=l[0]\n",
    "            l.pop(0)\n",
    "        if greatest<distence:\n",
    "            greatest=distence\n",
    "            w=i\n",
    "            closest=prime\n",
    "    return {'number':w, 'distence':greatest, 'closest':closest}"
   ]
  },
  {
   "cell_type": "code",
   "execution_count": 10,
   "id": "75262a4e",
   "metadata": {},
   "outputs": [
    {
     "data": {
      "text/plain": [
       "{'number': 5, 'distence': 2, 'closest': 7}"
      ]
     },
     "execution_count": 10,
     "metadata": {},
     "output_type": "execute_result"
    }
   ],
   "source": [
    "loneliest_number(5,10)"
   ]
  },
  {
   "cell_type": "code",
   "execution_count": 12,
   "id": "703e5760",
   "metadata": {},
   "outputs": [
    {
     "data": {
      "text/plain": [
       "{'number': 23, 'distence': 4, 'closest': 19}"
      ]
     },
     "execution_count": 12,
     "metadata": {},
     "output_type": "execute_result"
    }
   ],
   "source": [
    "loneliest_number(19,24) "
   ]
  },
  {
   "cell_type": "code",
   "execution_count": 14,
   "id": "0b75241f",
   "metadata": {},
   "outputs": [
    {
     "data": {
      "text/plain": [
       "{'number': 211, 'distence': 12, 'closest': 223}"
      ]
     },
     "execution_count": 14,
     "metadata": {},
     "output_type": "execute_result"
    }
   ],
   "source": [
    "loneliest_number(120, 1190)"
   ]
  },
  {
   "cell_type": "code",
   "execution_count": null,
   "id": "80cb2eae",
   "metadata": {},
   "outputs": [],
   "source": []
  }
 ],
 "metadata": {
  "kernelspec": {
   "display_name": "Python 3 (ipykernel)",
   "language": "python",
   "name": "python3"
  },
  "language_info": {
   "codemirror_mode": {
    "name": "ipython",
    "version": 3
   },
   "file_extension": ".py",
   "mimetype": "text/x-python",
   "name": "python",
   "nbconvert_exporter": "python",
   "pygments_lexer": "ipython3",
   "version": "3.9.7"
  }
 },
 "nbformat": 4,
 "nbformat_minor": 5
}
