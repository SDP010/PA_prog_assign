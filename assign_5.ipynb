{
 "cells": [
  {
   "cell_type": "code",
   "execution_count": 12,
   "id": "7d5e4820",
   "metadata": {},
   "outputs": [],
   "source": [
    "#1.\n",
    "\n",
    "def f(n):\n",
    "    l=[8,1,1,1,1,2]\n",
    "    s=str(n/2)\n",
    "    return l[int(s[-1])]"
   ]
  },
  {
   "cell_type": "code",
   "execution_count": 13,
   "id": "f138aa33",
   "metadata": {},
   "outputs": [
    {
     "data": {
      "text/plain": [
       "8"
      ]
     },
     "execution_count": 13,
     "metadata": {},
     "output_type": "execute_result"
    }
   ],
   "source": [
    "f(2)"
   ]
  },
  {
   "cell_type": "code",
   "execution_count": 14,
   "id": "1d2883bf",
   "metadata": {},
   "outputs": [
    {
     "data": {
      "text/plain": [
       "2"
      ]
     },
     "execution_count": 14,
     "metadata": {},
     "output_type": "execute_result"
    }
   ],
   "source": [
    "f(13)"
   ]
  },
  {
   "cell_type": "code",
   "execution_count": 15,
   "id": "5bd26f82",
   "metadata": {},
   "outputs": [
    {
     "data": {
      "text/plain": [
       "2"
      ]
     },
     "execution_count": 15,
     "metadata": {},
     "output_type": "execute_result"
    }
   ],
   "source": [
    "f(1)"
   ]
  },
  {
   "cell_type": "code",
   "execution_count": 19,
   "id": "a8816f28",
   "metadata": {},
   "outputs": [],
   "source": [
    "#2.\n",
    "\n",
    "def majoriy_vote(l):\n",
    "    k=0\n",
    "    for i in l:\n",
    "        if l.count(i)>int(len(l)/2):\n",
    "            return i\n",
    "    return \"None\"\n",
    "        \n",
    "        "
   ]
  },
  {
   "cell_type": "code",
   "execution_count": 20,
   "id": "d7eaea47",
   "metadata": {},
   "outputs": [
    {
     "data": {
      "text/plain": [
       "'b'"
      ]
     },
     "execution_count": 20,
     "metadata": {},
     "output_type": "execute_result"
    }
   ],
   "source": [
    "majoriy_vote(['a','b','b'])"
   ]
  },
  {
   "cell_type": "code",
   "execution_count": 21,
   "id": "45852ddc",
   "metadata": {},
   "outputs": [
    {
     "data": {
      "text/plain": [
       "'None'"
      ]
     },
     "execution_count": 21,
     "metadata": {},
     "output_type": "execute_result"
    }
   ],
   "source": [
    "majoriy_vote([1,1,2,2])"
   ]
  },
  {
   "cell_type": "code",
   "execution_count": 35,
   "id": "17da1b7a",
   "metadata": {},
   "outputs": [],
   "source": [
    "#3.\n",
    "\n",
    "def censor_string(string,list, a):\n",
    "    l=string.split(' ')\n",
    "    for i in range(len(l)):\n",
    "        if l[i] in list:\n",
    "            l[i]=a*len(l[i])\n",
    "    s1=''\n",
    "    for i in l:\n",
    "        s1=s1+' '+i\n",
    "    return s1"
   ]
  },
  {
   "cell_type": "code",
   "execution_count": 36,
   "id": "df3df649",
   "metadata": {},
   "outputs": [
    {
     "data": {
      "text/plain": [
       "' ----- is - wednesday'"
      ]
     },
     "execution_count": 36,
     "metadata": {},
     "output_type": "execute_result"
    }
   ],
   "source": [
    "censor_string('Today is a wednesday',['Today','a'],'-')"
   ]
  },
  {
   "cell_type": "code",
   "execution_count": 37,
   "id": "bf9530d8",
   "metadata": {},
   "outputs": [
    {
     "data": {
      "text/plain": [
       "' the *** jumped **** the moon'"
      ]
     },
     "execution_count": 37,
     "metadata": {},
     "output_type": "execute_result"
    }
   ],
   "source": [
    "censor_string('the cow jumped over the moon',['cow','over'],'*')"
   ]
  },
  {
   "cell_type": "code",
   "execution_count": 17,
   "id": "303417f7",
   "metadata": {},
   "outputs": [],
   "source": [
    "#3.\n",
    "\n",
    "def is_polydivisible(n):\n",
    "    l=[]\n",
    "    s=str(n)\n",
    "    for i in range(len(s)):\n",
    "        l.append(n//(10**i))\n",
    "    l.reverse()\n",
    "    k=0\n",
    "    for i in range(1,len(s)+1):\n",
    "        if l[i-1]%i!=0:\n",
    "            k=1\n",
    "            break\n",
    "    if k==0:\n",
    "        return True\n",
    "    else:\n",
    "        return False"
   ]
  },
  {
   "cell_type": "code",
   "execution_count": 18,
   "id": "1cae109c",
   "metadata": {},
   "outputs": [
    {
     "data": {
      "text/plain": [
       "True"
      ]
     },
     "execution_count": 18,
     "metadata": {},
     "output_type": "execute_result"
    }
   ],
   "source": [
    "is_polydivisible(1232)"
   ]
  },
  {
   "cell_type": "code",
   "execution_count": 19,
   "id": "144b0e69",
   "metadata": {},
   "outputs": [
    {
     "data": {
      "text/plain": [
       "False"
      ]
     },
     "execution_count": 19,
     "metadata": {},
     "output_type": "execute_result"
    }
   ],
   "source": [
    "is_polydivisible(123220)"
   ]
  },
  {
   "cell_type": "code",
   "execution_count": 23,
   "id": "012b31d4",
   "metadata": {},
   "outputs": [],
   "source": [
    "#5.\n",
    "\n",
    "\n",
    "def sum_primes(l):\n",
    "    \n",
    "    sum=0\n",
    "    for i in l:\n",
    "        k=0\n",
    "        j=2\n",
    "        while j<i:\n",
    "            if i%j==0:\n",
    "                k=1\n",
    "                break\n",
    "            j=j+1\n",
    "        if k==0 and i!=1:\n",
    "            sum=sum+i\n",
    "    return sum"
   ]
  },
  {
   "cell_type": "code",
   "execution_count": 24,
   "id": "bab70b6e",
   "metadata": {},
   "outputs": [
    {
     "data": {
      "text/plain": [
       "17"
      ]
     },
     "execution_count": 24,
     "metadata": {},
     "output_type": "execute_result"
    }
   ],
   "source": [
    "sum_primes([1,2,3,4,5,6,7,8,9,10])"
   ]
  },
  {
   "cell_type": "code",
   "execution_count": null,
   "id": "4d558df3",
   "metadata": {},
   "outputs": [],
   "source": []
  }
 ],
 "metadata": {
  "kernelspec": {
   "display_name": "Python 3 (ipykernel)",
   "language": "python",
   "name": "python3"
  },
  "language_info": {
   "codemirror_mode": {
    "name": "ipython",
    "version": 3
   },
   "file_extension": ".py",
   "mimetype": "text/x-python",
   "name": "python",
   "nbconvert_exporter": "python",
   "pygments_lexer": "ipython3",
   "version": "3.9.7"
  }
 },
 "nbformat": 4,
 "nbformat_minor": 5
}
