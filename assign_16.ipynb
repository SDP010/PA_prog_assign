{
 "cells": [
  {
   "cell_type": "code",
   "execution_count": 1,
   "id": "72399e2e",
   "metadata": {},
   "outputs": [],
   "source": [
    "#1.\n",
    "\n",
    "def valid_rondo(s):\n",
    "    t='BCDEFGHIJKLMNOPQRSTUVWXYZ'\n",
    "    n=len(s)\n",
    "    k=0\n",
    "    for i in range(1,n,2):\n",
    "        if s[i]!=t[int((i-1)/2)]:\n",
    "            k=1\n",
    "            break\n",
    "    for i in range(0,n,2):\n",
    "        if s[i]!='A':\n",
    "            k=2\n",
    "            break\n",
    "    if k==0:\n",
    "        return True\n",
    "    else:\n",
    "        return False"
   ]
  },
  {
   "cell_type": "code",
   "execution_count": 2,
   "id": "b99a1265",
   "metadata": {},
   "outputs": [
    {
     "data": {
      "text/plain": [
       "True"
      ]
     },
     "execution_count": 2,
     "metadata": {},
     "output_type": "execute_result"
    }
   ],
   "source": [
    "valid_rondo(\"ABACADAEAFAGAHAIAJA\")"
   ]
  },
  {
   "cell_type": "code",
   "execution_count": 3,
   "id": "f5d34fb8",
   "metadata": {},
   "outputs": [
    {
     "data": {
      "text/plain": [
       "False"
      ]
     },
     "execution_count": 3,
     "metadata": {},
     "output_type": "execute_result"
    }
   ],
   "source": [
    "valid_rondo(\"ABBACCA\")"
   ]
  },
  {
   "cell_type": "code",
   "execution_count": 4,
   "id": "6f0eedbb",
   "metadata": {},
   "outputs": [
    {
     "data": {
      "text/plain": [
       "False"
      ]
     },
     "execution_count": 4,
     "metadata": {},
     "output_type": "execute_result"
    }
   ],
   "source": [
    "valid_rondo('ACAEA')"
   ]
  },
  {
   "cell_type": "code",
   "execution_count": 11,
   "id": "8053ed0c",
   "metadata": {},
   "outputs": [],
   "source": [
    "#2.\n",
    "\n",
    "def sentence_searcher(s,t):\n",
    "    l=s.split('.')\n",
    "    for i in l:\n",
    "        if t in i or t.swapcase() in i:\n",
    "            return i+'.'\n",
    "    return \"\""
   ]
  },
  {
   "cell_type": "code",
   "execution_count": 9,
   "id": "235fb201",
   "metadata": {},
   "outputs": [
    {
     "data": {
      "text/plain": [
       "'I have a cat.'"
      ]
     },
     "execution_count": 9,
     "metadata": {},
     "output_type": "execute_result"
    }
   ],
   "source": [
    "sentence_searcher(\"I have a cat. I have a mat. Things are going swell.\", 'have')"
   ]
  },
  {
   "cell_type": "code",
   "execution_count": 10,
   "id": "d36e18fc",
   "metadata": {},
   "outputs": [
    {
     "data": {
      "text/plain": [
       "' I have a mat.'"
      ]
     },
     "execution_count": 10,
     "metadata": {},
     "output_type": "execute_result"
    }
   ],
   "source": [
    "sentence_searcher(\"I have a cat. I have a mat. Things are going swell.\", 'MAT')"
   ]
  },
  {
   "cell_type": "code",
   "execution_count": 12,
   "id": "c8e2fd3e",
   "metadata": {},
   "outputs": [
    {
     "data": {
      "text/plain": [
       "''"
      ]
     },
     "execution_count": 12,
     "metadata": {},
     "output_type": "execute_result"
    }
   ],
   "source": [
    "sentence_searcher(\"I have a cat. I have a mat. Things are going swell.\", 'flat')"
   ]
  },
  {
   "cell_type": "code",
   "execution_count": 17,
   "id": "cbf2da3e",
   "metadata": {},
   "outputs": [],
   "source": [
    "#3.\n",
    "\n",
    "def sum_round(n):\n",
    "    while n>0:\n",
    "        s=''\n",
    "        for i in range(1,len(str(n))+1):\n",
    "            r=n%10**i\n",
    "            s=s+' '+str(r)\n",
    "            n=n-r\n",
    "    s=s.lstrip()\n",
    "    l=s.split(' ')\n",
    "    if '0' in l:\n",
    "        for i in range(l.count('0')):\n",
    "            l.remove('0')\n",
    "    s=''\n",
    "    for i in l:\n",
    "        s=s+' '+i\n",
    "    s=s.lstrip()\n",
    "    return s"
   ]
  },
  {
   "cell_type": "code",
   "execution_count": 18,
   "id": "5717d82b",
   "metadata": {},
   "outputs": [
    {
     "data": {
      "text/plain": [
       "'10 200 4000 50000'"
      ]
     },
     "execution_count": 18,
     "metadata": {},
     "output_type": "execute_result"
    }
   ],
   "source": [
    "sum_round(54210)"
   ]
  },
  {
   "cell_type": "code",
   "execution_count": 19,
   "id": "90bf41a8",
   "metadata": {},
   "outputs": [
    {
     "data": {
      "text/plain": [
       "'4 30 200 1000'"
      ]
     },
     "execution_count": 19,
     "metadata": {},
     "output_type": "execute_result"
    }
   ],
   "source": [
    "sum_round(1234)"
   ]
  },
  {
   "cell_type": "code",
   "execution_count": 20,
   "id": "e72dd616",
   "metadata": {},
   "outputs": [
    {
     "data": {
      "text/plain": [
       "'1 100'"
      ]
     },
     "execution_count": 20,
     "metadata": {},
     "output_type": "execute_result"
    }
   ],
   "source": [
    "sum_round(101)"
   ]
  },
  {
   "cell_type": "code",
   "execution_count": 1,
   "id": "ed237e4d",
   "metadata": {},
   "outputs": [],
   "source": [
    "#4.\n",
    "\n",
    "def multiplication_table(n):\n",
    "    l=[]\n",
    "    for i in range(1,n+1):\n",
    "        m=[]\n",
    "        for j in range(1,n+1):\n",
    "            m.append(i*j)\n",
    "        l.append(m)\n",
    "    return l"
   ]
  },
  {
   "cell_type": "code",
   "execution_count": 2,
   "id": "2402828e",
   "metadata": {},
   "outputs": [
    {
     "data": {
      "text/plain": [
       "[[1, 2, 3], [2, 4, 6], [3, 6, 9]]"
      ]
     },
     "execution_count": 2,
     "metadata": {},
     "output_type": "execute_result"
    }
   ],
   "source": [
    "multiplication_table(3) "
   ]
  },
  {
   "cell_type": "code",
   "execution_count": 3,
   "id": "7c587342",
   "metadata": {},
   "outputs": [
    {
     "data": {
      "text/plain": [
       "[[1, 2, 3, 4, 5],\n",
       " [2, 4, 6, 8, 10],\n",
       " [3, 6, 9, 12, 15],\n",
       " [4, 8, 12, 16, 20],\n",
       " [5, 10, 15, 20, 25]]"
      ]
     },
     "execution_count": 3,
     "metadata": {},
     "output_type": "execute_result"
    }
   ],
   "source": [
    "multiplication_table(5) "
   ]
  },
  {
   "cell_type": "code",
   "execution_count": 17,
   "id": "d058fd0c",
   "metadata": {},
   "outputs": [],
   "source": [
    "#5.\n",
    "\n",
    "def does_rhyme(s):\n",
    "    l=s.split(',')\n",
    "    a=l[0].split(' ')\n",
    "    b=l[1].split(' ')\n",
    "    m=[]\n",
    "    n=[]\n",
    "    l1=[]\n",
    "    for i in a:\n",
    "        m.append(i)\n",
    "    l1.append(m)\n",
    "    for i in b:\n",
    "        n.append(i)\n",
    "    l1.append(n)\n",
    "    v='aeiouAEIOU'\n",
    "    for i in v:\n",
    "        if i in l1[0][-1] and not(i in l1[1][-1] or i.swapcase() in l1[1][-1]):\n",
    "            return False\n",
    "        if i in l1[1][-1] and not(i in l1[0][-1] or i.swapcase() in l1[0][-1]):\n",
    "            return False\n",
    "    return True"
   ]
  },
  {
   "cell_type": "code",
   "execution_count": 18,
   "id": "2c6af26e",
   "metadata": {},
   "outputs": [
    {
     "data": {
      "text/plain": [
       "True"
      ]
     },
     "execution_count": 18,
     "metadata": {},
     "output_type": "execute_result"
    }
   ],
   "source": [
    "does_rhyme(\"Sam I am!, Green eggs and HAM.\")"
   ]
  },
  {
   "cell_type": "code",
   "execution_count": 19,
   "id": "606a6b30",
   "metadata": {},
   "outputs": [
    {
     "data": {
      "text/plain": [
       "False"
      ]
     },
     "execution_count": 19,
     "metadata": {},
     "output_type": "execute_result"
    }
   ],
   "source": [
    "does_rhyme(\"and frequently do?, you gotta move.\") "
   ]
  },
  {
   "cell_type": "code",
   "execution_count": 21,
   "id": "7638e1fe",
   "metadata": {},
   "outputs": [
    {
     "data": {
      "text/plain": [
       "True"
      ]
     },
     "execution_count": 21,
     "metadata": {},
     "output_type": "execute_result"
    }
   ],
   "source": [
    "does_rhyme(\"Sam I am!, Green eggs and ham.\") "
   ]
  },
  {
   "cell_type": "code",
   "execution_count": 22,
   "id": "8af293f4",
   "metadata": {},
   "outputs": [
    {
     "data": {
      "text/plain": [
       "False"
      ]
     },
     "execution_count": 22,
     "metadata": {},
     "output_type": "execute_result"
    }
   ],
   "source": [
    "does_rhyme(\"You are off to the races, a splendid day.\")"
   ]
  },
  {
   "cell_type": "code",
   "execution_count": null,
   "id": "971ddf39",
   "metadata": {},
   "outputs": [],
   "source": []
  }
 ],
 "metadata": {
  "kernelspec": {
   "display_name": "Python 3 (ipykernel)",
   "language": "python",
   "name": "python3"
  },
  "language_info": {
   "codemirror_mode": {
    "name": "ipython",
    "version": 3
   },
   "file_extension": ".py",
   "mimetype": "text/x-python",
   "name": "python",
   "nbconvert_exporter": "python",
   "pygments_lexer": "ipython3",
   "version": "3.9.7"
  }
 },
 "nbformat": 4,
 "nbformat_minor": 5
}
