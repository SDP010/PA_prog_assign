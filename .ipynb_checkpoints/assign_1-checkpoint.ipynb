{
 "cells": [
  {
   "cell_type": "code",
   "execution_count": 6,
   "id": "aab14313",
   "metadata": {},
   "outputs": [
    {
     "data": {
      "text/plain": [
       "2"
      ]
     },
     "execution_count": 6,
     "metadata": {},
     "output_type": "execute_result"
    }
   ],
   "source": [
    "\"\"\"1. Write a function that takes a list of lists and returns the value of all of the\n",
    "symbols in it, where each symbol adds or takes something from the total\n",
    "score. Symbol values:\n",
    "# = 5\n",
    "O = 3\n",
    "X = 1\n",
    "! = -1\n",
    "!! = -3\n",
    "!!! = -5\"\"\"\n",
    "\n",
    "def check_score(l):\n",
    "    try:\n",
    "        d={'#':5, 'O':3, 'X':1, '!':-1, '!!':-3, '!!!':-5}\n",
    "        sum=0\n",
    "        for i in l:\n",
    "            for j in i:\n",
    "                sum=sum+d[j]\n",
    "        if sum < 0:\n",
    "            return 0\n",
    "        else:\n",
    "            return sum\n",
    "    except:\n",
    "        return 'enter the values between \"#,O,X,!,!!,!!!\"'\n",
    "\n",
    "\n",
    "    \n",
    "#check_score([['!!!', 'O', '!'], ['X', '#', '!!!'],['!!', 'X', 'O']])\n",
    "check_score([['#', '!'], ['!!', 'X']])"
   ]
  },
  {
   "cell_type": "code",
   "execution_count": 7,
   "id": "6f940b58",
   "metadata": {},
   "outputs": [
    {
     "data": {
      "text/plain": [
       "84"
      ]
     },
     "execution_count": 7,
     "metadata": {},
     "output_type": "execute_result"
    }
   ],
   "source": [
    "\"\"\"2. Create a function that takes a variable number of arguments, each\n",
    "argument representing the number of items in a group, and returns the\n",
    "number of permutations (combinations) of items that you could get by taking\n",
    "one item from each group.\"\"\"\n",
    "\n",
    "def combination(*args):\n",
    "    m=1\n",
    "    for i in args:\n",
    "        m=m*i\n",
    "    return m\n",
    "\n",
    "\n",
    "\n",
    "combination(3,7,4)\n"
   ]
  },
  {
   "cell_type": "code",
   "execution_count": 11,
   "id": "fe7276f6",
   "metadata": {},
   "outputs": [
    {
     "data": {
      "text/plain": [
       "'.... . .-.. .--.   -- . -.-.--'"
      ]
     },
     "execution_count": 11,
     "metadata": {},
     "output_type": "execute_result"
    }
   ],
   "source": [
    "\"\"\"3. Create a function that takes a string as an argument and returns the Morse\n",
    "code equivalent.\"\"\"\n",
    "\n",
    "\n",
    "def encode_morse(s):\n",
    "    d={'A': '.-', 'B': '-...', 'C': '-.-.', 'D': '-..', 'E': '.', 'F': '..-.',\n",
    "  'G': '--.', 'H': '....', 'I': '..', 'J': '.---', 'K': '-.-', 'L': '.-..',\n",
    "  'M': '--', 'N': '-.', 'O': '---', 'P': '.--.', 'Q': '--.-', 'R': '.-.',\n",
    "  'S': '...', 'T': '-', 'U': '..-', 'V': '...-', 'W': '.--', 'X': '-..-',\n",
    "  'Y': '-.--', 'Z': '--..', ' ': ' ', '0': '-----',\n",
    "  '1': '.----', '2': '..---', '3': '...--', '4': '....-', '5': '.....',\n",
    "  '6': '-....', '7': '--...', '8': '---..', '9': '----.',\n",
    "  '&': '.-...', \"'\": '.----.', '@': '.--.-.', ')': '-.--.-', '(': '-.--.',\n",
    "  ':': '---...', ',': '--..--', '=': '-...-', '!': '-.-.--', '.': '.-.-.-',\n",
    "  '-': '-....-', '+': '.-.-.', '\"': '.-..-.', '?': '..--..', '/': '-..-.'}\n",
    "    temp=''\n",
    "    for i in s:\n",
    "        temp = temp +' '+d[i]\n",
    "    temp = temp.lstrip()\n",
    "    return temp\n",
    "\n",
    "\n",
    "encode_morse(\"HELP ME!\")"
   ]
  },
  {
   "cell_type": "code",
   "execution_count": 14,
   "id": "d4832f8f",
   "metadata": {},
   "outputs": [
    {
     "data": {
      "text/plain": [
       "[False, True, True, False]"
      ]
     },
     "execution_count": 14,
     "metadata": {},
     "output_type": "execute_result"
    }
   ],
   "source": [
    "\"\"\"5. Create a function that converts a word to a bitstring and then to a boolean\n",
    "list based on the following criteria:\n",
    "1. Locate the position of the letter in the English alphabet (from 1 to 26).\n",
    "2. Odd positions will be represented as 1 and 0 otherwise.\n",
    "3. Convert the represented positions to boolean values, 1 for True and 0\n",
    "for False.\n",
    "4. Store the conversions into an array.\"\"\"\n",
    "\n",
    "\n",
    "\n",
    "def to_booolean_list(s):\n",
    "    d={'a':1,'b':2,'c':3,'d':4,'e':5,'f':6,'g':7,'h':8,'i':9,'j':10,'k':11,'l':12,'m':13,'n':14,'o':15,\n",
    "      \n",
    "      'p':16,'q':17,'r':18,'s':19,'t':20,'u':21,'v':22,'w':23,'x':24,'y':25,'z':26}\n",
    "    l=[]\n",
    "    for i in s:\n",
    "        if d[i]%2==0:\n",
    "            l.append(0)\n",
    "        else:\n",
    "            l.append(1)\n",
    "    for i in range(len(l)):\n",
    "        if l[i]==0:\n",
    "            l[i]=False\n",
    "        if l[i]==1:\n",
    "            l[i]=True\n",
    "    return l\n",
    "\n",
    "\n",
    "to_booolean_list('deep')"
   ]
  },
  {
   "cell_type": "code",
   "execution_count": 17,
   "id": "0245aa0a",
   "metadata": {},
   "outputs": [
    {
     "data": {
      "text/plain": [
       "True"
      ]
     },
     "execution_count": 17,
     "metadata": {},
     "output_type": "execute_result"
    }
   ],
   "source": [
    "\"\"\"4. Write a function that takes a number and returns True if it&#39;s a prime; False\n",
    "otherwise. The number can be 2^64-1 (2 to the power of 63, not XOR). With\n",
    "the standard technique it would be O(2^64-1), which is much too large for the\n",
    "10 second time limit.\"\"\"\n",
    "\n",
    "\n",
    "\n",
    "def isprime(n):\n",
    "    try :\n",
    "        if n == 1 :\n",
    "            return False\n",
    "        if n >= 2 :\n",
    "            flag = 0\n",
    "            for i in range(2,n):\n",
    "                if n % i == 0 :\n",
    "                    flag = 1\n",
    "        if flag == 0 :\n",
    "            return True\n",
    "        else :\n",
    "            return False\n",
    "    except:\n",
    "        print('Invalid input')\n",
    "\n",
    "        \n",
    "isprime(56963)"
   ]
  },
  {
   "cell_type": "code",
   "execution_count": null,
   "id": "d27f6cb1",
   "metadata": {},
   "outputs": [],
   "source": []
  }
 ],
 "metadata": {
  "kernelspec": {
   "display_name": "Python 3 (ipykernel)",
   "language": "python",
   "name": "python3"
  },
  "language_info": {
   "codemirror_mode": {
    "name": "ipython",
    "version": 3
   },
   "file_extension": ".py",
   "mimetype": "text/x-python",
   "name": "python",
   "nbconvert_exporter": "python",
   "pygments_lexer": "ipython3",
   "version": "3.9.7"
  }
 },
 "nbformat": 4,
 "nbformat_minor": 5
}
