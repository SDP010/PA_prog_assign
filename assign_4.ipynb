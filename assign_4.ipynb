{
 "cells": [
  {
   "cell_type": "code",
   "execution_count": 1,
   "id": "a282f0f1",
   "metadata": {},
   "outputs": [],
   "source": [
    "##1\n",
    "\n",
    "def fast_fib(n):\n",
    "    a=0\n",
    "    b=1\n",
    "    m=[]\n",
    "    for i in range(0,n+1):\n",
    "        m.append(a)\n",
    "        a,b=b,b+a\n",
    "    return m[-1]"
   ]
  },
  {
   "cell_type": "code",
   "execution_count": 2,
   "id": "c3c75174",
   "metadata": {},
   "outputs": [
    {
     "data": {
      "text/plain": [
       "55"
      ]
     },
     "execution_count": 2,
     "metadata": {},
     "output_type": "execute_result"
    }
   ],
   "source": [
    "fast_fib(10)"
   ]
  },
  {
   "cell_type": "code",
   "execution_count": 9,
   "id": "5aec1005",
   "metadata": {},
   "outputs": [],
   "source": [
    "#2.\n",
    "\n",
    "def convert_to_hex(s):\n",
    "    s1=''\n",
    "    for i in s:\n",
    "        n=ord(i)\n",
    "        s1=s1+' '+hex(n)\n",
    "    return s1"
   ]
  },
  {
   "cell_type": "code",
   "execution_count": 10,
   "id": "91c09521",
   "metadata": {},
   "outputs": [
    {
     "data": {
      "text/plain": [
       "' 0x68 0x65 0x6c 0x6c 0x6f 0x20 0x77 0x6f 0x72 0x6c 0x64'"
      ]
     },
     "execution_count": 10,
     "metadata": {},
     "output_type": "execute_result"
    }
   ],
   "source": [
    "convert_to_hex('hello world')"
   ]
  },
  {
   "cell_type": "code",
   "execution_count": 15,
   "id": "152b7a13",
   "metadata": {},
   "outputs": [],
   "source": [
    "#3.\n",
    "\n",
    "def uncensord(s,t):\n",
    "    s1=''\n",
    "    j=0\n",
    "    for i in range(len(s)):\n",
    "        if s[i]=='*':\n",
    "            s1=s1+t[j]\n",
    "            j=j+1\n",
    "        else:\n",
    "            s1=s1+s[i]\n",
    "    return s1"
   ]
  },
  {
   "cell_type": "code",
   "execution_count": 16,
   "id": "cc3eb1fd",
   "metadata": {},
   "outputs": [
    {
     "data": {
      "text/plain": [
       "'Where did my vowels go?'"
      ]
     },
     "execution_count": 16,
     "metadata": {},
     "output_type": "execute_result"
    }
   ],
   "source": [
    "uncensord(\"Wh*r* d*d my v*w*ls g*?\", \"eeioeo\")"
   ]
  },
  {
   "cell_type": "code",
   "execution_count": 17,
   "id": "ad3121dd",
   "metadata": {},
   "outputs": [
    {
     "data": {
      "text/plain": [
       "'UPPERCASE'"
      ]
     },
     "execution_count": 17,
     "metadata": {},
     "output_type": "execute_result"
    }
   ],
   "source": [
    "uncensord(\"*PP*RC*S*\", \"UEAE\")"
   ]
  },
  {
   "cell_type": "code",
   "execution_count": 18,
   "id": "9ec8f07f",
   "metadata": {},
   "outputs": [],
   "source": [
    "#5\n",
    "\n",
    "def fact_of_fact(n):\n",
    "    num=1\n",
    "    for j in range(1,n+1):\n",
    "        for i in range(1,j+1):\n",
    "            num=num*i\n",
    "    return num"
   ]
  },
  {
   "cell_type": "code",
   "execution_count": 19,
   "id": "b0ea7056",
   "metadata": {},
   "outputs": [
    {
     "data": {
      "text/plain": [
       "24883200"
      ]
     },
     "execution_count": 19,
     "metadata": {},
     "output_type": "execute_result"
    }
   ],
   "source": [
    "fact_of_fact(6)"
   ]
  },
  {
   "cell_type": "code",
   "execution_count": null,
   "id": "80602feb",
   "metadata": {},
   "outputs": [],
   "source": []
  }
 ],
 "metadata": {
  "kernelspec": {
   "display_name": "Python 3 (ipykernel)",
   "language": "python",
   "name": "python3"
  },
  "language_info": {
   "codemirror_mode": {
    "name": "ipython",
    "version": 3
   },
   "file_extension": ".py",
   "mimetype": "text/x-python",
   "name": "python",
   "nbconvert_exporter": "python",
   "pygments_lexer": "ipython3",
   "version": "3.9.7"
  }
 },
 "nbformat": 4,
 "nbformat_minor": 5
}
