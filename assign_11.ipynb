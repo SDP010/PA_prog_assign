{
 "cells": [
  {
   "cell_type": "code",
   "execution_count": 3,
   "id": "d19a6f35",
   "metadata": {},
   "outputs": [],
   "source": [
    "#1.\n",
    "\n",
    "def filter_list(l):\n",
    "    m=[]\n",
    "    for i in l:\n",
    "        for j in range(2,i):\n",
    "            if i%j==0:\n",
    "                break\n",
    "        else:\n",
    "            m.append(i)\n",
    "    return m"
   ]
  },
  {
   "cell_type": "code",
   "execution_count": 4,
   "id": "f9783843",
   "metadata": {},
   "outputs": [
    {
     "data": {
      "text/plain": [
       "[7, 3, 11]"
      ]
     },
     "execution_count": 4,
     "metadata": {},
     "output_type": "execute_result"
    }
   ],
   "source": [
    "filter_list([7,9,3,9,10,11,27])"
   ]
  },
  {
   "cell_type": "code",
   "execution_count": 5,
   "id": "0d071141",
   "metadata": {},
   "outputs": [
    {
     "data": {
      "text/plain": [
       "[10007, 1009]"
      ]
     },
     "execution_count": 5,
     "metadata": {},
     "output_type": "execute_result"
    }
   ],
   "source": [
    "filter_list([10007, 1009, 1007, 27, 147, 77, 1001, 70])"
   ]
  },
  {
   "cell_type": "code",
   "execution_count": 11,
   "id": "12f09b07",
   "metadata": {},
   "outputs": [],
   "source": [
    "#2.\n",
    "\n",
    "def pop(l):\n",
    "    n=len(l)\n",
    "    for i in range(0,n//2):\n",
    "        l.pop(i)\n",
    "        l.insert(i, i)\n",
    "    for i in range(n//2+1,n):\n",
    "        l.pop(i)\n",
    "        l.insert(i, l[i-1]-1)\n",
    "    return l"
   ]
  },
  {
   "cell_type": "code",
   "execution_count": 12,
   "id": "b9d19420",
   "metadata": {},
   "outputs": [
    {
     "data": {
      "text/plain": [
       "[0, 1, 2, 3, 4, 3, 2, 1, 0]"
      ]
     },
     "execution_count": 12,
     "metadata": {},
     "output_type": "execute_result"
    }
   ],
   "source": [
    "pop([0,0,0,0,4,0,0,0,0])"
   ]
  },
  {
   "cell_type": "code",
   "execution_count": 13,
   "id": "3e82bf2f",
   "metadata": {},
   "outputs": [
    {
     "data": {
      "text/plain": [
       "[0, 1, 2, 1, 0]"
      ]
     },
     "execution_count": 13,
     "metadata": {},
     "output_type": "execute_result"
    }
   ],
   "source": [
    "pop([0,0,2,0,0])"
   ]
  },
  {
   "cell_type": "code",
   "execution_count": 14,
   "id": "1561d3b9",
   "metadata": {},
   "outputs": [
    {
     "data": {
      "text/plain": [
       "[0]"
      ]
     },
     "execution_count": 14,
     "metadata": {},
     "output_type": "execute_result"
    }
   ],
   "source": [
    "pop([0])"
   ]
  },
  {
   "cell_type": "code",
   "execution_count": 16,
   "id": "5df8654c",
   "metadata": {},
   "outputs": [],
   "source": [
    "#3.\n",
    "\n",
    "def loves_me(n):\n",
    "    s=''\n",
    "    for i in range(n):\n",
    "        if i!=n-1:\n",
    "            if i%2==0:\n",
    "                s=s+'Loves me, '\n",
    "            else:\n",
    "                s=s+'Loves me not, '\n",
    "        if i==n-1:\n",
    "            if i%2==0:\n",
    "                s=s+'LOVES ME'\n",
    "            else:\n",
    "                s=s+'LOVES ME NOT'\n",
    "    return s"
   ]
  },
  {
   "cell_type": "code",
   "execution_count": 17,
   "id": "e3eced7d",
   "metadata": {},
   "outputs": [
    {
     "data": {
      "text/plain": [
       "'Loves me, Loves me not, Loves me, Loves me not, Loves me, LOVES ME NOT'"
      ]
     },
     "execution_count": 17,
     "metadata": {},
     "output_type": "execute_result"
    }
   ],
   "source": [
    "loves_me(6)"
   ]
  },
  {
   "cell_type": "code",
   "execution_count": 18,
   "id": "2adfa29b",
   "metadata": {},
   "outputs": [
    {
     "data": {
      "text/plain": [
       "'Loves me, Loves me not, LOVES ME'"
      ]
     },
     "execution_count": 18,
     "metadata": {},
     "output_type": "execute_result"
    }
   ],
   "source": [
    "loves_me(3)"
   ]
  },
  {
   "cell_type": "code",
   "execution_count": 19,
   "id": "07c30488",
   "metadata": {},
   "outputs": [
    {
     "data": {
      "text/plain": [
       "'LOVES ME'"
      ]
     },
     "execution_count": 19,
     "metadata": {},
     "output_type": "execute_result"
    }
   ],
   "source": [
    "loves_me(1)"
   ]
  },
  {
   "cell_type": "code",
   "execution_count": 53,
   "id": "de9d8626",
   "metadata": {},
   "outputs": [],
   "source": [
    "#4.\n",
    "\n",
    "\n",
    "def sort_by_letter(l):\n",
    "    m=[]\n",
    "    for i in l:\n",
    "        for j in i:\n",
    "            if j.isalpha():\n",
    "                j1=j+i\n",
    "                m.append(j1)\n",
    "    m.sort()\n",
    "    for i in range(len(m)):\n",
    "        s1=''\n",
    "        for j in range(1,len(m[i])):\n",
    "            s1=s1+m[i][j]\n",
    "        m[i]=s1\n",
    "    return m"
   ]
  },
  {
   "cell_type": "code",
   "execution_count": 54,
   "id": "3f41c046",
   "metadata": {},
   "outputs": [
    {
     "data": {
      "text/plain": [
       "['2344b', '932c', '832u32']"
      ]
     },
     "execution_count": 54,
     "metadata": {},
     "output_type": "execute_result"
    }
   ],
   "source": [
    "sort_by_letter([\"932c\", \"832u32\", \"2344b\"])\n"
   ]
  },
  {
   "cell_type": "code",
   "execution_count": 55,
   "id": "3653a42a",
   "metadata": {},
   "outputs": [
    {
     "data": {
      "text/plain": [
       "['99a', '78b', 'c2345', '11d']"
      ]
     },
     "execution_count": 55,
     "metadata": {},
     "output_type": "execute_result"
    }
   ],
   "source": [
    "sort_by_letter([\"99a\", \"78b\", \"c2345\", \"11d\"])"
   ]
  },
  {
   "cell_type": "code",
   "execution_count": 56,
   "id": "cc9cb975",
   "metadata": {},
   "outputs": [
    {
     "data": {
      "text/plain": [
       "['304q2', '5y5', '572z']"
      ]
     },
     "execution_count": 56,
     "metadata": {},
     "output_type": "execute_result"
    }
   ],
   "source": [
    "sort_by_letter([\"572z\", \"5y5\", \"304q2\"])"
   ]
  },
  {
   "cell_type": "code",
   "execution_count": 1,
   "id": "832156ed",
   "metadata": {},
   "outputs": [],
   "source": [
    "#5.\n",
    "\n",
    "def cup_swaping(l):\n",
    "    n='B'\n",
    "    for i in range(len(l)):\n",
    "        if n in l[i]:\n",
    "            if n==l[i][0]:\n",
    "                n=l[i][1]\n",
    "            else:\n",
    "                n=l[i][0]\n",
    "    return n"
   ]
  },
  {
   "cell_type": "code",
   "execution_count": 2,
   "id": "ee5b175c",
   "metadata": {},
   "outputs": [
    {
     "data": {
      "text/plain": [
       "'C'"
      ]
     },
     "execution_count": 2,
     "metadata": {},
     "output_type": "execute_result"
    }
   ],
   "source": [
    "cup_swaping(['AB', 'CA', 'AB'])"
   ]
  },
  {
   "cell_type": "code",
   "execution_count": 3,
   "id": "e8f9f5ad",
   "metadata": {},
   "outputs": [
    {
     "data": {
      "text/plain": [
       "'B'"
      ]
     },
     "execution_count": 3,
     "metadata": {},
     "output_type": "execute_result"
    }
   ],
   "source": [
    "cup_swaping(['CA','AB','AB'])"
   ]
  },
  {
   "cell_type": "code",
   "execution_count": null,
   "id": "641edc5d",
   "metadata": {},
   "outputs": [],
   "source": []
  }
 ],
 "metadata": {
  "kernelspec": {
   "display_name": "Python 3 (ipykernel)",
   "language": "python",
   "name": "python3"
  },
  "language_info": {
   "codemirror_mode": {
    "name": "ipython",
    "version": 3
   },
   "file_extension": ".py",
   "mimetype": "text/x-python",
   "name": "python",
   "nbconvert_exporter": "python",
   "pygments_lexer": "ipython3",
   "version": "3.9.7"
  }
 },
 "nbformat": 4,
 "nbformat_minor": 5
}
