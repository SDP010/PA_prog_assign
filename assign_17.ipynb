{
 "cells": [
  {
   "cell_type": "code",
   "execution_count": 4,
   "id": "9c819fa7",
   "metadata": {},
   "outputs": [],
   "source": [
    "#1.\n",
    "\n",
    "def transpose_matrix(l):\n",
    "    m=len(l)\n",
    "    n=len(l[0])\n",
    "    l1=[]\n",
    "    for i in range(n):\n",
    "        l2=[]\n",
    "        for j in range(m):\n",
    "            l2.append(l[j][i])\n",
    "        l1.append(l2)\n",
    "    return l1"
   ]
  },
  {
   "cell_type": "code",
   "execution_count": 5,
   "id": "db6f14bd",
   "metadata": {},
   "outputs": [
    {
     "data": {
      "text/plain": [
       "[[1, 2, 3], [1, 2, 3], [1, 2, 3]]"
      ]
     },
     "execution_count": 5,
     "metadata": {},
     "output_type": "execute_result"
    }
   ],
   "source": [
    "transpose_matrix([\n",
    "  [1, 1, 1],\n",
    "  [2, 2, 2],\n",
    "  [3, 3, 3]\n",
    "])"
   ]
  },
  {
   "cell_type": "code",
   "execution_count": 6,
   "id": "49d8d0dc",
   "metadata": {},
   "outputs": [
    {
     "data": {
      "text/plain": [
       "[[5, 6, 9], [5, 7, 1]]"
      ]
     },
     "execution_count": 6,
     "metadata": {},
     "output_type": "execute_result"
    }
   ],
   "source": [
    "transpose_matrix([\n",
    "  [5, 5],\n",
    "  [6, 7],\n",
    "  [9, 1]\n",
    "])"
   ]
  },
  {
   "cell_type": "code",
   "execution_count": 16,
   "id": "2ff7d63d",
   "metadata": {},
   "outputs": [],
   "source": [
    "#2.\n",
    "\n",
    "def is_valid_hex_code(s):\n",
    "    v='ABCDEFabcdef'\n",
    "    w='0123456789'\n",
    "    if len(s)==7 and s[0]=='#':\n",
    "        for i in range(1,len(s)):\n",
    "            if not(s[i] in v) and not(s[i] in w):\n",
    "                return False\n",
    "        return True\n",
    "    else:\n",
    "        return False"
   ]
  },
  {
   "cell_type": "code",
   "execution_count": 17,
   "id": "f4b8b3cf",
   "metadata": {},
   "outputs": [
    {
     "data": {
      "text/plain": [
       "True"
      ]
     },
     "execution_count": 17,
     "metadata": {},
     "output_type": "execute_result"
    }
   ],
   "source": [
    "is_valid_hex_code(\"#CD5C5C\")"
   ]
  },
  {
   "cell_type": "code",
   "execution_count": 18,
   "id": "8f868177",
   "metadata": {},
   "outputs": [
    {
     "data": {
      "text/plain": [
       "False"
      ]
     },
     "execution_count": 18,
     "metadata": {},
     "output_type": "execute_result"
    }
   ],
   "source": [
    "is_valid_hex_code(\"#CD5C5Z\")"
   ]
  },
  {
   "cell_type": "code",
   "execution_count": 19,
   "id": "1e3e51e1",
   "metadata": {},
   "outputs": [
    {
     "data": {
      "text/plain": [
       "True"
      ]
     },
     "execution_count": 19,
     "metadata": {},
     "output_type": "execute_result"
    }
   ],
   "source": [
    "is_valid_hex_code(\"#EAECEE\") "
   ]
  },
  {
   "cell_type": "code",
   "execution_count": 35,
   "id": "433ac707",
   "metadata": {},
   "outputs": [],
   "source": [
    "#3.\n",
    "\n",
    "def mark_maths(l):\n",
    "    import re\n",
    "    n=len(l)\n",
    "    count=0\n",
    "    for i in l:\n",
    "        m=re.findall(\"[0-9]{1,100}\",i)\n",
    "        if '+' in i:\n",
    "            if int(m[0])+int(m[1])==int(m[2]):\n",
    "                count=count+1\n",
    "        if '-' in i:\n",
    "            if int(m[0])-int(m[1])==int(m[2]) or int(m[1])-int(m[0])==int(m[2]):\n",
    "                count=count+1\n",
    "        if '*' in i:\n",
    "            if int(m[0])*int(m[1])==int(m[2]):\n",
    "                count=count+1\n",
    "        if '/' in i:\n",
    "            if float(m[0])/float(m[1])==float(m[2]):\n",
    "                count=count+1\n",
    "    m=round((count/n)*100,0)\n",
    "    return str(int(m))+'%'"
   ]
  },
  {
   "cell_type": "code",
   "execution_count": 36,
   "id": "9fb6e2a5",
   "metadata": {},
   "outputs": [
    {
     "data": {
      "text/plain": [
       "'75%'"
      ]
     },
     "execution_count": 36,
     "metadata": {},
     "output_type": "execute_result"
    }
   ],
   "source": [
    "mark_maths([\"2+2=4\", \"3+2=5\", \"10-3=3\", \"5+5=10\"]) "
   ]
  },
  {
   "cell_type": "code",
   "execution_count": 37,
   "id": "35464dda",
   "metadata": {},
   "outputs": [
    {
     "data": {
      "text/plain": [
       "'0%'"
      ]
     },
     "execution_count": 37,
     "metadata": {},
     "output_type": "execute_result"
    }
   ],
   "source": [
    "mark_maths([\"1-2=-2\"])"
   ]
  },
  {
   "cell_type": "code",
   "execution_count": 38,
   "id": "e019392b",
   "metadata": {},
   "outputs": [
    {
     "data": {
      "text/plain": [
       "'67%'"
      ]
     },
     "execution_count": 38,
     "metadata": {},
     "output_type": "execute_result"
    }
   ],
   "source": [
    "mark_maths([\"2+3=5\", \"4+4=9\", \"3-1=2\"])"
   ]
  },
  {
   "cell_type": "code",
   "execution_count": 39,
   "id": "820beed0",
   "metadata": {},
   "outputs": [
    {
     "data": {
      "text/plain": [
       "'100%'"
      ]
     },
     "execution_count": 39,
     "metadata": {},
     "output_type": "execute_result"
    }
   ],
   "source": [
    "mark_maths([\"2-3=-1\"])"
   ]
  },
  {
   "cell_type": "code",
   "execution_count": 53,
   "id": "36e19d6f",
   "metadata": {},
   "outputs": [],
   "source": [
    "#4.\n",
    "\n",
    "def magic_square_game(l,m):\n",
    "    sum1=0\n",
    "    for i in l[1]:\n",
    "        sum1=sum1+int(i)\n",
    "    sum2=0\n",
    "    for i in m[1]:\n",
    "        sum2=sum2+int(i)\n",
    "    if sum1%2!=0 and sum2%2==0:\n",
    "        if l[1][m[0]-1]==m[1][l[0]-1]:\n",
    "            return True\n",
    "        else:\n",
    "            return False\n",
    "    else:\n",
    "        return False"
   ]
  },
  {
   "cell_type": "code",
   "execution_count": 54,
   "id": "0179e417",
   "metadata": {},
   "outputs": [
    {
     "data": {
      "text/plain": [
       "False"
      ]
     },
     "execution_count": 54,
     "metadata": {},
     "output_type": "execute_result"
    }
   ],
   "source": [
    "magic_square_game([2, \"100\"], [1, \"101\"])"
   ]
  },
  {
   "cell_type": "code",
   "execution_count": 55,
   "id": "3ca8d5f7",
   "metadata": {},
   "outputs": [
    {
     "data": {
      "text/plain": [
       "True"
      ]
     },
     "execution_count": 55,
     "metadata": {},
     "output_type": "execute_result"
    }
   ],
   "source": [
    "magic_square_game([2, \"001\"], [1, \"101\"])"
   ]
  },
  {
   "cell_type": "code",
   "execution_count": 56,
   "id": "b61abe71",
   "metadata": {},
   "outputs": [
    {
     "data": {
      "text/plain": [
       "True"
      ]
     },
     "execution_count": 56,
     "metadata": {},
     "output_type": "execute_result"
    }
   ],
   "source": [
    "magic_square_game([3, \"111\"], [2, \"011\"])"
   ]
  },
  {
   "cell_type": "code",
   "execution_count": 57,
   "id": "7dc1c19e",
   "metadata": {},
   "outputs": [
    {
     "data": {
      "text/plain": [
       "False"
      ]
     },
     "execution_count": 57,
     "metadata": {},
     "output_type": "execute_result"
    }
   ],
   "source": [
    "magic_square_game([1, \"010\"], [3, \"101\"]) "
   ]
  },
  {
   "cell_type": "code",
   "execution_count": 48,
   "id": "35d523d5",
   "metadata": {},
   "outputs": [],
   "source": [
    "#5.\n",
    "\n",
    "def lets_meet(d,a,b):\n",
    "    x=(a*d)/(a+b)\n",
    "    t=x/a\n",
    "    t=t*3600\n",
    "    p=t//3600\n",
    "    t=t-(3600*p)\n",
    "    q=t//60\n",
    "    t=t-(60*q)\n",
    "    return \"{}h {}m {}s\".format(int(p),int(q),int(t))"
   ]
  },
  {
   "cell_type": "code",
   "execution_count": 49,
   "id": "6544b51e",
   "metadata": {},
   "outputs": [
    {
     "data": {
      "text/plain": [
       "'2h 30m 0s'"
      ]
     },
     "execution_count": 49,
     "metadata": {},
     "output_type": "execute_result"
    }
   ],
   "source": [
    "lets_meet(100, 10, 30) "
   ]
  },
  {
   "cell_type": "code",
   "execution_count": 52,
   "id": "353e0148",
   "metadata": {},
   "outputs": [
    {
     "data": {
      "text/plain": [
       "'1h 51m 59s'"
      ]
     },
     "execution_count": 52,
     "metadata": {},
     "output_type": "execute_result"
    }
   ],
   "source": [
    "lets_meet(280, 70, 80)"
   ]
  },
  {
   "cell_type": "code",
   "execution_count": 51,
   "id": "e6da6436",
   "metadata": {},
   "outputs": [
    {
     "data": {
      "text/plain": [
       "'0h 38m 34s'"
      ]
     },
     "execution_count": 51,
     "metadata": {},
     "output_type": "execute_result"
    }
   ],
   "source": [
    "lets_meet(90, 75, 65)"
   ]
  },
  {
   "cell_type": "code",
   "execution_count": null,
   "id": "dd04426d",
   "metadata": {},
   "outputs": [],
   "source": []
  }
 ],
 "metadata": {
  "kernelspec": {
   "display_name": "Python 3 (ipykernel)",
   "language": "python",
   "name": "python3"
  },
  "language_info": {
   "codemirror_mode": {
    "name": "ipython",
    "version": 3
   },
   "file_extension": ".py",
   "mimetype": "text/x-python",
   "name": "python",
   "nbconvert_exporter": "python",
   "pygments_lexer": "ipython3",
   "version": "3.9.7"
  }
 },
 "nbformat": 4,
 "nbformat_minor": 5
}
