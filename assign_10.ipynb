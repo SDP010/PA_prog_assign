{
 "cells": [
  {
   "cell_type": "code",
   "execution_count": 9,
   "id": "98886836",
   "metadata": {},
   "outputs": [],
   "source": [
    "#1.\n",
    "\n",
    "def get_frame(w,h,s):\n",
    "    l=[]\n",
    "    i=0\n",
    "    if w<3:\n",
    "        return 'invalid'\n",
    "    while i<h:\n",
    "        if i==0:\n",
    "            l.append([s*w])\n",
    "        if i>0 and i<h-1:\n",
    "            l.append([s+' '*(w-2)+s])\n",
    "        if i==h-1:\n",
    "            l.append([s*w])\n",
    "        i=i+1\n",
    "    return l\n",
    "    "
   ]
  },
  {
   "cell_type": "code",
   "execution_count": 10,
   "id": "6ae486c7",
   "metadata": {},
   "outputs": [
    {
     "data": {
      "text/plain": [
       "[['####'], ['#  #'], ['#  #'], ['#  #'], ['####']]"
      ]
     },
     "execution_count": 10,
     "metadata": {},
     "output_type": "execute_result"
    }
   ],
   "source": [
    "get_frame(4,5,'#')"
   ]
  },
  {
   "cell_type": "code",
   "execution_count": 11,
   "id": "738fc3c4",
   "metadata": {},
   "outputs": [
    {
     "data": {
      "text/plain": [
       "'invalid'"
      ]
     },
     "execution_count": 11,
     "metadata": {},
     "output_type": "execute_result"
    }
   ],
   "source": [
    "get_frame(2,3,'*')"
   ]
  },
  {
   "cell_type": "code",
   "execution_count": 23,
   "id": "47f64566",
   "metadata": {},
   "outputs": [],
   "source": [
    "#2.\n",
    "\n",
    "def boolean_and(l):\n",
    "    while len(l)>1:\n",
    "        a,b=l[0],l[1]\n",
    "        l.pop(0)\n",
    "        l.pop(0)\n",
    "        l.insert(0, a and b)\n",
    "    return l[0]"
   ]
  },
  {
   "cell_type": "code",
   "execution_count": 24,
   "id": "572ab269",
   "metadata": {},
   "outputs": [
    {
     "data": {
      "text/plain": [
       "False"
      ]
     },
     "execution_count": 24,
     "metadata": {},
     "output_type": "execute_result"
    }
   ],
   "source": [
    "boolean_and([True,True,False,True])"
   ]
  },
  {
   "cell_type": "code",
   "execution_count": 28,
   "id": "8903453a",
   "metadata": {},
   "outputs": [],
   "source": [
    "def boolean_or(l):\n",
    "    while len(l)>1:\n",
    "        a,b=l[0],l[1]\n",
    "        l.pop(0)\n",
    "        l.pop(0)\n",
    "        l.insert(0, a or b)\n",
    "    return l[0]"
   ]
  },
  {
   "cell_type": "code",
   "execution_count": 29,
   "id": "ce1176cc",
   "metadata": {},
   "outputs": [
    {
     "data": {
      "text/plain": [
       "True"
      ]
     },
     "execution_count": 29,
     "metadata": {},
     "output_type": "execute_result"
    }
   ],
   "source": [
    "boolean_or([True,True,False,False])"
   ]
  },
  {
   "cell_type": "code",
   "execution_count": 34,
   "id": "650bc669",
   "metadata": {},
   "outputs": [],
   "source": [
    "def boolean_xor(l):\n",
    "    while len(l)>1:\n",
    "        a,b=l[0],l[1]\n",
    "        l.pop(0)\n",
    "        l.pop(0)\n",
    "        if a==b:\n",
    "            l.insert(0, False)\n",
    "        if a!=b:\n",
    "            l.insert(0, True)\n",
    "        return l[0]"
   ]
  },
  {
   "cell_type": "code",
   "execution_count": 35,
   "id": "62b93db1",
   "metadata": {},
   "outputs": [
    {
     "data": {
      "text/plain": [
       "False"
      ]
     },
     "execution_count": 35,
     "metadata": {},
     "output_type": "execute_result"
    }
   ],
   "source": [
    "boolean_xor([True,True,False,False])"
   ]
  },
  {
   "cell_type": "code",
   "execution_count": 39,
   "id": "0e1ad074",
   "metadata": {},
   "outputs": [],
   "source": [
    "#3.\n",
    "\n",
    "def make_box(n):\n",
    "    l=[]\n",
    "    i=0\n",
    "    if n<3:\n",
    "        return 'invalid'\n",
    "    while i<n:\n",
    "        if i==0:\n",
    "            l.append(['#'*n])\n",
    "        if i>0 and i<n-1:\n",
    "            l.append(['#'+' '*(n-2)+'#'])\n",
    "        if i==n-1:\n",
    "            l.append(['#'*n])\n",
    "        i=i+1\n",
    "    return l    "
   ]
  },
  {
   "cell_type": "code",
   "execution_count": 40,
   "id": "99bc000d",
   "metadata": {},
   "outputs": [
    {
     "data": {
      "text/plain": [
       "[['#####'], ['#   #'], ['#   #'], ['#   #'], ['#####']]"
      ]
     },
     "execution_count": 40,
     "metadata": {},
     "output_type": "execute_result"
    }
   ],
   "source": [
    "make_box(5)"
   ]
  },
  {
   "cell_type": "code",
   "execution_count": 44,
   "id": "fa5749b3",
   "metadata": {},
   "outputs": [],
   "source": [
    "#4.\n",
    "\n",
    "def no_duplicate_letters(s):\n",
    "    l=s.split(' ')\n",
    "    k=0\n",
    "    for i in l:\n",
    "        for j in i:\n",
    "            if i.count(j)>1:\n",
    "                return False\n",
    "    return True"
   ]
  },
  {
   "cell_type": "code",
   "execution_count": 45,
   "id": "49d9c470",
   "metadata": {},
   "outputs": [
    {
     "data": {
      "text/plain": [
       "False"
      ]
     },
     "execution_count": 45,
     "metadata": {},
     "output_type": "execute_result"
    }
   ],
   "source": [
    "no_duplicate_letters('look before you leap')"
   ]
  },
  {
   "cell_type": "code",
   "execution_count": 46,
   "id": "e123412a",
   "metadata": {},
   "outputs": [
    {
     "data": {
      "text/plain": [
       "True"
      ]
     },
     "execution_count": 46,
     "metadata": {},
     "output_type": "execute_result"
    }
   ],
   "source": [
    "no_duplicate_letters('fortune favours the bold')"
   ]
  },
  {
   "cell_type": "code",
   "execution_count": 5,
   "id": "eb7d942c",
   "metadata": {},
   "outputs": [
    {
     "data": {
      "text/plain": [
       "['California', 'Florida']"
      ]
     },
     "execution_count": 5,
     "metadata": {},
     "output_type": "execute_result"
    }
   ],
   "source": [
    "#5.\n",
    "\n",
    "txt = \"Texas = no, California = yes, Florida = yes, Michigan = no\"\n",
    "\n",
    "import re\n",
    "s=re.findall(\"[A-Z][a-z]{2,100} = yes\",txt)\n",
    "s1=''\n",
    "for i in s:\n",
    "    s1=s1+' '+i\n",
    "re.findall(\"[A-Z][a-z]{2,100}\", s1)"
   ]
  },
  {
   "cell_type": "code",
   "execution_count": null,
   "id": "0860046d",
   "metadata": {},
   "outputs": [],
   "source": []
  }
 ],
 "metadata": {
  "kernelspec": {
   "display_name": "Python 3 (ipykernel)",
   "language": "python",
   "name": "python3"
  },
  "language_info": {
   "codemirror_mode": {
    "name": "ipython",
    "version": 3
   },
   "file_extension": ".py",
   "mimetype": "text/x-python",
   "name": "python",
   "nbconvert_exporter": "python",
   "pygments_lexer": "ipython3",
   "version": "3.9.7"
  }
 },
 "nbformat": 4,
 "nbformat_minor": 5
}
