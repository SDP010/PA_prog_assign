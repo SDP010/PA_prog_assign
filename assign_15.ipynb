{
 "cells": [
  {
   "cell_type": "code",
   "execution_count": 1,
   "id": "5af6029b",
   "metadata": {},
   "outputs": [],
   "source": [
    "#1.\n",
    "\n",
    "def anagram(s,l):\n",
    "    m=s.split(' ')\n",
    "    a=0\n",
    "    b=0\n",
    "    for i in m:\n",
    "        a=a+len(i)\n",
    "    for i in l:\n",
    "        b=b+len(i)\n",
    "    if a==b:\n",
    "        return True\n",
    "    else:\n",
    "        return False"
   ]
  },
  {
   "cell_type": "code",
   "execution_count": 2,
   "id": "0988d1f3",
   "metadata": {},
   "outputs": [
    {
     "data": {
      "text/plain": [
       "True"
      ]
     },
     "execution_count": 2,
     "metadata": {},
     "output_type": "execute_result"
    }
   ],
   "source": [
    "anagram(\"Justin Bieber\", [\"injures\", \"ebb\", \"it\"])"
   ]
  },
  {
   "cell_type": "code",
   "execution_count": 3,
   "id": "37cb4be5",
   "metadata": {},
   "outputs": [
    {
     "data": {
      "text/plain": [
       "True"
      ]
     },
     "execution_count": 3,
     "metadata": {},
     "output_type": "execute_result"
    }
   ],
   "source": [
    "anagram(\"Natalie Portman\", [\"ornamental\", \"pita\"]) "
   ]
  },
  {
   "cell_type": "code",
   "execution_count": 4,
   "id": "ff7367ee",
   "metadata": {},
   "outputs": [
    {
     "data": {
      "text/plain": [
       "False"
      ]
     },
     "execution_count": 4,
     "metadata": {},
     "output_type": "execute_result"
    }
   ],
   "source": [
    "anagram(\"Jeff Goldblum\", [\"jog\", \"meld\", \"bluffs\"])"
   ]
  },
  {
   "cell_type": "code",
   "execution_count": 5,
   "id": "967e7f52",
   "metadata": {},
   "outputs": [
    {
     "data": {
      "text/plain": [
       "False"
      ]
     },
     "execution_count": 5,
     "metadata": {},
     "output_type": "execute_result"
    }
   ],
   "source": [
    "anagram(\"Chris Pratt\", [\"chirps\", \"rat\"])"
   ]
  },
  {
   "cell_type": "code",
   "execution_count": 6,
   "id": "8375d80a",
   "metadata": {},
   "outputs": [],
   "source": [
    "#2.\n",
    "\n",
    "def leaderboards(l):\n",
    "    sorted_list=sorted(l, key=lambda i:(2*i['reputation']+i['score']), reverse=True)\n",
    "    return sorted_list"
   ]
  },
  {
   "cell_type": "code",
   "execution_count": 8,
   "id": "bafc2dc9",
   "metadata": {},
   "outputs": [
    {
     "data": {
      "text/plain": [
       "[{'name': 'c', 'score': 115, 'reputation': 30},\n",
       " {'name': 'b', 'score': 90, 'reputation': 40},\n",
       " {'name': 'a', 'score': 100, 'reputation': 20}]"
      ]
     },
     "execution_count": 8,
     "metadata": {},
     "output_type": "execute_result"
    }
   ],
   "source": [
    "leaderboards([\n",
    "  { \"name\": \"a\", \"score\": 100, \"reputation\": 20 },\n",
    "  { \"name\": \"b\", \"score\": 90, \"reputation\": 40 },\n",
    "  { \"name\": \"c\", \"score\": 115, \"reputation\": 30 },\n",
    "])\n"
   ]
  },
  {
   "cell_type": "code",
   "execution_count": 20,
   "id": "9b43b269",
   "metadata": {},
   "outputs": [],
   "source": [
    "#3.\n",
    "\n",
    "def hangman(s,l):\n",
    "    s1=''\n",
    "    for i in s:\n",
    "        if not (i  in l) and not (i.swapcase() in l):\n",
    "            s=s.replace(i,'-')\n",
    "    return s"
   ]
  },
  {
   "cell_type": "code",
   "execution_count": 21,
   "id": "59f735fb",
   "metadata": {},
   "outputs": [
    {
     "data": {
      "text/plain": [
       "'-e---o--e-'"
      ]
     },
     "execution_count": 21,
     "metadata": {},
     "output_type": "execute_result"
    }
   ],
   "source": [
    "hangman(\"helicopter\", [\"o\", \"e\", \"s\"])"
   ]
  },
  {
   "cell_type": "code",
   "execution_count": 22,
   "id": "408c2354",
   "metadata": {},
   "outputs": [
    {
     "data": {
      "text/plain": [
       "'tree'"
      ]
     },
     "execution_count": 22,
     "metadata": {},
     "output_type": "execute_result"
    }
   ],
   "source": [
    "hangman(\"tree\", [\"r\", \"t\", \"e\"])"
   ]
  },
  {
   "cell_type": "code",
   "execution_count": 24,
   "id": "5c4ba164",
   "metadata": {},
   "outputs": [
    {
     "data": {
      "text/plain": [
       "'P----n-r----'"
      ]
     },
     "execution_count": 24,
     "metadata": {},
     "output_type": "execute_result"
    }
   ],
   "source": [
    "hangman(\"Python rules\", [\"a\", \"n\", \"p\", \"r\", \"z\"])"
   ]
  },
  {
   "cell_type": "code",
   "execution_count": 27,
   "id": "1284ac8b",
   "metadata": {},
   "outputs": [],
   "source": [
    "#4.\n",
    "\n",
    "def max_collatz(n):\n",
    "    m=[n]\n",
    "    while n>1:\n",
    "        if n%2==0:\n",
    "            m.append(int(n/2))\n",
    "            n=int(n/2)\n",
    "        else:\n",
    "            m.append(3*n+1)\n",
    "            n=3*n+1\n",
    "    return max(m)"
   ]
  },
  {
   "cell_type": "code",
   "execution_count": 28,
   "id": "b77dd366",
   "metadata": {},
   "outputs": [
    {
     "data": {
      "text/plain": [
       "16"
      ]
     },
     "execution_count": 28,
     "metadata": {},
     "output_type": "execute_result"
    }
   ],
   "source": [
    "max_collatz(10)"
   ]
  },
  {
   "cell_type": "code",
   "execution_count": 29,
   "id": "81aed4c6",
   "metadata": {},
   "outputs": [
    {
     "data": {
      "text/plain": [
       "32"
      ]
     },
     "execution_count": 29,
     "metadata": {},
     "output_type": "execute_result"
    }
   ],
   "source": [
    "max_collatz(32)"
   ]
  },
  {
   "cell_type": "code",
   "execution_count": 66,
   "id": "92f06cd2",
   "metadata": {},
   "outputs": [],
   "source": [
    "#5.\n",
    "\n",
    "def digit_sort(l):\n",
    "    for i in range(len(l)):\n",
    "        l[i]=str(l[i])\n",
    "    m=sorted(l, key=len ,reverse=True)\n",
    "    i=0\n",
    "    while i<len(m):\n",
    "        for j in range(i+1,len(m)):\n",
    "            if len(m[j])==len(m[i]):\n",
    "                if int(m[j])<int(m[i]):\n",
    "                    m[i],m[j]=m[j],m[i]\n",
    "        i=i+1\n",
    "    for i in range(len(m)):\n",
    "        m[i]=int(m[i])\n",
    "    return m"
   ]
  },
  {
   "cell_type": "code",
   "execution_count": 67,
   "id": "45a3e16e",
   "metadata": {},
   "outputs": [
    {
     "data": {
      "text/plain": [
       "[101, 23, 77, 5, 7]"
      ]
     },
     "execution_count": 67,
     "metadata": {},
     "output_type": "execute_result"
    }
   ],
   "source": [
    "digit_sort([77, 23, 5, 7, 101])"
   ]
  },
  {
   "cell_type": "code",
   "execution_count": 68,
   "id": "655ab6e5",
   "metadata": {},
   "outputs": [
    {
     "data": {
      "text/plain": [
       "[444, 563, 789, 1, 2, 5, 9]"
      ]
     },
     "execution_count": 68,
     "metadata": {},
     "output_type": "execute_result"
    }
   ],
   "source": [
    "digit_sort([1, 5, 9, 2, 789, 563, 444])"
   ]
  },
  {
   "cell_type": "code",
   "execution_count": null,
   "id": "edbafb60",
   "metadata": {},
   "outputs": [],
   "source": []
  }
 ],
 "metadata": {
  "kernelspec": {
   "display_name": "Python 3 (ipykernel)",
   "language": "python",
   "name": "python3"
  },
  "language_info": {
   "codemirror_mode": {
    "name": "ipython",
    "version": 3
   },
   "file_extension": ".py",
   "mimetype": "text/x-python",
   "name": "python",
   "nbconvert_exporter": "python",
   "pygments_lexer": "ipython3",
   "version": "3.9.7"
  }
 },
 "nbformat": 4,
 "nbformat_minor": 5
}
