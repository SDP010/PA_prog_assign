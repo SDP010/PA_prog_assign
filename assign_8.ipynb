{
 "cells": [
  {
   "cell_type": "code",
   "execution_count": 1,
   "id": "79850e84",
   "metadata": {},
   "outputs": [],
   "source": [
    "#1.\n",
    "\n",
    "def vowels_links(s):\n",
    "    l=s.split(' ')\n",
    "    k=0\n",
    "    s1='aeiou'\n",
    "    for i in range(len(l)-1):\n",
    "        if l[i][-1] in s1 and l[i+1][0] in s1:\n",
    "            k=1\n",
    "    if k==1:\n",
    "        return True\n",
    "    else:\n",
    "        return False"
   ]
  },
  {
   "cell_type": "code",
   "execution_count": 2,
   "id": "6969a2d1",
   "metadata": {},
   "outputs": [
    {
     "data": {
      "text/plain": [
       "True"
      ]
     },
     "execution_count": 2,
     "metadata": {},
     "output_type": "execute_result"
    }
   ],
   "source": [
    "vowels_links('a very large appliance')"
   ]
  },
  {
   "cell_type": "code",
   "execution_count": 3,
   "id": "306cc896",
   "metadata": {},
   "outputs": [
    {
     "data": {
      "text/plain": [
       "False"
      ]
     },
     "execution_count": 3,
     "metadata": {},
     "output_type": "execute_result"
    }
   ],
   "source": [
    "vowels_links('an open fire')"
   ]
  },
  {
   "cell_type": "code",
   "execution_count": 4,
   "id": "fafd3e2f",
   "metadata": {},
   "outputs": [],
   "source": [
    "#2.\n",
    "\n",
    "def first_before_second(string,a,b):\n",
    "    l=[]\n",
    "    m=[]\n",
    "    for i in range(len(string)):\n",
    "        if string[i]==a:\n",
    "            l.append(i)\n",
    "        if string[i]==b:\n",
    "            m.append(i)\n",
    "    if l[-1]<m[0]:\n",
    "        return True\n",
    "    else:\n",
    "        return False"
   ]
  },
  {
   "cell_type": "code",
   "execution_count": 5,
   "id": "cb8a3d48",
   "metadata": {},
   "outputs": [
    {
     "data": {
      "text/plain": [
       "True"
      ]
     },
     "execution_count": 5,
     "metadata": {},
     "output_type": "execute_result"
    }
   ],
   "source": [
    "first_before_second('a rabbit jumps joyfully', 'a', 'j')"
   ]
  },
  {
   "cell_type": "code",
   "execution_count": 6,
   "id": "04a8c871",
   "metadata": {},
   "outputs": [
    {
     "data": {
      "text/plain": [
       "False"
      ]
     },
     "execution_count": 6,
     "metadata": {},
     "output_type": "execute_result"
    }
   ],
   "source": [
    "first_before_second('happy birthday','a','y')"
   ]
  },
  {
   "cell_type": "code",
   "execution_count": 7,
   "id": "69c44fb5",
   "metadata": {},
   "outputs": [],
   "source": [
    "#3.\n",
    "\n",
    "def char_at_pos(s,t):\n",
    "    if t=='odd':\n",
    "        if type(s)==list:\n",
    "            l=[]\n",
    "            for i in range(1,len(s)+1):\n",
    "                if i%2!=0:\n",
    "                    l.append(s[i-1])\n",
    "            return l\n",
    "        if type(s)==str:\n",
    "            s1=''\n",
    "            for i in range(1,len(s)+1):\n",
    "                if i%2!=0:\n",
    "                    s1=s1+s[i-1]\n",
    "            return s1\n",
    "    if t=='even':\n",
    "        if type(s)==list:\n",
    "            l=[]\n",
    "            for i in range(1,len(s)+1):\n",
    "                if i%2==0:\n",
    "                    l.append(s[i-1])\n",
    "            return l\n",
    "        if type(s)==str:\n",
    "            s1=''\n",
    "            for i in range(1,len(s)+1):\n",
    "                if i%2==0:\n",
    "                    s1=s1+s[i-1]\n",
    "            return s1       "
   ]
  },
  {
   "cell_type": "code",
   "execution_count": 8,
   "id": "d4e68e68",
   "metadata": {},
   "outputs": [
    {
     "data": {
      "text/plain": [
       "[4, 8]"
      ]
     },
     "execution_count": 8,
     "metadata": {},
     "output_type": "execute_result"
    }
   ],
   "source": [
    "char_at_pos([2, 4, 6, 8, 10], \"even\")"
   ]
  },
  {
   "cell_type": "code",
   "execution_count": 9,
   "id": "c1473dcd",
   "metadata": {},
   "outputs": [
    {
     "data": {
      "text/plain": [
       "'EAI'"
      ]
     },
     "execution_count": 9,
     "metadata": {},
     "output_type": "execute_result"
    }
   ],
   "source": [
    "char_at_pos(\"EDABIT\", \"odd\")"
   ]
  },
  {
   "cell_type": "code",
   "execution_count": 29,
   "id": "3ad9c54e",
   "metadata": {},
   "outputs": [],
   "source": [
    "#4.\n",
    "\n",
    "def GCD(l):\n",
    "    g=min(l)\n",
    "    gcd=1\n",
    "    for i in range(1,g+1):\n",
    "        for j in l:\n",
    "            if j%i!=0:\n",
    "                break\n",
    "        else:\n",
    "            gcd=i\n",
    "    return gcd"
   ]
  },
  {
   "cell_type": "code",
   "execution_count": 30,
   "id": "69d9bd56",
   "metadata": {},
   "outputs": [
    {
     "data": {
      "text/plain": [
       "10"
      ]
     },
     "execution_count": 30,
     "metadata": {},
     "output_type": "execute_result"
    }
   ],
   "source": [
    "GCD([10,20,40])"
   ]
  },
  {
   "cell_type": "code",
   "execution_count": 31,
   "id": "4a874476",
   "metadata": {},
   "outputs": [
    {
     "data": {
      "text/plain": [
       "64"
      ]
     },
     "execution_count": 31,
     "metadata": {},
     "output_type": "execute_result"
    }
   ],
   "source": [
    "GCD([1024,192,2048,512])"
   ]
  },
  {
   "cell_type": "code",
   "execution_count": 25,
   "id": "8c2ac018",
   "metadata": {},
   "outputs": [],
   "source": [
    "#5.\n",
    "\n",
    "def palindrome_type(n):\n",
    "    s=str(n)\n",
    "    s1=str(bin(n)).lstrip('0b')\n",
    "    k=0\n",
    "    for i in range(len(s)):\n",
    "        if s[i]!=s[len(s)-i-1]:\n",
    "            k=k+1\n",
    "            break\n",
    "    for i in range(len(s1)):\n",
    "        if s1[i]!=s1[len(s1)-i-1]:\n",
    "            k=k+2\n",
    "            break\n",
    "    if k==0:\n",
    "        return 'decimal and binary'\n",
    "    if k==1:\n",
    "        return 'binary only'\n",
    "    if k==2:\n",
    "        return 'decimal only'\n",
    "    if k==3:\n",
    "        return 'neither'\n",
    "    "
   ]
  },
  {
   "cell_type": "code",
   "execution_count": 26,
   "id": "8e876ed2",
   "metadata": {},
   "outputs": [
    {
     "data": {
      "text/plain": [
       "'decimal only'"
      ]
     },
     "execution_count": 26,
     "metadata": {},
     "output_type": "execute_result"
    }
   ],
   "source": [
    "palindrome_type(1306031)"
   ]
  },
  {
   "cell_type": "code",
   "execution_count": 27,
   "id": "a97b5ffd",
   "metadata": {},
   "outputs": [
    {
     "data": {
      "text/plain": [
       "'binary only'"
      ]
     },
     "execution_count": 27,
     "metadata": {},
     "output_type": "execute_result"
    }
   ],
   "source": [
    "palindrome_type(427787)"
   ]
  },
  {
   "cell_type": "code",
   "execution_count": 28,
   "id": "4c39729c",
   "metadata": {},
   "outputs": [
    {
     "data": {
      "text/plain": [
       "'decimal and binary'"
      ]
     },
     "execution_count": 28,
     "metadata": {},
     "output_type": "execute_result"
    }
   ],
   "source": [
    "palindrome_type(313)"
   ]
  },
  {
   "cell_type": "code",
   "execution_count": null,
   "id": "3bfec6e3",
   "metadata": {},
   "outputs": [],
   "source": []
  }
 ],
 "metadata": {
  "kernelspec": {
   "display_name": "Python 3 (ipykernel)",
   "language": "python",
   "name": "python3"
  },
  "language_info": {
   "codemirror_mode": {
    "name": "ipython",
    "version": 3
   },
   "file_extension": ".py",
   "mimetype": "text/x-python",
   "name": "python",
   "nbconvert_exporter": "python",
   "pygments_lexer": "ipython3",
   "version": "3.9.7"
  }
 },
 "nbformat": 4,
 "nbformat_minor": 5
}
