{
 "cells": [
  {
   "cell_type": "code",
   "execution_count": 1,
   "id": "ef1de55e",
   "metadata": {},
   "outputs": [],
   "source": [
    "#1.\n",
    "\n",
    "\n",
    "class mutate_list:\n",
    "    def __init__(self,l):\n",
    "        self.list=l\n",
    "    def repeat(self,l,n):\n",
    "        l1=[]\n",
    "        for i in range(n):\n",
    "            for j in l:\n",
    "                l1.append(j)\n",
    "            self.list=l1\n",
    "        return self.list\n",
    "    def add(self,l,n):\n",
    "        l.append(n)\n",
    "        self.list=l\n",
    "        return self.list\n",
    "    def remove(self,l,a,b):\n",
    "        i=a\n",
    "        count=a\n",
    "        while count<b+1:\n",
    "            l.pop(i)\n",
    "            count=count+1\n",
    "        self.list=l\n",
    "        return self.list\n",
    "    def concat(self,l,l1):\n",
    "        self.list=l+l1\n",
    "        return self.list"
   ]
  },
  {
   "cell_type": "code",
   "execution_count": 2,
   "id": "4f09f5c4",
   "metadata": {},
   "outputs": [],
   "source": [
    "lst = mutate_list([1, 2, 3, 4])"
   ]
  },
  {
   "cell_type": "code",
   "execution_count": 3,
   "id": "d1485ad2",
   "metadata": {},
   "outputs": [
    {
     "data": {
      "text/plain": [
       "[1, 2, 3, 4, 1, 2, 3, 4, 1, 2, 3, 4]"
      ]
     },
     "execution_count": 3,
     "metadata": {},
     "output_type": "execute_result"
    }
   ],
   "source": [
    "lst.repeat(lst.list,3)"
   ]
  },
  {
   "cell_type": "code",
   "execution_count": 4,
   "id": "7f00c604",
   "metadata": {},
   "outputs": [
    {
     "data": {
      "text/plain": [
       "[1, 2, 3, 4, 1, 2, 3, 4, 1, 2, 3, 4, 1]"
      ]
     },
     "execution_count": 4,
     "metadata": {},
     "output_type": "execute_result"
    }
   ],
   "source": [
    "lst.add(lst.list,1)"
   ]
  },
  {
   "cell_type": "code",
   "execution_count": 5,
   "id": "c17e40e2",
   "metadata": {},
   "outputs": [
    {
     "data": {
      "text/plain": [
       "[1]"
      ]
     },
     "execution_count": 5,
     "metadata": {},
     "output_type": "execute_result"
    }
   ],
   "source": [
    "lst.remove(lst.list,1,12)"
   ]
  },
  {
   "cell_type": "code",
   "execution_count": 6,
   "id": "03ad5838",
   "metadata": {},
   "outputs": [
    {
     "data": {
      "text/plain": [
       "[1, 3, 4]"
      ]
     },
     "execution_count": 6,
     "metadata": {},
     "output_type": "execute_result"
    }
   ],
   "source": [
    "lst.concat(lst.list, [3, 4])"
   ]
  },
  {
   "cell_type": "code",
   "execution_count": 13,
   "id": "fe2c9ed6",
   "metadata": {},
   "outputs": [],
   "source": [
    "#2.\n",
    "\n",
    "def guess_score(s1,s2):\n",
    "    black=0\n",
    "    white=0\n",
    "    for i in range(len(s1)):\n",
    "        if s1[i]==s2[i]:\n",
    "            black=black+1\n",
    "    i=0\n",
    "    while i<len(s1):\n",
    "        l=[]\n",
    "        for j in range(i):\n",
    "            l.append(s2[j])\n",
    "        for j in range(i+1,len(s2)):\n",
    "            l.append(s2[j])\n",
    "        if s1[i]!=s2[i]:\n",
    "            if s1[i] in l:\n",
    "                white=white+1\n",
    "        i=i+1\n",
    "    return {'black':black, 'white':white}"
   ]
  },
  {
   "cell_type": "code",
   "execution_count": 14,
   "id": "e09b0f23",
   "metadata": {},
   "outputs": [
    {
     "data": {
      "text/plain": [
       "{'black': 1, 'white': 0}"
      ]
     },
     "execution_count": 14,
     "metadata": {},
     "output_type": "execute_result"
    }
   ],
   "source": [
    "guess_score(\"1423\", \"2222\")"
   ]
  },
  {
   "cell_type": "code",
   "execution_count": 15,
   "id": "d1d8a826",
   "metadata": {},
   "outputs": [
    {
     "data": {
      "text/plain": [
       "{'black': 1, 'white': 3}"
      ]
     },
     "execution_count": 15,
     "metadata": {},
     "output_type": "execute_result"
    }
   ],
   "source": [
    "guess_score(\"1423\", \"1234\")"
   ]
  },
  {
   "cell_type": "code",
   "execution_count": 16,
   "id": "911a6ed6",
   "metadata": {},
   "outputs": [
    {
     "data": {
      "text/plain": [
       "{'black': 0, 'white': 2}"
      ]
     },
     "execution_count": 16,
     "metadata": {},
     "output_type": "execute_result"
    }
   ],
   "source": [
    "guess_score(\"1423\", \"2211\")"
   ]
  },
  {
   "cell_type": "code",
   "execution_count": 17,
   "id": "ad3e00b1",
   "metadata": {},
   "outputs": [
    {
     "data": {
      "text/plain": [
       "{'black': 0, 'white': 0}"
      ]
     },
     "execution_count": 17,
     "metadata": {},
     "output_type": "execute_result"
    }
   ],
   "source": [
    "guess_score(\"1423\", \"5678\")"
   ]
  },
  {
   "cell_type": "code",
   "execution_count": 24,
   "id": "f2f514f4",
   "metadata": {},
   "outputs": [],
   "source": [
    "#3.\n",
    "\n",
    "def two_product(l,n):\n",
    "    l1=[]\n",
    "    for i in l:\n",
    "        for j in l:\n",
    "            if i*j==n:\n",
    "                l1.append(i)\n",
    "                l1.append(j)\n",
    "    l1=set(l1)\n",
    "    l1=list(l1)\n",
    "    if len(l1)==2:\n",
    "        return l1\n",
    "    else:\n",
    "        return 'None'"
   ]
  },
  {
   "cell_type": "code",
   "execution_count": 25,
   "id": "0e0a0762",
   "metadata": {},
   "outputs": [
    {
     "data": {
      "text/plain": [
       "[4, 5]"
      ]
     },
     "execution_count": 25,
     "metadata": {},
     "output_type": "execute_result"
    }
   ],
   "source": [
    "two_product([1, 2, -1, 4, 5], 20)"
   ]
  },
  {
   "cell_type": "code",
   "execution_count": 26,
   "id": "e100055d",
   "metadata": {},
   "outputs": [
    {
     "data": {
      "text/plain": [
       "[2, 5]"
      ]
     },
     "execution_count": 26,
     "metadata": {},
     "output_type": "execute_result"
    }
   ],
   "source": [
    "two_product([1, 2, 3, 4, 5], 10)"
   ]
  },
  {
   "cell_type": "code",
   "execution_count": 27,
   "id": "d1c9e839",
   "metadata": {},
   "outputs": [
    {
     "data": {
      "text/plain": [
       "'None'"
      ]
     },
     "execution_count": 27,
     "metadata": {},
     "output_type": "execute_result"
    }
   ],
   "source": [
    "two_product([100, 12, 4, 1, 2], 15)"
   ]
  },
  {
   "cell_type": "code",
   "execution_count": 32,
   "id": "9a29a6bc",
   "metadata": {},
   "outputs": [],
   "source": [
    "#5.\n",
    "\n",
    "def same_vowel_group(l):\n",
    "    v='aeiou'\n",
    "    l1=[]\n",
    "    l2=[]\n",
    "    for i in l[0]:\n",
    "        if i in v:\n",
    "            l1.append(i)\n",
    "    for i in range(len(l)):\n",
    "        for j in l[i]:\n",
    "            if (j in v) and not(j in l1):\n",
    "                break\n",
    "        else:\n",
    "            l2.append(l[i])\n",
    "    return l2"
   ]
  },
  {
   "cell_type": "code",
   "execution_count": 33,
   "id": "fc2751da",
   "metadata": {},
   "outputs": [
    {
     "data": {
      "text/plain": [
       "['toe', 'ocelot']"
      ]
     },
     "execution_count": 33,
     "metadata": {},
     "output_type": "execute_result"
    }
   ],
   "source": [
    "same_vowel_group([\"toe\", \"ocelot\", \"maniac\"])"
   ]
  },
  {
   "cell_type": "code",
   "execution_count": 34,
   "id": "088c9f20",
   "metadata": {},
   "outputs": [
    {
     "data": {
      "text/plain": [
       "['many']"
      ]
     },
     "execution_count": 34,
     "metadata": {},
     "output_type": "execute_result"
    }
   ],
   "source": [
    "same_vowel_group([\"many\", \"carriage\", \"emit\", \"apricot\", \"animal\"])"
   ]
  },
  {
   "cell_type": "code",
   "execution_count": 35,
   "id": "b7cdfd65",
   "metadata": {},
   "outputs": [
    {
     "data": {
      "text/plain": [
       "['hoops', 'bot', 'bottom']"
      ]
     },
     "execution_count": 35,
     "metadata": {},
     "output_type": "execute_result"
    }
   ],
   "source": [
    "same_vowel_group([\"hoops\", \"chuff\", \"bot\", \"bottom\"]) "
   ]
  },
  {
   "cell_type": "code",
   "execution_count": 40,
   "id": "98e393cd",
   "metadata": {},
   "outputs": [],
   "source": [
    "#6.\n",
    "\n",
    "def find_lcm(num1, num2):\n",
    "    if(num1>num2):\n",
    "        num = num1\n",
    "        den = num2\n",
    "    else:\n",
    "        num = num2\n",
    "        den = num1\n",
    "    rem = num % den\n",
    "    while(rem != 0):\n",
    "        num = den\n",
    "        den = rem\n",
    "        rem = num % den\n",
    "    gcd = den\n",
    "    lcm = int(int(num1 * num2)/int(gcd))\n",
    "    return lcm\n",
    "def lcm_of_list(l):\n",
    "    num1=l[0]\n",
    "    num2=l[1]\n",
    "    lcm=find_lcm(num1,num2)\n",
    "    for i in range(2,len(l)):\n",
    "        lcm=find_lcm(lcm,l[i])\n",
    "    return lcm"
   ]
  },
  {
   "cell_type": "code",
   "execution_count": 41,
   "id": "ea342778",
   "metadata": {},
   "outputs": [
    {
     "data": {
      "text/plain": [
       "2520"
      ]
     },
     "execution_count": 41,
     "metadata": {},
     "output_type": "execute_result"
    }
   ],
   "source": [
    "lcm_of_list([1, 2, 3, 4, 5, 6, 7, 8, 9, 10]) "
   ]
  },
  {
   "cell_type": "code",
   "execution_count": 42,
   "id": "ed441980",
   "metadata": {},
   "outputs": [
    {
     "data": {
      "text/plain": [
       "27965340"
      ]
     },
     "execution_count": 42,
     "metadata": {},
     "output_type": "execute_result"
    }
   ],
   "source": [
    "lcm_of_list([13, 6, 17, 18, 19, 20, 37])"
   ]
  },
  {
   "cell_type": "code",
   "execution_count": 43,
   "id": "abd8ef11",
   "metadata": {},
   "outputs": [
    {
     "data": {
      "text/plain": [
       "2333760"
      ]
     },
     "execution_count": 43,
     "metadata": {},
     "output_type": "execute_result"
    }
   ],
   "source": [
    "lcm_of_list([44, 64, 12, 17, 65])"
   ]
  },
  {
   "cell_type": "code",
   "execution_count": null,
   "id": "d26ac11f",
   "metadata": {},
   "outputs": [],
   "source": []
  }
 ],
 "metadata": {
  "kernelspec": {
   "display_name": "Python 3 (ipykernel)",
   "language": "python",
   "name": "python3"
  },
  "language_info": {
   "codemirror_mode": {
    "name": "ipython",
    "version": 3
   },
   "file_extension": ".py",
   "mimetype": "text/x-python",
   "name": "python",
   "nbconvert_exporter": "python",
   "pygments_lexer": "ipython3",
   "version": "3.9.7"
  }
 },
 "nbformat": 4,
 "nbformat_minor": 5
}
