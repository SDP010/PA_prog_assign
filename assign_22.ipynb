{
 "cells": [
  {
   "cell_type": "code",
   "execution_count": 1,
   "id": "f7b7ca68",
   "metadata": {},
   "outputs": [],
   "source": [
    "#1.\n",
    "\n",
    "class Smoothie:\n",
    "    def __init__(self,ingredients):\n",
    "        self.ingredients=ingredients\n",
    "    def get_cost(self):\n",
    "        data={'Strawberries':1.50,'Banana':0.50,'Mango':2.50,'Blueberries':1.00,'Raspberries':1.00,'Apple':1.75,'Pineapple':3.50}\n",
    "        sum=0\n",
    "        l=list(data.keys())\n",
    "        for i in self.ingredients:\n",
    "            j=l.index(i)\n",
    "            sum=sum+data[i]\n",
    "            s1=\"$\"+str(sum)\n",
    "        return s1\n",
    "    def get_price(self):\n",
    "        n=self.get_cost()\n",
    "        s1=''\n",
    "        for i in range(1,len(n)):\n",
    "            s1=s1+n[i]\n",
    "        m=1.5*float(s1)+float(s1)\n",
    "        return '$'+str(m)\n",
    "    def get_name(self):\n",
    "        if len(self.ingredients)==1:\n",
    "            return self.ingredients[0]+' '+'Smoothie'\n",
    "        if len(self.ingredients)>1:\n",
    "            s1=''\n",
    "            for i in self.ingredients:\n",
    "                s1=s1+' '+i\n",
    "            s1=s1.lstrip()\n",
    "            s1=s1+' '+'Fusion'\n",
    "            return s1"
   ]
  },
  {
   "cell_type": "code",
   "execution_count": 2,
   "id": "a818a30c",
   "metadata": {},
   "outputs": [
    {
     "data": {
      "text/plain": [
       "['Raspberries', 'Strawberries', 'Blueberries']"
      ]
     },
     "execution_count": 2,
     "metadata": {},
     "output_type": "execute_result"
    }
   ],
   "source": [
    "s2 = Smoothie([\"Raspberries\", \"Strawberries\", \"Blueberries\"])\n",
    "s2.ingredients "
   ]
  },
  {
   "cell_type": "code",
   "execution_count": 3,
   "id": "16634374",
   "metadata": {},
   "outputs": [
    {
     "data": {
      "text/plain": [
       "'$3.5'"
      ]
     },
     "execution_count": 3,
     "metadata": {},
     "output_type": "execute_result"
    }
   ],
   "source": [
    "s2.get_cost()"
   ]
  },
  {
   "cell_type": "code",
   "execution_count": 4,
   "id": "7a2ba48e",
   "metadata": {},
   "outputs": [
    {
     "data": {
      "text/plain": [
       "'$8.75'"
      ]
     },
     "execution_count": 4,
     "metadata": {},
     "output_type": "execute_result"
    }
   ],
   "source": [
    "s2.get_price()"
   ]
  },
  {
   "cell_type": "code",
   "execution_count": 5,
   "id": "bb28066b",
   "metadata": {},
   "outputs": [
    {
     "data": {
      "text/plain": [
       "'Raspberries Strawberries Blueberries Fusion'"
      ]
     },
     "execution_count": 5,
     "metadata": {},
     "output_type": "execute_result"
    }
   ],
   "source": [
    "s2.get_name()"
   ]
  },
  {
   "cell_type": "code",
   "execution_count": 6,
   "id": "7385cc87",
   "metadata": {},
   "outputs": [
    {
     "data": {
      "text/plain": [
       "['Banana']"
      ]
     },
     "execution_count": 6,
     "metadata": {},
     "output_type": "execute_result"
    }
   ],
   "source": [
    "s1 = Smoothie([\"Banana\"])\n",
    "s1.ingredients"
   ]
  },
  {
   "cell_type": "code",
   "execution_count": 7,
   "id": "76a097b2",
   "metadata": {},
   "outputs": [
    {
     "name": "stdout",
     "output_type": "stream",
     "text": [
      "$0.5\n",
      "$1.25\n",
      "Banana Smoothie\n"
     ]
    }
   ],
   "source": [
    "print(s1.get_cost())\n",
    "print(s1.get_price())\n",
    "print(s1.get_name())"
   ]
  },
  {
   "cell_type": "code",
   "execution_count": 8,
   "id": "31a14c4c",
   "metadata": {},
   "outputs": [],
   "source": [
    "#2.\n",
    "\n",
    "class Testpaper:\n",
    "    def __init__(self,subject,mark_scheme,pass_mark):\n",
    "        self.subject=subject\n",
    "        self.markscheme=mark_scheme\n",
    "        self.pass_mark=pass_mark\n",
    "class Student(Testpaper):\n",
    "    def __init__(self):\n",
    "        self.tests_taken='No tests taken'\n",
    "    def take_test(self,paper,student_answers):\n",
    "        count=0\n",
    "        for i in paper.markscheme:\n",
    "            if i in student_answers:\n",
    "                count=count+1\n",
    "        mark=0\n",
    "        for i in paper.markscheme:\n",
    "            mark=mark+1\n",
    "        n=int(round((count/mark)*100, 0))\n",
    "        s1=''\n",
    "        if n>=float(paper.pass_mark[:-1]):\n",
    "            s1='Passed!'+'({})'.format(str(n))+'%'\n",
    "        else:\n",
    "            s1='Failed!'+'({})'.format(str(n))+'%'\n",
    "        if type(self.tests_taken)!=dict:\n",
    "            self.tests_taken={}\n",
    "        self.tests_taken[paper.subject]=s1"
   ]
  },
  {
   "cell_type": "code",
   "execution_count": 9,
   "id": "7e6310ff",
   "metadata": {},
   "outputs": [],
   "source": [
    "paper1 = Testpaper(\"Maths\", [\"1A\", \"2C\", \"3D\", \"4A\", \"5A\"], \"60%\")\n",
    "student1 = Student()"
   ]
  },
  {
   "cell_type": "code",
   "execution_count": 10,
   "id": "b2ab4dac",
   "metadata": {},
   "outputs": [
    {
     "data": {
      "text/plain": [
       "'No tests taken'"
      ]
     },
     "execution_count": 10,
     "metadata": {},
     "output_type": "execute_result"
    }
   ],
   "source": [
    "student1.tests_taken"
   ]
  },
  {
   "cell_type": "code",
   "execution_count": 11,
   "id": "573a6b79",
   "metadata": {},
   "outputs": [],
   "source": [
    "student1.take_test(paper1, [\"1A\", \"2D\", \"3D\", \"4A\", \"5A\"])"
   ]
  },
  {
   "cell_type": "code",
   "execution_count": 12,
   "id": "2ad51388",
   "metadata": {},
   "outputs": [
    {
     "data": {
      "text/plain": [
       "{'Maths': 'Passed!(80)%'}"
      ]
     },
     "execution_count": 12,
     "metadata": {},
     "output_type": "execute_result"
    }
   ],
   "source": [
    "student1.tests_taken"
   ]
  },
  {
   "cell_type": "code",
   "execution_count": 13,
   "id": "9c6a06b3",
   "metadata": {},
   "outputs": [
    {
     "data": {
      "text/plain": [
       "{'Chemistry': 'Failed!(25)%', 'Computing': 'Failed!(43)%'}"
      ]
     },
     "execution_count": 13,
     "metadata": {},
     "output_type": "execute_result"
    }
   ],
   "source": [
    "paper2 = Testpaper(\"Chemistry\", [\"1C\", \"2C\", \"3D\", \"4A\"], \"75%\")\n",
    "paper3 = Testpaper(\"Computing\", [\"1D\", \"2C\", \"3C\", \"4B\", \"5D\", \"6C\", \"7A\"], \"75%\")\n",
    "\n",
    "student2=Student()\n",
    "student2.take_test(paper2, [\"1C\", \"2D\", \"3A\", \"4C\"])\n",
    "student2.take_test(paper3, [\"1A\", \"2C\", \"3A\", \"4C\", \"5D\", \"6C\", \"7B\"])\n",
    "student2.tests_taken\n"
   ]
  },
  {
   "cell_type": "code",
   "execution_count": null,
   "id": "ea7de6a8",
   "metadata": {},
   "outputs": [],
   "source": []
  },
  {
   "cell_type": "code",
   "execution_count": null,
   "id": "8d0bba6d",
   "metadata": {},
   "outputs": [],
   "source": []
  },
  {
   "cell_type": "code",
   "execution_count": null,
   "id": "4e0c0c25",
   "metadata": {},
   "outputs": [],
   "source": []
  },
  {
   "cell_type": "code",
   "execution_count": 28,
   "id": "48bf0a55",
   "metadata": {},
   "outputs": [],
   "source": [
    "#3.\n",
    "\n",
    "class Train:\n",
    "    def __init__(self,places,time):\n",
    "        self.places=places\n",
    "        self.time=time\n",
    "def manage_delays(train, destination, t):\n",
    "    if destination in train.places:\n",
    "        s1='' \n",
    "        s1=train.time[3]+train.time[4]\n",
    "        n=int(s1)+t\n",
    "        s2=''\n",
    "        m=int(train.time[0]+train.time[1])\n",
    "        while n>60:\n",
    "            m=m+1\n",
    "            n=n-60\n",
    "        train.expected_time='{}'.format(m)+':'+'{}'.format(n)\n",
    "    else:\n",
    "         train.expected_time=train.time"
   ]
  },
  {
   "cell_type": "code",
   "execution_count": 29,
   "id": "bb804250",
   "metadata": {},
   "outputs": [],
   "source": [
    "trains = [\n",
    "  Train([\"Townsville\", \"Suburbia\", \"Urbantska\"], \"13:04\"),\n",
    "  Train([\"Farmsdale\", \"Suburbia\", \"Lakeside Valley\"], \"13:20\"),\n",
    "  Train([\"Suburbia\", \"Townsville\", \"Lakeside Valley\"], \"13:22\")\n",
    "]\n",
    "for t in trains:\n",
    "    manage_delays(t, \"Lakeside Valley\", 60)"
   ]
  },
  {
   "cell_type": "code",
   "execution_count": 30,
   "id": "3dade0d6",
   "metadata": {},
   "outputs": [
    {
     "data": {
      "text/plain": [
       "'13:04'"
      ]
     },
     "execution_count": 30,
     "metadata": {},
     "output_type": "execute_result"
    }
   ],
   "source": [
    "trains[0].expected_time"
   ]
  },
  {
   "cell_type": "code",
   "execution_count": 31,
   "id": "dba01905",
   "metadata": {},
   "outputs": [
    {
     "data": {
      "text/plain": [
       "'14:20'"
      ]
     },
     "execution_count": 31,
     "metadata": {},
     "output_type": "execute_result"
    }
   ],
   "source": [
    "trains[1].expected_time"
   ]
  },
  {
   "cell_type": "code",
   "execution_count": 32,
   "id": "3b15fe07",
   "metadata": {},
   "outputs": [
    {
     "data": {
      "text/plain": [
       "'14:22'"
      ]
     },
     "execution_count": 32,
     "metadata": {},
     "output_type": "execute_result"
    }
   ],
   "source": [
    "trains[2].expected_time"
   ]
  },
  {
   "cell_type": "code",
   "execution_count": 80,
   "id": "a785e1e4",
   "metadata": {},
   "outputs": [],
   "source": [
    "#4.\n",
    "\n",
    "def mine_run(l):\n",
    "    n=0\n",
    "    for i in range(len(l)):\n",
    "        if l[i]=='-->':\n",
    "                n=n+2.67\n",
    "        elif l[i]=='<--':\n",
    "            if n!=0:\n",
    "                n=n-2.67\n",
    "                if n==0:\n",
    "                    a=i\n",
    "                    break\n",
    "        elif l[i]=='---':\n",
    "            if n!=0:\n",
    "                n=n-1\n",
    "                if n==0:\n",
    "                    a=i\n",
    "                    break\n",
    "        elif l[i]=='<-->':\n",
    "            pass\n",
    "    if a==len(l)-1:\n",
    "        return True\n",
    "    else:\n",
    "        return a"
   ]
  },
  {
   "cell_type": "code",
   "execution_count": 81,
   "id": "6cdfd199",
   "metadata": {},
   "outputs": [
    {
     "data": {
      "text/plain": [
       "True"
      ]
     },
     "execution_count": 81,
     "metadata": {},
     "output_type": "execute_result"
    }
   ],
   "source": [
    "mine_run([\"-->\", \"-->\", \"-->\", \"<--\", \"<--\", \"<--\"])"
   ]
  },
  {
   "cell_type": "code",
   "execution_count": 82,
   "id": "2bf13dac",
   "metadata": {},
   "outputs": [
    {
     "data": {
      "text/plain": [
       "1"
      ]
     },
     "execution_count": 82,
     "metadata": {},
     "output_type": "execute_result"
    }
   ],
   "source": [
    "mine_run([\"-->\", \"<--\", \"-->\", \"-->\", \"<-->\", \"---\"]) "
   ]
  },
  {
   "cell_type": "code",
   "execution_count": null,
   "id": "b3811519",
   "metadata": {},
   "outputs": [],
   "source": []
  }
 ],
 "metadata": {
  "kernelspec": {
   "display_name": "Python 3 (ipykernel)",
   "language": "python",
   "name": "python3"
  },
  "language_info": {
   "codemirror_mode": {
    "name": "ipython",
    "version": 3
   },
   "file_extension": ".py",
   "mimetype": "text/x-python",
   "name": "python",
   "nbconvert_exporter": "python",
   "pygments_lexer": "ipython3",
   "version": "3.9.7"
  }
 },
 "nbformat": 4,
 "nbformat_minor": 5
}
