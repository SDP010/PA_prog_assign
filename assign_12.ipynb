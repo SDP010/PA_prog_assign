{
 "cells": [
  {
   "cell_type": "code",
   "execution_count": 6,
   "id": "947c45f2",
   "metadata": {},
   "outputs": [],
   "source": [
    "#1.\n",
    "\n",
    "def meme_sum(a,b):\n",
    "    s=''\n",
    "    s1=str(a)\n",
    "    s2=str(b)\n",
    "    n=len(s1)\n",
    "    m=len(s2)\n",
    "    s11=s1\n",
    "    s22=s2\n",
    "    if n>m:\n",
    "        for i in range(n-m):\n",
    "            s22='0'+s22\n",
    "    if n<m:\n",
    "        for i in range(m-n):\n",
    "            s11='0'+s11\n",
    "    for i in range(len(s11)):\n",
    "            s=s+str(int(s11[i])+int(s22[i]))\n",
    "    return int(s)"
   ]
  },
  {
   "cell_type": "code",
   "execution_count": 10,
   "id": "57978cce",
   "metadata": {},
   "outputs": [
    {
     "data": {
      "text/plain": [
       "4416"
      ]
     },
     "execution_count": 10,
     "metadata": {},
     "output_type": "execute_result"
    }
   ],
   "source": [
    "meme_sum(248,208)"
   ]
  },
  {
   "cell_type": "code",
   "execution_count": 8,
   "id": "7fae3eb8",
   "metadata": {},
   "outputs": [
    {
     "data": {
      "text/plain": [
       "1103"
      ]
     },
     "execution_count": 8,
     "metadata": {},
     "output_type": "execute_result"
    }
   ],
   "source": [
    "meme_sum(122,81)"
   ]
  },
  {
   "cell_type": "code",
   "execution_count": 9,
   "id": "57027f64",
   "metadata": {},
   "outputs": [
    {
     "data": {
      "text/plain": [
       "31499"
      ]
     },
     "execution_count": 9,
     "metadata": {},
     "output_type": "execute_result"
    }
   ],
   "source": [
    "meme_sum(1222,30277)"
   ]
  },
  {
   "cell_type": "code",
   "execution_count": 11,
   "id": "46d55d75",
   "metadata": {},
   "outputs": [],
   "source": [
    "#2.\n",
    "\n",
    "def next_prime(n):\n",
    "    i=n\n",
    "    while True:\n",
    "        k=0\n",
    "        for j in range(2,i):\n",
    "            if i%j==0:\n",
    "                k=1\n",
    "                break\n",
    "        if k==0:\n",
    "            return i\n",
    "        else:\n",
    "            i=i+1"
   ]
  },
  {
   "cell_type": "code",
   "execution_count": 12,
   "id": "22df6ead",
   "metadata": {},
   "outputs": [
    {
     "data": {
      "text/plain": [
       "13"
      ]
     },
     "execution_count": 12,
     "metadata": {},
     "output_type": "execute_result"
    }
   ],
   "source": [
    "next_prime(12)"
   ]
  },
  {
   "cell_type": "code",
   "execution_count": 13,
   "id": "ccac277c",
   "metadata": {},
   "outputs": [
    {
     "data": {
      "text/plain": [
       "29"
      ]
     },
     "execution_count": 13,
     "metadata": {},
     "output_type": "execute_result"
    }
   ],
   "source": [
    "next_prime(24)"
   ]
  },
  {
   "cell_type": "code",
   "execution_count": 14,
   "id": "e92c894b",
   "metadata": {},
   "outputs": [
    {
     "data": {
      "text/plain": [
       "11"
      ]
     },
     "execution_count": 14,
     "metadata": {},
     "output_type": "execute_result"
    }
   ],
   "source": [
    "next_prime(11)"
   ]
  },
  {
   "cell_type": "code",
   "execution_count": 22,
   "id": "26848ae6",
   "metadata": {},
   "outputs": [],
   "source": [
    "#3.\n",
    "\n",
    "def avg_spd(t,a,b):\n",
    "    distence=(t/60)*a\n",
    "    t1=distence/b\n",
    "    return int((2*distence)/(t/60+t1))"
   ]
  },
  {
   "cell_type": "code",
   "execution_count": 23,
   "id": "197c64da",
   "metadata": {},
   "outputs": [
    {
     "data": {
      "text/plain": [
       "30"
      ]
     },
     "execution_count": 23,
     "metadata": {},
     "output_type": "execute_result"
    }
   ],
   "source": [
    "avg_spd(18,20,60)"
   ]
  },
  {
   "cell_type": "code",
   "execution_count": 26,
   "id": "c78d7775",
   "metadata": {},
   "outputs": [
    {
     "data": {
      "text/plain": [
       "15"
      ]
     },
     "execution_count": 26,
     "metadata": {},
     "output_type": "execute_result"
    }
   ],
   "source": [
    "avg_spd(30,10,30)"
   ]
  },
  {
   "cell_type": "code",
   "execution_count": 27,
   "id": "25c1d521",
   "metadata": {},
   "outputs": [],
   "source": [
    "#4.\n",
    "\n",
    "def kempner(n):\n",
    "    for i in range(1,n+1):\n",
    "        mul=1\n",
    "        for j  in range(1,i+1):\n",
    "            mul=mul*j\n",
    "        if mul%n==0:\n",
    "            return i"
   ]
  },
  {
   "cell_type": "code",
   "execution_count": 29,
   "id": "9dbf43c6",
   "metadata": {},
   "outputs": [
    {
     "data": {
      "text/plain": [
       "5"
      ]
     },
     "execution_count": 29,
     "metadata": {},
     "output_type": "execute_result"
    }
   ],
   "source": [
    "kempner(10)"
   ]
  },
  {
   "cell_type": "code",
   "execution_count": 30,
   "id": "88dc43e8",
   "metadata": {},
   "outputs": [
    {
     "data": {
      "text/plain": [
       "3"
      ]
     },
     "execution_count": 30,
     "metadata": {},
     "output_type": "execute_result"
    }
   ],
   "source": [
    "kempner(6)"
   ]
  },
  {
   "cell_type": "code",
   "execution_count": 31,
   "id": "242101d2",
   "metadata": {},
   "outputs": [
    {
     "data": {
      "text/plain": [
       "5"
      ]
     },
     "execution_count": 31,
     "metadata": {},
     "output_type": "execute_result"
    }
   ],
   "source": [
    "kempner(5)"
   ]
  },
  {
   "cell_type": "code",
   "execution_count": 45,
   "id": "3174a14c",
   "metadata": {},
   "outputs": [],
   "source": [
    "#5.\n",
    "\n",
    "def boxes(l):\n",
    "    sum=0\n",
    "    count=1\n",
    "    i=0\n",
    "    while i<len(l):\n",
    "        if sum<10:\n",
    "            sum=sum+l[i]\n",
    "            i=i+1\n",
    "        if sum>=10 or i==len(l):\n",
    "            count=count+1\n",
    "            sum=0\n",
    "    return count"
   ]
  },
  {
   "cell_type": "code",
   "execution_count": 46,
   "id": "05a20b24",
   "metadata": {},
   "outputs": [
    {
     "data": {
      "text/plain": [
       "5"
      ]
     },
     "execution_count": 46,
     "metadata": {},
     "output_type": "execute_result"
    }
   ],
   "source": [
    "boxes([2,1,2,5,4,3,6,1,1,9,3,2])"
   ]
  },
  {
   "cell_type": "code",
   "execution_count": null,
   "id": "fa255189",
   "metadata": {},
   "outputs": [],
   "source": []
  }
 ],
 "metadata": {
  "kernelspec": {
   "display_name": "Python 3 (ipykernel)",
   "language": "python",
   "name": "python3"
  },
  "language_info": {
   "codemirror_mode": {
    "name": "ipython",
    "version": 3
   },
   "file_extension": ".py",
   "mimetype": "text/x-python",
   "name": "python",
   "nbconvert_exporter": "python",
   "pygments_lexer": "ipython3",
   "version": "3.9.7"
  }
 },
 "nbformat": 4,
 "nbformat_minor": 5
}
