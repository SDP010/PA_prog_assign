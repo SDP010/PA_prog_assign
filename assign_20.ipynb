{
 "cells": [
  {
   "cell_type": "code",
   "execution_count": 15,
   "id": "0a5474a8",
   "metadata": {},
   "outputs": [],
   "source": [
    "#1.\n",
    "\n",
    "def secret(s):\n",
    "    l=s.split('.')\n",
    "    s1=\"<p class=\"\n",
    "    if len(l)==2:\n",
    "        s1=s1+\"'\"+l[1]+\"'\"+'></p>'\n",
    "    if len(l)>2:\n",
    "        s1=s1+\"'\"+l[1]\n",
    "        for i in range(2,len(l)-1):\n",
    "            s1=s1+' '+l[i]\n",
    "        s1=s1+' '+l[-1]+\"'\"+'></p>'\n",
    "    return s1"
   ]
  },
  {
   "cell_type": "code",
   "execution_count": 16,
   "id": "14a40b5a",
   "metadata": {},
   "outputs": [
    {
     "data": {
      "text/plain": [
       "\"<p class='one two three'></p>\""
      ]
     },
     "execution_count": 16,
     "metadata": {},
     "output_type": "execute_result"
    }
   ],
   "source": [
    "secret(\"p.one.two.three\") "
   ]
  },
  {
   "cell_type": "code",
   "execution_count": 17,
   "id": "e2982a20",
   "metadata": {},
   "outputs": [
    {
     "data": {
      "text/plain": [
       "\"<p class='one'></p>\""
      ]
     },
     "execution_count": 17,
     "metadata": {},
     "output_type": "execute_result"
    }
   ],
   "source": [
    "secret(\"p.one\")"
   ]
  },
  {
   "cell_type": "code",
   "execution_count": 23,
   "id": "1592f62d",
   "metadata": {},
   "outputs": [],
   "source": [
    "#2.\n",
    "\n",
    "def count_lone_ones(n):\n",
    "    s=str(n)\n",
    "    count=0\n",
    "    if s[0]=='1' and s[1]!='1':\n",
    "        count=count+1\n",
    "    for i in range(1,len(s)-1):\n",
    "        if s[i]=='1':\n",
    "            if s[i-1]!='1' and s[i+1]!='1':\n",
    "                count=count+1\n",
    "    if s[len(s)-1]=='1' and s[len(s)-2]!='1':\n",
    "        count=count+1\n",
    "    return count"
   ]
  },
  {
   "cell_type": "code",
   "execution_count": 24,
   "id": "b2e82435",
   "metadata": {},
   "outputs": [
    {
     "data": {
      "text/plain": [
       "1"
      ]
     },
     "execution_count": 24,
     "metadata": {},
     "output_type": "execute_result"
    }
   ],
   "source": [
    "count_lone_ones(1191) "
   ]
  },
  {
   "cell_type": "code",
   "execution_count": 25,
   "id": "376d2f88",
   "metadata": {},
   "outputs": [
    {
     "data": {
      "text/plain": [
       "2"
      ]
     },
     "execution_count": 25,
     "metadata": {},
     "output_type": "execute_result"
    }
   ],
   "source": [
    "count_lone_ones(101)"
   ]
  },
  {
   "cell_type": "code",
   "execution_count": 26,
   "id": "8b1dd26b",
   "metadata": {},
   "outputs": [
    {
     "data": {
      "text/plain": [
       "0"
      ]
     },
     "execution_count": 26,
     "metadata": {},
     "output_type": "execute_result"
    }
   ],
   "source": [
    "count_lone_ones(1111)"
   ]
  },
  {
   "cell_type": "code",
   "execution_count": 27,
   "id": "18fac5b4",
   "metadata": {},
   "outputs": [
    {
     "data": {
      "text/plain": [
       "0"
      ]
     },
     "execution_count": 27,
     "metadata": {},
     "output_type": "execute_result"
    }
   ],
   "source": [
    "count_lone_ones(462)"
   ]
  },
  {
   "cell_type": "code",
   "execution_count": 61,
   "id": "e06136fc",
   "metadata": {},
   "outputs": [],
   "source": [
    "#3.\n",
    "\n",
    "def printGrid(m,n):\n",
    "    m1=[]\n",
    "    count=1\n",
    "    for j in range(n):\n",
    "        m2=[]\n",
    "        for k in range(m):\n",
    "            m2.append(count)\n",
    "            count=count+1\n",
    "        m1.append(m2)\n",
    "    m3=[]\n",
    "    for i in range(m):\n",
    "        m4=[]\n",
    "        for j in range(n):\n",
    "            m4.append(m1[j][i])\n",
    "        m3.append(m4)\n",
    "    return m3\n"
   ]
  },
  {
   "cell_type": "code",
   "execution_count": 62,
   "id": "bb66d3f7",
   "metadata": {},
   "outputs": [
    {
     "data": {
      "text/plain": [
       "[[1, 4, 7, 10, 13, 16], [2, 5, 8, 11, 14, 17], [3, 6, 9, 12, 15, 18]]"
      ]
     },
     "execution_count": 62,
     "metadata": {},
     "output_type": "execute_result"
    }
   ],
   "source": [
    "printGrid(3, 6)"
   ]
  },
  {
   "cell_type": "code",
   "execution_count": 63,
   "id": "09f38289",
   "metadata": {},
   "outputs": [
    {
     "data": {
      "text/plain": [
       "[[1, 6, 11], [2, 7, 12], [3, 8, 13], [4, 9, 14], [5, 10, 15]]"
      ]
     },
     "execution_count": 63,
     "metadata": {},
     "output_type": "execute_result"
    }
   ],
   "source": [
    "printGrid(5, 3)"
   ]
  },
  {
   "cell_type": "code",
   "execution_count": 65,
   "id": "138ff884",
   "metadata": {},
   "outputs": [],
   "source": [
    "#4.\n",
    "\n",
    "def min_miss_pos(l):\n",
    "    l.sort()\n",
    "    for i in range(min(l),max(l)+1):\n",
    "        if i>0:\n",
    "            if not i in l:\n",
    "                return i"
   ]
  },
  {
   "cell_type": "code",
   "execution_count": 66,
   "id": "c002e3de",
   "metadata": {},
   "outputs": [
    {
     "data": {
      "text/plain": [
       "1"
      ]
     },
     "execution_count": 66,
     "metadata": {},
     "output_type": "execute_result"
    }
   ],
   "source": [
    "min_miss_pos([0, 4, 4, -1, 9, 4, 5, 2, 10, 7, 6, 3, 10, 9])"
   ]
  },
  {
   "cell_type": "code",
   "execution_count": 67,
   "id": "c223be3c",
   "metadata": {},
   "outputs": [
    {
     "data": {
      "text/plain": [
       "8"
      ]
     },
     "execution_count": 67,
     "metadata": {},
     "output_type": "execute_result"
    }
   ],
   "source": [
    "min_miss_pos([-2, 6, 4, 5, 7, -1, 1, 3, 6, -2, 9, 10, 2, 2]) "
   ]
  },
  {
   "cell_type": "code",
   "execution_count": 74,
   "id": "776af0a8",
   "metadata": {},
   "outputs": [],
   "source": [
    "#5.\n",
    "\n",
    "def pizza_points(d,a,b):\n",
    "    l=[]\n",
    "    for i in d:\n",
    "        count=0\n",
    "        for j in d[i]:\n",
    "            if j>=b:\n",
    "                count=count+1\n",
    "        if count>=a:\n",
    "            l.append(i)\n",
    "    return l"
   ]
  },
  {
   "cell_type": "code",
   "execution_count": 75,
   "id": "c67f3769",
   "metadata": {},
   "outputs": [
    {
     "data": {
      "text/plain": [
       "['Spider-Man']"
      ]
     },
     "execution_count": 75,
     "metadata": {},
     "output_type": "execute_result"
    }
   ],
   "source": [
    "pizza_points({\n",
    "  \"Batman\": [22, 30, 11, 17, 15, 52, 27, 12],\n",
    "  \"Spider-Man\": [5, 17, 30, 33, 40, 22, 26, 10, 11, 45]\n",
    "}, 5,20)"
   ]
  },
  {
   "cell_type": "code",
   "execution_count": 76,
   "id": "146f3694",
   "metadata": {},
   "outputs": [
    {
     "data": {
      "text/plain": [
       "['Batman', 'Spider-Man']"
      ]
     },
     "execution_count": 76,
     "metadata": {},
     "output_type": "execute_result"
    }
   ],
   "source": [
    "pizza_points({\n",
    "  \"Batman\": [22, 30, 11, 17, 15, 52, 27, 12],\n",
    "  \"Spider-Man\": [5, 17, 30, 33, 40, 22, 26, 10, 11, 45]\n",
    "}, 3,10)"
   ]
  },
  {
   "cell_type": "code",
   "execution_count": 77,
   "id": "88242323",
   "metadata": {},
   "outputs": [
    {
     "data": {
      "text/plain": [
       "[]"
      ]
     },
     "execution_count": 77,
     "metadata": {},
     "output_type": "execute_result"
    }
   ],
   "source": [
    "pizza_points({\n",
    "  \"Batman\": [22, 30, 11, 17, 15, 52, 27, 12],\n",
    "  \"Spider-Man\": [5, 17, 30, 33, 40, 22, 26, 10, 11, 45]\n",
    "}, 5,100)"
   ]
  },
  {
   "cell_type": "code",
   "execution_count": null,
   "id": "6ffb0589",
   "metadata": {},
   "outputs": [],
   "source": []
  }
 ],
 "metadata": {
  "kernelspec": {
   "display_name": "Python 3 (ipykernel)",
   "language": "python",
   "name": "python3"
  },
  "language_info": {
   "codemirror_mode": {
    "name": "ipython",
    "version": 3
   },
   "file_extension": ".py",
   "mimetype": "text/x-python",
   "name": "python",
   "nbconvert_exporter": "python",
   "pygments_lexer": "ipython3",
   "version": "3.9.7"
  }
 },
 "nbformat": 4,
 "nbformat_minor": 5
}
