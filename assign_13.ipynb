{
 "cells": [
  {
   "cell_type": "code",
   "execution_count": 1,
   "id": "a8e16cb8",
   "metadata": {},
   "outputs": [],
   "source": [
    "#1.\n",
    "\n",
    "def remove_letters(list,string):\n",
    "    for i in string:\n",
    "        if i in list:\n",
    "            list.remove(i)\n",
    "    return list"
   ]
  },
  {
   "cell_type": "code",
   "execution_count": 2,
   "id": "ba05e384",
   "metadata": {},
   "outputs": [
    {
     "data": {
      "text/plain": [
       "['w']"
      ]
     },
     "execution_count": 2,
     "metadata": {},
     "output_type": "execute_result"
    }
   ],
   "source": [
    "remove_letters([\"s\", \"t\", \"r\", \"i\", \"n\", \"g\", \"w\"], \"string\")"
   ]
  },
  {
   "cell_type": "code",
   "execution_count": 3,
   "id": "7f1ea2d1",
   "metadata": {},
   "outputs": [
    {
     "data": {
      "text/plain": [
       "['b', 'g', 'w']"
      ]
     },
     "execution_count": 3,
     "metadata": {},
     "output_type": "execute_result"
    }
   ],
   "source": [
    "remove_letters([\"b\", \"b\", \"l\", \"l\", \"g\", \"n\", \"o\", \"a\", \"w\"], \"balloon\")"
   ]
  },
  {
   "cell_type": "code",
   "execution_count": 4,
   "id": "fc354db3",
   "metadata": {},
   "outputs": [
    {
     "data": {
      "text/plain": [
       "[]"
      ]
     },
     "execution_count": 4,
     "metadata": {},
     "output_type": "execute_result"
    }
   ],
   "source": [
    "remove_letters([\"d\", \"b\", \"t\", \"e\", \"a\", \"i\"], \"edabit\")"
   ]
  },
  {
   "cell_type": "code",
   "execution_count": 5,
   "id": "19474bff",
   "metadata": {},
   "outputs": [],
   "source": [
    "#3.\n",
    "\n",
    "def my_sub(a,b):\n",
    "    l=[]\n",
    "    for i in range(a,b):\n",
    "        l.append(i)\n",
    "    return len(l)"
   ]
  },
  {
   "cell_type": "code",
   "execution_count": 6,
   "id": "c04773c7",
   "metadata": {},
   "outputs": [
    {
     "data": {
      "text/plain": [
       "4"
      ]
     },
     "execution_count": 6,
     "metadata": {},
     "output_type": "execute_result"
    }
   ],
   "source": [
    "my_sub(5,9)"
   ]
  },
  {
   "cell_type": "code",
   "execution_count": 7,
   "id": "fd218878",
   "metadata": {},
   "outputs": [
    {
     "data": {
      "text/plain": [
       "20"
      ]
     },
     "execution_count": 7,
     "metadata": {},
     "output_type": "execute_result"
    }
   ],
   "source": [
    "my_sub(10,30)"
   ]
  },
  {
   "cell_type": "code",
   "execution_count": 8,
   "id": "ed95ff2c",
   "metadata": {},
   "outputs": [
    {
     "data": {
      "text/plain": [
       "0"
      ]
     },
     "execution_count": 8,
     "metadata": {},
     "output_type": "execute_result"
    }
   ],
   "source": [
    "my_sub(0,0)"
   ]
  },
  {
   "cell_type": "code",
   "execution_count": 9,
   "id": "bc328122",
   "metadata": {},
   "outputs": [],
   "source": [
    "#4.\n",
    "\n",
    "def add_bill(s):\n",
    "    l=s.split(',')\n",
    "    add=0\n",
    "    for i in l:\n",
    "        if i[0]=='d':\n",
    "            if i[-1]=='k':\n",
    "                s1=''\n",
    "                for j in range(1,len(i)-1):\n",
    "                    s1=s1+i[j]\n",
    "                n=int(s1)*1000\n",
    "                add=add+n\n",
    "            else:\n",
    "                s1=''\n",
    "                for j in range(1,len(i)):\n",
    "                    s1=s1+i[j]\n",
    "                n=int(s1)\n",
    "                add=add+n\n",
    "    return add"
   ]
  },
  {
   "cell_type": "code",
   "execution_count": 9,
   "id": "6c57001a",
   "metadata": {},
   "outputs": [
    {
     "data": {
      "text/plain": [
       "70"
      ]
     },
     "execution_count": 9,
     "metadata": {},
     "output_type": "execute_result"
    }
   ],
   "source": [
    "add_bill(\"d20,p40,p60,d50\")"
   ]
  },
  {
   "cell_type": "code",
   "execution_count": 10,
   "id": "b3ddd419",
   "metadata": {},
   "outputs": [
    {
     "data": {
      "text/plain": [
       "2200"
      ]
     },
     "execution_count": 10,
     "metadata": {},
     "output_type": "execute_result"
    }
   ],
   "source": [
    "add_bill(\"p30,d2k,p60,d200,p360\")"
   ]
  },
  {
   "cell_type": "code",
   "execution_count": 14,
   "id": "6478bfe6",
   "metadata": {},
   "outputs": [],
   "source": [
    "#5.\n",
    "\n",
    "def flip_list(l):\n",
    "    if type(l[0])==list:\n",
    "        m=[]\n",
    "        for i in l:\n",
    "            m.append(i[0])\n",
    "        return m\n",
    "    else:\n",
    "        m=[]\n",
    "        for i in l:\n",
    "            s=[]\n",
    "            s.append(i)\n",
    "            m.append(s)\n",
    "        return m"
   ]
  },
  {
   "cell_type": "code",
   "execution_count": 12,
   "id": "73d6b3d4",
   "metadata": {},
   "outputs": [
    {
     "data": {
      "text/plain": [
       "[[1], [2], [3], [4]]"
      ]
     },
     "execution_count": 12,
     "metadata": {},
     "output_type": "execute_result"
    }
   ],
   "source": [
    "flip_list([1, 2, 3, 4])"
   ]
  },
  {
   "cell_type": "code",
   "execution_count": 15,
   "id": "66d587c2",
   "metadata": {},
   "outputs": [
    {
     "data": {
      "text/plain": [
       "[5, 6, 9]"
      ]
     },
     "execution_count": 15,
     "metadata": {},
     "output_type": "execute_result"
    }
   ],
   "source": [
    "flip_list([[5], [6], [9]])"
   ]
  },
  {
   "cell_type": "code",
   "execution_count": null,
   "id": "108257ef",
   "metadata": {},
   "outputs": [],
   "source": []
  }
 ],
 "metadata": {
  "kernelspec": {
   "display_name": "Python 3 (ipykernel)",
   "language": "python",
   "name": "python3"
  },
  "language_info": {
   "codemirror_mode": {
    "name": "ipython",
    "version": 3
   },
   "file_extension": ".py",
   "mimetype": "text/x-python",
   "name": "python",
   "nbconvert_exporter": "python",
   "pygments_lexer": "ipython3",
   "version": "3.9.7"
  }
 },
 "nbformat": 4,
 "nbformat_minor": 5
}
