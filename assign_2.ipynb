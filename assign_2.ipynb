{
 "cells": [
  {
   "cell_type": "code",
   "execution_count": 2,
   "id": "6fecaf28",
   "metadata": {},
   "outputs": [
    {
     "data": {
      "text/plain": [
       "141"
      ]
     },
     "execution_count": 2,
     "metadata": {},
     "output_type": "execute_result"
    }
   ],
   "source": [
    "\"\"\"1. Write a function that takes a positive integer num and calculates how many\n",
    "dots exist in a pentagonal shape around the center dot on the Nth iteration.\n",
    "In the image below you can see the first iteration is only a single dot. On the\n",
    "second, there are 6 dots. On the third, there are 16 dots, and on the fourth\n",
    "there are 31 dots.\"\"\"\n",
    "\n",
    "def pentagonal(n):\n",
    "    sum=1\n",
    "    for i in range(1,n+1):\n",
    "        sum=sum+(5*i-5)\n",
    "    return sum\n",
    "\n",
    "pentagonal(8)"
   ]
  },
  {
   "cell_type": "code",
   "execution_count": 4,
   "id": "686e6bf9",
   "metadata": {},
   "outputs": [
    {
     "data": {
      "text/plain": [
       "'0n0n0baca'"
      ]
     },
     "execution_count": 4,
     "metadata": {},
     "output_type": "execute_result"
    }
   ],
   "source": [
    "\"\"\"2.\"\"\"\n",
    "\n",
    "def encrypt(s):\n",
    "    temp =''\n",
    "    for i in range(1,len(s)+1):\n",
    "        temp = temp + s[-i]\n",
    "    d={'a':'0','e':'1','i':'2','o':'2','u':'3'}\n",
    "    for i in temp :\n",
    "        if i in 'aeiou':\n",
    "            temp = temp.replace(i, d[i])\n",
    "    temp = temp +'aca'\n",
    "    return temp\n",
    "\n",
    "\n",
    "encrypt('banana')"
   ]
  },
  {
   "cell_type": "code",
   "execution_count": 6,
   "id": "cc2aaa35",
   "metadata": {},
   "outputs": [
    {
     "data": {
      "text/plain": [
       "True"
      ]
     },
     "execution_count": 6,
     "metadata": {},
     "output_type": "execute_result"
    }
   ],
   "source": [
    "\"\"\"3. Given the month and year as numbers, return whether that month contains\n",
    "a Friday 13th.(i.e You can check Python&#39;s datetime module)\"\"\"\n",
    "\n",
    "\n",
    "import datetime\n",
    "def has_friday_13(month,year):\n",
    "    return datetime.date(year,month,13).strftime('%A')=='Friday'\n",
    "\n",
    "has_friday_13(3,2020)"
   ]
  },
  {
   "cell_type": "code",
   "execution_count": 7,
   "id": "e19dc965",
   "metadata": {},
   "outputs": [
    {
     "data": {
      "text/plain": [
       "{'cows', 'pig'}"
      ]
     },
     "execution_count": 7,
     "metadata": {},
     "output_type": "execute_result"
    }
   ],
   "source": [
    "\"\"\"5. Given a list of words in the singular form, return a set of those words in the\n",
    "plural form if they appear more than once in the list.\"\"\"\n",
    "\n",
    "def pluralize(l):\n",
    "    m=[]\n",
    "    for i in l:\n",
    "        if l.count(i)>1:\n",
    "            m.append(i+'s')\n",
    "        if l.count(i)==1:\n",
    "            m.append(i)\n",
    "    return set(m)\n",
    "\n",
    "pluralize(['cow','pig','cow','cow'])"
   ]
  },
  {
   "cell_type": "code",
   "execution_count": null,
   "id": "65f54db0",
   "metadata": {},
   "outputs": [],
   "source": []
  }
 ],
 "metadata": {
  "kernelspec": {
   "display_name": "Python 3 (ipykernel)",
   "language": "python",
   "name": "python3"
  },
  "language_info": {
   "codemirror_mode": {
    "name": "ipython",
    "version": 3
   },
   "file_extension": ".py",
   "mimetype": "text/x-python",
   "name": "python",
   "nbconvert_exporter": "python",
   "pygments_lexer": "ipython3",
   "version": "3.9.7"
  }
 },
 "nbformat": 4,
 "nbformat_minor": 5
}
