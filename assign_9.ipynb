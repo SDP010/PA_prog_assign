{
 "cells": [
  {
   "cell_type": "code",
   "execution_count": 7,
   "id": "a5e27e4c",
   "metadata": {},
   "outputs": [],
   "source": [
    "#1.\n",
    "\n",
    "def playback_duration(s, n):\n",
    "    l=s.split(':')\n",
    "    x=int(l[0])*3600\n",
    "    y=int(l[1])*60\n",
    "    t=x+y+int(l[2])\n",
    "    m=[]\n",
    "    t=t/n\n",
    "    x=int(t//3600)\n",
    "    t=t-(x*3600)\n",
    "    y=int(t//60)\n",
    "    t=t-(y*60)\n",
    "    t=int(t)\n",
    "    if len(str(x))==1:\n",
    "        s1='0'+str(x)\n",
    "    else:\n",
    "        s1=str(x)\n",
    "    if len(str(y))==1:\n",
    "        s2='0'+str(y)\n",
    "    else:\n",
    "        s2=str(y)\n",
    "    if len(str(t))==1:\n",
    "        s3='0'+str(t)\n",
    "    else:\n",
    "        s3=str(t)\n",
    "    return s1+':'+s2+':'+s3"
   ]
  },
  {
   "cell_type": "code",
   "execution_count": 8,
   "id": "243b6265",
   "metadata": {},
   "outputs": [
    {
     "data": {
      "text/plain": [
       "'00:15:00'"
      ]
     },
     "execution_count": 8,
     "metadata": {},
     "output_type": "execute_result"
    }
   ],
   "source": [
    "playback_duration('00:30:00', 2)"
   ]
  },
  {
   "cell_type": "code",
   "execution_count": 9,
   "id": "6118cee4",
   "metadata": {},
   "outputs": [
    {
     "data": {
      "text/plain": [
       "'00:53:20'"
      ]
     },
     "execution_count": 9,
     "metadata": {},
     "output_type": "execute_result"
    }
   ],
   "source": [
    "playback_duration('01:20:00', 1.5)"
   ]
  },
  {
   "cell_type": "code",
   "execution_count": 10,
   "id": "03c29f5e",
   "metadata": {},
   "outputs": [
    {
     "data": {
      "text/plain": [
       "'102:40:18'"
      ]
     },
     "execution_count": 10,
     "metadata": {},
     "output_type": "execute_result"
    }
   ],
   "source": [
    "playback_duration('51:20:09', 0.5)"
   ]
  },
  {
   "cell_type": "code",
   "execution_count": 7,
   "id": "ab9a586e",
   "metadata": {},
   "outputs": [],
   "source": [
    "#2.\n",
    "\n",
    "def pile_of_cubes(m):\n",
    "    n=(-1+(1+8*m**0.5)**0.5)/2\n",
    "    if (n*10)%10==0:\n",
    "        return int(n)\n",
    "    else:\n",
    "        return 'None'"
   ]
  },
  {
   "cell_type": "code",
   "execution_count": 8,
   "id": "9d416fa1",
   "metadata": {},
   "outputs": [
    {
     "data": {
      "text/plain": [
       "2022"
      ]
     },
     "execution_count": 8,
     "metadata": {},
     "output_type": "execute_result"
    }
   ],
   "source": [
    "pile_of_cubes(4183059834009)"
   ]
  },
  {
   "cell_type": "code",
   "execution_count": 9,
   "id": "445c5fda",
   "metadata": {},
   "outputs": [
    {
     "data": {
      "text/plain": [
       "'None'"
      ]
     },
     "execution_count": 9,
     "metadata": {},
     "output_type": "execute_result"
    }
   ],
   "source": [
    "pile_of_cubes(16)"
   ]
  },
  {
   "cell_type": "code",
   "execution_count": 10,
   "id": "5c8bc898",
   "metadata": {},
   "outputs": [
    {
     "data": {
      "text/plain": [
       "45"
      ]
     },
     "execution_count": 10,
     "metadata": {},
     "output_type": "execute_result"
    }
   ],
   "source": [
    "pile_of_cubes(1071225)"
   ]
  },
  {
   "cell_type": "code",
   "execution_count": 34,
   "id": "21c6d403",
   "metadata": {},
   "outputs": [],
   "source": [
    "#3.\n",
    "\n",
    "def find_fulcrum(l):\n",
    "    for i in range(1,len(l)-1):\n",
    "        if sum(l[0:i])==sum(l[i+1:]):\n",
    "            return l[i]\n",
    "    return 'None'"
   ]
  },
  {
   "cell_type": "code",
   "execution_count": 35,
   "id": "b5e5c8e0",
   "metadata": {},
   "outputs": [
    {
     "data": {
      "text/plain": [
       "2"
      ]
     },
     "execution_count": 35,
     "metadata": {},
     "output_type": "execute_result"
    }
   ],
   "source": [
    "find_fulcrum([3,1,5,2,4,6,-1])"
   ]
  },
  {
   "cell_type": "code",
   "execution_count": 36,
   "id": "37e80124",
   "metadata": {},
   "outputs": [
    {
     "data": {
      "text/plain": [
       "4"
      ]
     },
     "execution_count": 36,
     "metadata": {},
     "output_type": "execute_result"
    }
   ],
   "source": [
    "find_fulcrum([1,2,4,9,10,-10,-9,3])"
   ]
  },
  {
   "cell_type": "code",
   "execution_count": 39,
   "id": "eecea5fe",
   "metadata": {},
   "outputs": [
    {
     "data": {
      "text/plain": [
       "'None'"
      ]
     },
     "execution_count": 39,
     "metadata": {},
     "output_type": "execute_result"
    }
   ],
   "source": [
    "find_fulcrum([8,8,8,8])"
   ]
  },
  {
   "cell_type": "code",
   "execution_count": 75,
   "id": "95d23d1d",
   "metadata": {},
   "outputs": [],
   "source": [
    "#4\n",
    "\n",
    "def sock_marchant(l):\n",
    "    pair=0\n",
    "    while len(l)!=0:\n",
    "        n=l.count(l[0])\n",
    "        m=l[0]\n",
    "        pair=pair+n//2\n",
    "        for j in range(n):\n",
    "            l.remove(m)        \n",
    "    return pair"
   ]
  },
  {
   "cell_type": "code",
   "execution_count": 76,
   "id": "79888743",
   "metadata": {},
   "outputs": [
    {
     "data": {
      "text/plain": [
       "2"
      ]
     },
     "execution_count": 76,
     "metadata": {},
     "output_type": "execute_result"
    }
   ],
   "source": [
    "sock_marchant([1,2,1,2,1,3,2])"
   ]
  },
  {
   "cell_type": "code",
   "execution_count": 77,
   "id": "7393b7b8",
   "metadata": {},
   "outputs": [
    {
     "data": {
      "text/plain": [
       "3"
      ]
     },
     "execution_count": 77,
     "metadata": {},
     "output_type": "execute_result"
    }
   ],
   "source": [
    "sock_marchant([10,20,20,10,10,30,50,10,20])\n"
   ]
  },
  {
   "cell_type": "code",
   "execution_count": 78,
   "id": "d4d385a7",
   "metadata": {},
   "outputs": [
    {
     "data": {
      "text/plain": [
       "4"
      ]
     },
     "execution_count": 78,
     "metadata": {},
     "output_type": "execute_result"
    }
   ],
   "source": [
    "sock_marchant([50,20,30,90,30,20,50,20,90])"
   ]
  },
  {
   "cell_type": "code",
   "execution_count": 79,
   "id": "d33eba29",
   "metadata": {},
   "outputs": [
    {
     "data": {
      "text/plain": [
       "0"
      ]
     },
     "execution_count": 79,
     "metadata": {},
     "output_type": "execute_result"
    }
   ],
   "source": [
    "sock_marchant([])"
   ]
  },
  {
   "cell_type": "code",
   "execution_count": 36,
   "id": "8771def7",
   "metadata": {},
   "outputs": [],
   "source": [
    "#5.\n",
    "\n",
    "def negative_sum(s):\n",
    "    import re\n",
    "    l=re.findall(\"[-]\\d*\", s)\n",
    "    sum=0\n",
    "    for i in l:\n",
    "        sum=sum+int(i)\n",
    "    return sum"
   ]
  },
  {
   "cell_type": "code",
   "execution_count": 37,
   "id": "24296d87",
   "metadata": {},
   "outputs": [
    {
     "data": {
      "text/plain": [
       "-23"
      ]
     },
     "execution_count": 37,
     "metadata": {},
     "output_type": "execute_result"
    }
   ],
   "source": [
    "negative_sum(\"-12 13%14&-11\")"
   ]
  },
  {
   "cell_type": "code",
   "execution_count": 38,
   "id": "7d8e805b",
   "metadata": {},
   "outputs": [
    {
     "data": {
      "text/plain": [
       "-33"
      ]
     },
     "execution_count": 38,
     "metadata": {},
     "output_type": "execute_result"
    }
   ],
   "source": [
    "negative_sum(\"22 13%14&-11-22 13 12\") "
   ]
  },
  {
   "cell_type": "code",
   "execution_count": null,
   "id": "f4e17652",
   "metadata": {},
   "outputs": [],
   "source": []
  },
  {
   "cell_type": "code",
   "execution_count": null,
   "id": "31e52813",
   "metadata": {},
   "outputs": [],
   "source": []
  }
 ],
 "metadata": {
  "kernelspec": {
   "display_name": "Python 3 (ipykernel)",
   "language": "python",
   "name": "python3"
  },
  "language_info": {
   "codemirror_mode": {
    "name": "ipython",
    "version": 3
   },
   "file_extension": ".py",
   "mimetype": "text/x-python",
   "name": "python",
   "nbconvert_exporter": "python",
   "pygments_lexer": "ipython3",
   "version": "3.9.7"
  }
 },
 "nbformat": 4,
 "nbformat_minor": 5
}
