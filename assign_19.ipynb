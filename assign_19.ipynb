{
 "cells": [
  {
   "cell_type": "code",
   "execution_count": 18,
   "id": "e5720067",
   "metadata": {},
   "outputs": [],
   "source": [
    "#1.\n",
    "\n",
    "def checker_board(n,a,b):\n",
    "    l=[]\n",
    "    for i in range(n):\n",
    "        m=[]\n",
    "        for j in range(n):\n",
    "            m.append(0)\n",
    "        l.append(m)\n",
    "    l[0][0]=a\n",
    "    for i in range(0,n):\n",
    "        if i>0:\n",
    "            if l[i-1][n-1]==a:\n",
    "                l[i][0]=b\n",
    "            if l[i-1][n-1]==b:\n",
    "                l[i][0]=a\n",
    "        for j in range(1,n):\n",
    "            if l[i][j-1]==a:\n",
    "                l[i][j]=b\n",
    "            if l[i][j-1]==b:\n",
    "                l[i][j]=a\n",
    "    return l"
   ]
  },
  {
   "cell_type": "code",
   "execution_count": 19,
   "id": "5b7ad409",
   "metadata": {},
   "outputs": [
    {
     "data": {
      "text/plain": [
       "[['A', 'B', 'A'], ['B', 'A', 'B'], ['A', 'B', 'A']]"
      ]
     },
     "execution_count": 19,
     "metadata": {},
     "output_type": "execute_result"
    }
   ],
   "source": [
    "checker_board(3, \"A\", \"B\")"
   ]
  },
  {
   "cell_type": "code",
   "execution_count": 20,
   "id": "095830f1",
   "metadata": {},
   "outputs": [
    {
     "data": {
      "text/plain": [
       "[['c', 'd', 'c', 'd'],\n",
       " ['c', 'd', 'c', 'd'],\n",
       " ['c', 'd', 'c', 'd'],\n",
       " ['c', 'd', 'c', 'd']]"
      ]
     },
     "execution_count": 20,
     "metadata": {},
     "output_type": "execute_result"
    }
   ],
   "source": [
    "checker_board(4, \"c\", \"d\")"
   ]
  },
  {
   "cell_type": "code",
   "execution_count": 27,
   "id": "caf38e80",
   "metadata": {},
   "outputs": [],
   "source": [
    "#2.\n",
    "\n",
    "def almost_palindrome(s):\n",
    "    count=0\n",
    "    if len(s)%2!=0:\n",
    "        for i in range(len(s)//2+1):\n",
    "            if s[i]!=s[len(s)-i-1]:\n",
    "                count=count+1\n",
    "    else:\n",
    "        for i in range(len(s)//2):\n",
    "            if s[i]!=s[len(s)-i-1]:\n",
    "                count=count+1\n",
    "    if count==1:\n",
    "        return True\n",
    "    else:\n",
    "        return False"
   ]
  },
  {
   "cell_type": "code",
   "execution_count": 28,
   "id": "772be736",
   "metadata": {},
   "outputs": [
    {
     "data": {
      "text/plain": [
       "True"
      ]
     },
     "execution_count": 28,
     "metadata": {},
     "output_type": "execute_result"
    }
   ],
   "source": [
    "almost_palindrome(\"abcdcbg\") "
   ]
  },
  {
   "cell_type": "code",
   "execution_count": 29,
   "id": "1e38ebfc",
   "metadata": {},
   "outputs": [
    {
     "data": {
      "text/plain": [
       "True"
      ]
     },
     "execution_count": 29,
     "metadata": {},
     "output_type": "execute_result"
    }
   ],
   "source": [
    "almost_palindrome(\"abccia\") "
   ]
  },
  {
   "cell_type": "code",
   "execution_count": 30,
   "id": "9e46f87d",
   "metadata": {},
   "outputs": [
    {
     "data": {
      "text/plain": [
       "False"
      ]
     },
     "execution_count": 30,
     "metadata": {},
     "output_type": "execute_result"
    }
   ],
   "source": [
    "almost_palindrome(\"abcdaaa\") "
   ]
  },
  {
   "cell_type": "code",
   "execution_count": 31,
   "id": "d5c86f38",
   "metadata": {},
   "outputs": [
    {
     "data": {
      "text/plain": [
       "False"
      ]
     },
     "execution_count": 31,
     "metadata": {},
     "output_type": "execute_result"
    }
   ],
   "source": [
    "almost_palindrome(\"1234312\")"
   ]
  },
  {
   "cell_type": "code",
   "execution_count": 44,
   "id": "ef2658dc",
   "metadata": {},
   "outputs": [],
   "source": [
    "#3.\n",
    "\n",
    "def prime_numbers(n):\n",
    "    if n>2:\n",
    "        i=2\n",
    "        l=[]\n",
    "        while i<=n:\n",
    "            for j in range(2,i):\n",
    "                if i%j==0:\n",
    "                    k=1\n",
    "                    break\n",
    "            else:\n",
    "                l.append(i)\n",
    "            i=i+1\n",
    "        return len(l)\n",
    "    if n==2:\n",
    "        return 1"
   ]
  },
  {
   "cell_type": "code",
   "execution_count": 45,
   "id": "8127a377",
   "metadata": {},
   "outputs": [
    {
     "data": {
      "text/plain": [
       "4"
      ]
     },
     "execution_count": 45,
     "metadata": {},
     "output_type": "execute_result"
    }
   ],
   "source": [
    "prime_numbers(10) "
   ]
  },
  {
   "cell_type": "code",
   "execution_count": 46,
   "id": "e4511764",
   "metadata": {},
   "outputs": [
    {
     "data": {
      "text/plain": [
       "8"
      ]
     },
     "execution_count": 46,
     "metadata": {},
     "output_type": "execute_result"
    }
   ],
   "source": [
    "prime_numbers(20) "
   ]
  },
  {
   "cell_type": "code",
   "execution_count": 47,
   "id": "1f4f0053",
   "metadata": {},
   "outputs": [
    {
     "data": {
      "text/plain": [
       "10"
      ]
     },
     "execution_count": 47,
     "metadata": {},
     "output_type": "execute_result"
    }
   ],
   "source": [
    "prime_numbers(30)"
   ]
  },
  {
   "cell_type": "code",
   "execution_count": 7,
   "id": "f66880d1",
   "metadata": {},
   "outputs": [],
   "source": [
    "#4.\n",
    "\n",
    "def after_n_days(l,n):\n",
    "    m=['Sunday','Monday','Tuesday','Wednesday','Thursday','Friday','Saturday']\n",
    "    m1=[]\n",
    "    for i in range(len(l)):\n",
    "        j=m.index(l[i])\n",
    "        if j+n>=len(m):\n",
    "            m1.append(m[j+n-len(m)])\n",
    "        else:\n",
    "            m1.append(m[j+n])\n",
    "    return m1"
   ]
  },
  {
   "cell_type": "code",
   "execution_count": 4,
   "id": "909f656f",
   "metadata": {},
   "outputs": [
    {
     "data": {
      "text/plain": [
       "['Monday', 'Friday']"
      ]
     },
     "execution_count": 4,
     "metadata": {},
     "output_type": "execute_result"
    }
   ],
   "source": [
    "after_n_days([\"Thursday\", \"Monday\"], 4)"
   ]
  },
  {
   "cell_type": "code",
   "execution_count": 5,
   "id": "09eb7b72",
   "metadata": {},
   "outputs": [
    {
     "data": {
      "text/plain": [
       "['Monday', 'Monday', 'Monday']"
      ]
     },
     "execution_count": 5,
     "metadata": {},
     "output_type": "execute_result"
    }
   ],
   "source": [
    "after_n_days([\"Sunday\", \"Sunday\", \"Sunday\"], 1) "
   ]
  },
  {
   "cell_type": "code",
   "execution_count": 8,
   "id": "650c6a34",
   "metadata": {},
   "outputs": [
    {
     "data": {
      "text/plain": [
       "['Tuesday', 'Wednesday', 'Saturday']"
      ]
     },
     "execution_count": 8,
     "metadata": {},
     "output_type": "execute_result"
    }
   ],
   "source": [
    "after_n_days([\"Monday\", \"Tuesday\", \"Friday\"], 1) "
   ]
  },
  {
   "cell_type": "code",
   "execution_count": 9,
   "id": "c33bfd18",
   "metadata": {},
   "outputs": [],
   "source": [
    "#5.\n",
    "\n",
    "def is_correct_aliases(l,m):\n",
    "    m1=[]\n",
    "    for i in m:\n",
    "        l1=i.split(' ')\n",
    "        m1.append(l1)\n",
    "    for i in range(len(l)):\n",
    "        if l[i][0]!=m1[i][0][0] or l[i][0]!=m1[i][1][0]:\n",
    "            return False\n",
    "    return True"
   ]
  },
  {
   "cell_type": "code",
   "execution_count": 10,
   "id": "b5f83c9e",
   "metadata": {},
   "outputs": [
    {
     "data": {
      "text/plain": [
       "True"
      ]
     },
     "execution_count": 10,
     "metadata": {},
     "output_type": "execute_result"
    }
   ],
   "source": [
    "is_correct_aliases([\"Adrian M.\", \"Harriet S.\", \"Mandy T.\"], [\"Amazing Artichoke\", \"Hopeful Hedgehog\", \"Marvelous Mouse\"])"
   ]
  },
  {
   "cell_type": "code",
   "execution_count": 11,
   "id": "970e6512",
   "metadata": {},
   "outputs": [
    {
     "data": {
      "text/plain": [
       "True"
      ]
     },
     "execution_count": 11,
     "metadata": {},
     "output_type": "execute_result"
    }
   ],
   "source": [
    "is_correct_aliases([\"Rachel F.\", \"Pam G.\", \"Fred Z.\", \"Nancy K.\"], [\"Reassuring Rat\", \"Peaceful Panda\", \"Fantastic Frog\", \"Notable Nickel\"])"
   ]
  },
  {
   "cell_type": "code",
   "execution_count": 12,
   "id": "396ad2bf",
   "metadata": {},
   "outputs": [
    {
     "data": {
      "text/plain": [
       "False"
      ]
     },
     "execution_count": 12,
     "metadata": {},
     "output_type": "execute_result"
    }
   ],
   "source": [
    "is_correct_aliases([\"Beth T.\"], [\"Brandishing Mimosa\"])"
   ]
  },
  {
   "cell_type": "code",
   "execution_count": null,
   "id": "9426abb4",
   "metadata": {},
   "outputs": [],
   "source": []
  }
 ],
 "metadata": {
  "kernelspec": {
   "display_name": "Python 3 (ipykernel)",
   "language": "python",
   "name": "python3"
  },
  "language_info": {
   "codemirror_mode": {
    "name": "ipython",
    "version": 3
   },
   "file_extension": ".py",
   "mimetype": "text/x-python",
   "name": "python",
   "nbconvert_exporter": "python",
   "pygments_lexer": "ipython3",
   "version": "3.9.7"
  }
 },
 "nbformat": 4,
 "nbformat_minor": 5
}
