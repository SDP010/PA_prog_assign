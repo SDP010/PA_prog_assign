{
 "cells": [
  {
   "cell_type": "code",
   "execution_count": 21,
   "id": "94c7797e",
   "metadata": {},
   "outputs": [],
   "source": [
    "#1.\n",
    "\n",
    "def show_the_love(l):\n",
    "    m=min(l)\n",
    "    add=0\n",
    "    for i in range(len(l)):\n",
    "        if l[i]!=m:\n",
    "            add=add+(l[i]/4)\n",
    "            l[i]=3*(l[i]/4)\n",
    "    for i in range(len(l)):\n",
    "        if l[i]==m:\n",
    "            m=m+add\n",
    "            l[i]=m\n",
    "            break\n",
    "    for i in range(len(l)):\n",
    "        if 10*l[i]%10==0:\n",
    "            l[i]=int(l[i])\n",
    "    return l"
   ]
  },
  {
   "cell_type": "code",
   "execution_count": 22,
   "id": "b6d864e2",
   "metadata": {},
   "outputs": [
    {
     "data": {
      "text/plain": [
       "[3, 3, 3]"
      ]
     },
     "execution_count": 22,
     "metadata": {},
     "output_type": "execute_result"
    }
   ],
   "source": [
    "show_the_love([4,1,4])"
   ]
  },
  {
   "cell_type": "code",
   "execution_count": 23,
   "id": "86b46252",
   "metadata": {},
   "outputs": [
    {
     "data": {
      "text/plain": [
       "[27, 75]"
      ]
     },
     "execution_count": 23,
     "metadata": {},
     "output_type": "execute_result"
    }
   ],
   "source": [
    "show_the_love([2, 100]) "
   ]
  },
  {
   "cell_type": "code",
   "execution_count": 24,
   "id": "8e00fb01",
   "metadata": {},
   "outputs": [
    {
     "data": {
      "text/plain": [
       "[12, 7.5, 14.5]"
      ]
     },
     "execution_count": 24,
     "metadata": {},
     "output_type": "execute_result"
    }
   ],
   "source": [
    "show_the_love([16, 10, 8])"
   ]
  },
  {
   "cell_type": "code",
   "execution_count": 30,
   "id": "42bea9af",
   "metadata": {},
   "outputs": [],
   "source": [
    "#2.\n",
    "\n",
    "def letters(s,t):\n",
    "    l=[]\n",
    "    s1=''\n",
    "    for i in s:\n",
    "        if i in t:\n",
    "            s1=s1+i\n",
    "    s2=set(s1)\n",
    "    s3=''\n",
    "    for i in s2:\n",
    "        s3=s3+i\n",
    "    l.append(s3)\n",
    "    s1=''\n",
    "    for i in s:\n",
    "        if not i in t:\n",
    "            s1=s1+i\n",
    "    s2=set(s1)\n",
    "    s3=''\n",
    "    for i in s2:\n",
    "        s3=s3+i\n",
    "    l.append(s3)\n",
    "    s1=''\n",
    "    for i in t:\n",
    "        if not i in s:\n",
    "            s1=s1+i\n",
    "    s2=set(s1)\n",
    "    s3=''\n",
    "    for i in s2:\n",
    "        s3=s3+i\n",
    "    l.append(s3)\n",
    "    return l"
   ]
  },
  {
   "cell_type": "code",
   "execution_count": 31,
   "id": "326c6387",
   "metadata": {},
   "outputs": [
    {
     "data": {
      "text/plain": [
       "['asp', 'hr', 'o']"
      ]
     },
     "execution_count": 31,
     "metadata": {},
     "output_type": "execute_result"
    }
   ],
   "source": [
    "letters(\"sharp\", \"soap\")"
   ]
  },
  {
   "cell_type": "code",
   "execution_count": 32,
   "id": "eca222a0",
   "metadata": {},
   "outputs": [
    {
     "data": {
      "text/plain": [
       "['npe', 'hasi', 'olv']"
      ]
     },
     "execution_count": 32,
     "metadata": {},
     "output_type": "execute_result"
    }
   ],
   "source": [
    "letters(\"happiness\", \"envelope\")"
   ]
  },
  {
   "cell_type": "code",
   "execution_count": 43,
   "id": "8d502106",
   "metadata": {},
   "outputs": [],
   "source": [
    "#3.\n",
    "\n",
    "def pairs(l):\n",
    "    m=[]\n",
    "    if len(l)%2!=0:\n",
    "        for i in range(len(l)//2+1):\n",
    "            s=[]\n",
    "            s.append(l[i])\n",
    "            s.append(l[len(l)-i-1])\n",
    "            m.append(s)\n",
    "    else:\n",
    "        for i in range(len(l)//2):\n",
    "            s=[]\n",
    "            s.append(l[i])\n",
    "            s.append(l[len(l)-i-1])\n",
    "            m.append(s)\n",
    "    return m"
   ]
  },
  {
   "cell_type": "code",
   "execution_count": 44,
   "id": "4efcd136",
   "metadata": {},
   "outputs": [
    {
     "data": {
      "text/plain": [
       "[[1, 6], [2, 5], [3, 4]]"
      ]
     },
     "execution_count": 44,
     "metadata": {},
     "output_type": "execute_result"
    }
   ],
   "source": [
    "pairs([1, 2, 3, 4, 5, 6])"
   ]
  },
  {
   "cell_type": "code",
   "execution_count": 45,
   "id": "6816ebd5",
   "metadata": {},
   "outputs": [
    {
     "data": {
      "text/plain": [
       "[[5, 2], [9, 1], [8, 8]]"
      ]
     },
     "execution_count": 45,
     "metadata": {},
     "output_type": "execute_result"
    }
   ],
   "source": [
    "pairs([5, 9, 8, 1, 2])"
   ]
  },
  {
   "cell_type": "code",
   "execution_count": 46,
   "id": "88feb68a",
   "metadata": {},
   "outputs": [
    {
     "data": {
      "text/plain": [
       "[[1, 7], [2, 6], [3, 5], [4, 4]]"
      ]
     },
     "execution_count": 46,
     "metadata": {},
     "output_type": "execute_result"
    }
   ],
   "source": [
    "pairs([1, 2, 3, 4, 5, 6, 7])"
   ]
  },
  {
   "cell_type": "code",
   "execution_count": 49,
   "id": "383eecfb",
   "metadata": {},
   "outputs": [],
   "source": [
    "#4.\n",
    "\n",
    "def add_str_nums(s,t):\n",
    "    try:\n",
    "        return int(s)+int(t)\n",
    "    except ValueError as e:\n",
    "        if s=='':\n",
    "            return int(t)\n",
    "        if t=='':\n",
    "            return int(s)\n",
    "        if not s.isdigit():\n",
    "            return -1\n",
    "        if not t.isdigit():\n",
    "            return -1"
   ]
  },
  {
   "cell_type": "code",
   "execution_count": 50,
   "id": "489fe75d",
   "metadata": {},
   "outputs": [
    {
     "data": {
      "text/plain": [
       "9"
      ]
     },
     "execution_count": 50,
     "metadata": {},
     "output_type": "execute_result"
    }
   ],
   "source": [
    "add_str_nums(\"4\", \"5\")"
   ]
  },
  {
   "cell_type": "code",
   "execution_count": 51,
   "id": "f9cb34f1",
   "metadata": {},
   "outputs": [
    {
     "data": {
      "text/plain": [
       "-1"
      ]
     },
     "execution_count": 51,
     "metadata": {},
     "output_type": "execute_result"
    }
   ],
   "source": [
    "add_str_nums(\"abcdefg\", \"3\")"
   ]
  },
  {
   "cell_type": "code",
   "execution_count": 52,
   "id": "44de8b1b",
   "metadata": {},
   "outputs": [
    {
     "data": {
      "text/plain": [
       "1"
      ]
     },
     "execution_count": 52,
     "metadata": {},
     "output_type": "execute_result"
    }
   ],
   "source": [
    "add_str_nums(\"1\", \"\")"
   ]
  },
  {
   "cell_type": "code",
   "execution_count": 5,
   "id": "52dc78d0",
   "metadata": {},
   "outputs": [],
   "source": [
    "#5.\n",
    "\n",
    "def unmix(string):\n",
    "    import re\n",
    "    l=re.findall(\"[A-Za-z0-9!@#$%^&*()_+,.;: ]{1,2}\",string)\n",
    "    s1=''\n",
    "    for i in l:\n",
    "        s2=''\n",
    "        if len(i)==2:\n",
    "            for j in range(1,len(i)+1):\n",
    "                s2=s2+i[-j]\n",
    "        if len(i)==1:\n",
    "            s2=s2+i\n",
    "        s1=s1+s2\n",
    "    return s1"
   ]
  },
  {
   "cell_type": "code",
   "execution_count": 6,
   "id": "4e4f2ceb",
   "metadata": {},
   "outputs": [
    {
     "data": {
      "text/plain": [
       "'214365'"
      ]
     },
     "execution_count": 6,
     "metadata": {},
     "output_type": "execute_result"
    }
   ],
   "source": [
    "unmix(\"123456\") "
   ]
  },
  {
   "cell_type": "code",
   "execution_count": 7,
   "id": "332ae6f6",
   "metadata": {},
   "outputs": [
    {
     "data": {
      "text/plain": [
       "'This is a mixed up string.'"
      ]
     },
     "execution_count": 7,
     "metadata": {},
     "output_type": "execute_result"
    }
   ],
   "source": [
    "unmix(\"hTsii  s aimex dpus rtni.g\")"
   ]
  },
  {
   "cell_type": "code",
   "execution_count": 8,
   "id": "09581782",
   "metadata": {},
   "outputs": [
    {
     "data": {
      "text/plain": [
       "'Please help me unmix these strings!'"
      ]
     },
     "execution_count": 8,
     "metadata": {},
     "output_type": "execute_result"
    }
   ],
   "source": [
    "unmix('lPaeesh le pemu mnxit ehess rtnisg!')"
   ]
  },
  {
   "cell_type": "code",
   "execution_count": 9,
   "id": "0643c9ab",
   "metadata": {},
   "outputs": [
    {
     "data": {
      "text/plain": [
       "'abcde'"
      ]
     },
     "execution_count": 9,
     "metadata": {},
     "output_type": "execute_result"
    }
   ],
   "source": [
    "unmix(\"badce\") "
   ]
  },
  {
   "cell_type": "code",
   "execution_count": null,
   "id": "3f0e99fb",
   "metadata": {},
   "outputs": [],
   "source": []
  }
 ],
 "metadata": {
  "kernelspec": {
   "display_name": "Python 3 (ipykernel)",
   "language": "python",
   "name": "python3"
  },
  "language_info": {
   "codemirror_mode": {
    "name": "ipython",
    "version": 3
   },
   "file_extension": ".py",
   "mimetype": "text/x-python",
   "name": "python",
   "nbconvert_exporter": "python",
   "pygments_lexer": "ipython3",
   "version": "3.9.7"
  }
 },
 "nbformat": 4,
 "nbformat_minor": 5
}
