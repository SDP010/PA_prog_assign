{
 "cells": [
  {
   "cell_type": "code",
   "execution_count": 6,
   "id": "093eaadb",
   "metadata": {},
   "outputs": [],
   "source": [
    "#1.\n",
    "\n",
    "def count_same_ends(s):\n",
    "    l=s.split(' ')\n",
    "    for i in range(len(l)):\n",
    "        if (ord(l[i][-1])>=32 and ord(l[i][-1])<=47) or (ord(l[i][-1])>=58 and ord(l[i][-1])<=64) or (ord(l[i][-1])>=91 and ord(l[i][-1])<=96) or (ord(l[i][-1])>=123 and ord(l[i][-1])<=126):\n",
    "            s1=''\n",
    "            for j in range(len(l[i])-1):\n",
    "                s1=s1+l[i][j]\n",
    "            l[i]=s1\n",
    "    count=0\n",
    "    for i in range(len(l)):\n",
    "        if len(l[i])>1:\n",
    "            if l[i][0]==l[i][-1] or l[i][0].swapcase()==l[i][-1]:\n",
    "                count=count+1\n",
    "    return count"
   ]
  },
  {
   "cell_type": "code",
   "execution_count": 7,
   "id": "c8ae220b",
   "metadata": {},
   "outputs": [
    {
     "data": {
      "text/plain": [
       "1"
      ]
     },
     "execution_count": 7,
     "metadata": {},
     "output_type": "execute_result"
    }
   ],
   "source": [
    "count_same_ends(\"Pop! goes the balloon\")"
   ]
  },
  {
   "cell_type": "code",
   "execution_count": 8,
   "id": "df179fe0",
   "metadata": {},
   "outputs": [
    {
     "data": {
      "text/plain": [
       "0"
      ]
     },
     "execution_count": 8,
     "metadata": {},
     "output_type": "execute_result"
    }
   ],
   "source": [
    "count_same_ends(\"And the crowd goes wild!\") "
   ]
  },
  {
   "cell_type": "code",
   "execution_count": 9,
   "id": "03452a0b",
   "metadata": {},
   "outputs": [
    {
     "data": {
      "text/plain": [
       "1"
      ]
     },
     "execution_count": 9,
     "metadata": {},
     "output_type": "execute_result"
    }
   ],
   "source": [
    "count_same_ends(\"No I am not in a gang.\")"
   ]
  },
  {
   "cell_type": "code",
   "execution_count": 26,
   "id": "ead6c7a3",
   "metadata": {},
   "outputs": [],
   "source": [
    "#2.\n",
    "\n",
    "def atbash(s):\n",
    "    l='abcdefghijklmnopqrstuvwxyz'\n",
    "    m='ABCDEFGHIJKLMNOPQRSTUVWXYZ'\n",
    "    s1=''\n",
    "    for i in range(len(s)):\n",
    "        if s[i] in l:\n",
    "            j=l.index(s[i])\n",
    "            s1=s1+l[len(l)-j-1]\n",
    "        if s[i] in m:\n",
    "            j=m.index(s[i])\n",
    "            s1=s1+m[len(m)-j-1]\n",
    "        if not(s[i] in l) and not(s[i] in m):\n",
    "            s1=s1+s[i]\n",
    "    return s1"
   ]
  },
  {
   "cell_type": "code",
   "execution_count": 27,
   "id": "f3061958",
   "metadata": {},
   "outputs": [
    {
     "data": {
      "text/plain": [
       "'Svool dliow!'"
      ]
     },
     "execution_count": 27,
     "metadata": {},
     "output_type": "execute_result"
    }
   ],
   "source": [
    "atbash(\"Hello world!\")"
   ]
  },
  {
   "cell_type": "code",
   "execution_count": 28,
   "id": "efb6db03",
   "metadata": {},
   "outputs": [
    {
     "data": {
      "text/plain": [
       "'Xsirhgnzh rh gsv 25gs lu Wvxvnyvi'"
      ]
     },
     "execution_count": 28,
     "metadata": {},
     "output_type": "execute_result"
    }
   ],
   "source": [
    "atbash(\"Christmas is the 25th of December\")"
   ]
  },
  {
   "cell_type": "code",
   "execution_count": 32,
   "id": "b70ff22e",
   "metadata": {},
   "outputs": [],
   "source": [
    "#3.\n",
    "\n",
    "class Employee:\n",
    "    def __init__(self, name, **kwargs):\n",
    "        s=name.split(' ')\n",
    "        self.name=s[0]\n",
    "        self.lastname=s[1]\n",
    "        for key in kwargs:\n",
    "            setattr(self, key, kwargs[key])"
   ]
  },
  {
   "cell_type": "code",
   "execution_count": 33,
   "id": "9be69fe4",
   "metadata": {},
   "outputs": [
    {
     "name": "stdout",
     "output_type": "stream",
     "text": [
      "Mary\n",
      "Major\n",
      "120000\n"
     ]
    }
   ],
   "source": [
    "mary = Employee(\"Mary Major\", salary=120000, )\n",
    "print(mary.name)\n",
    "print(mary.lastname)\n",
    "print(mary.salary)"
   ]
  },
  {
   "cell_type": "code",
   "execution_count": 34,
   "id": "8e191ce7",
   "metadata": {},
   "outputs": [
    {
     "name": "stdout",
     "output_type": "stream",
     "text": [
      "Richard\n",
      "Roe\n",
      "110000\n",
      "178\n"
     ]
    }
   ],
   "source": [
    "richard = Employee(\"Richard Roe\", salary=110000, height=178)\n",
    "print(richard.name)\n",
    "print(richard.lastname)\n",
    "print(richard.salary)\n",
    "print(richard.height)"
   ]
  },
  {
   "cell_type": "code",
   "execution_count": 36,
   "id": "75269e09",
   "metadata": {},
   "outputs": [
    {
     "name": "stdout",
     "output_type": "stream",
     "text": [
      "Giancarlo\n",
      "Rossi\n",
      "115000\n",
      "182\n",
      "Italian\n"
     ]
    }
   ],
   "source": [
    "giancarlo = Employee(\"Giancarlo Rossi\", salary=115000, height=182, nationality=\"Italian\")\n",
    "print(giancarlo.name)\n",
    "print(giancarlo.lastname)\n",
    "print(giancarlo.salary)\n",
    "print(giancarlo.height)\n",
    "print(giancarlo.nationality)"
   ]
  },
  {
   "cell_type": "code",
   "execution_count": null,
   "id": "a0bc8191",
   "metadata": {},
   "outputs": [],
   "source": []
  },
  {
   "cell_type": "code",
   "execution_count": 73,
   "id": "3e0bdb35",
   "metadata": {},
   "outputs": [],
   "source": [
    "#4.\n",
    "\n",
    "def can_see_stage(l):\n",
    "    if len(l)%2!=0:\n",
    "        for j in range(len(l)//2):\n",
    "            for i in range(len(l)):\n",
    "                if l[j][i]>l[j+1][i]:\n",
    "                    return False\n",
    "        return True\n",
    "    else:\n",
    "        for j in range(len(l)//2+1):\n",
    "            for i in range(len(l)):\n",
    "                if l[j][i]>l[j+1][i]:\n",
    "                    return False\n",
    "        return True"
   ]
  },
  {
   "cell_type": "code",
   "execution_count": 74,
   "id": "3f30c6d6",
   "metadata": {},
   "outputs": [
    {
     "data": {
      "text/plain": [
       "True"
      ]
     },
     "execution_count": 74,
     "metadata": {},
     "output_type": "execute_result"
    }
   ],
   "source": [
    "can_see_stage([\n",
    "  [1, 2, 3],\n",
    "  [4, 5, 6],\n",
    "  [7, 8, 9]\n",
    "])"
   ]
  },
  {
   "cell_type": "code",
   "execution_count": 75,
   "id": "a4bd9f81",
   "metadata": {},
   "outputs": [
    {
     "data": {
      "text/plain": [
       "True"
      ]
     },
     "execution_count": 75,
     "metadata": {},
     "output_type": "execute_result"
    }
   ],
   "source": [
    "can_see_stage([[1, 2, 3, 2, 1, 1],\n",
    "[2, 4, 4, 3, 2, 2],\n",
    "[5, 5, 5, 5, 4, 4],\n",
    "[6, 6, 7, 6, 5, 5]])"
   ]
  },
  {
   "cell_type": "code",
   "execution_count": 76,
   "id": "6b3d5c31",
   "metadata": {},
   "outputs": [
    {
     "data": {
      "text/plain": [
       "False"
      ]
     },
     "execution_count": 76,
     "metadata": {},
     "output_type": "execute_result"
    }
   ],
   "source": [
    "can_see_stage([[1, 2, 3, 2, 1, 1], \n",
    "[2, 4, 4, 3, 2, 2], \n",
    "[5, 5, 5, 10, 4, 4], \n",
    "[6, 6, 7, 6, 5, 5]])"
   ]
  },
  {
   "cell_type": "code",
   "execution_count": null,
   "id": "d2aa30c8",
   "metadata": {},
   "outputs": [],
   "source": []
  }
 ],
 "metadata": {
  "kernelspec": {
   "display_name": "Python 3 (ipykernel)",
   "language": "python",
   "name": "python3"
  },
  "language_info": {
   "codemirror_mode": {
    "name": "ipython",
    "version": 3
   },
   "file_extension": ".py",
   "mimetype": "text/x-python",
   "name": "python",
   "nbconvert_exporter": "python",
   "pygments_lexer": "ipython3",
   "version": "3.9.7"
  }
 },
 "nbformat": 4,
 "nbformat_minor": 5
}
